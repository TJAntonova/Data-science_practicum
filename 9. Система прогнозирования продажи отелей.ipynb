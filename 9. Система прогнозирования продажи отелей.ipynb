{
 "cells": [
  {
   "cell_type": "markdown",
   "metadata": {},
   "source": [
    "# Содержание\n",
    "1. [Обзор данных](#1)\n",
    "2. [Предобработка и исследовательский анализ данных](#2) \n",
    "3. [Формулировка ML-задачи на основе бизнес-задачи](#3)\n",
    "4. [Разработка модели ML](#4)\n",
    "5. [Портрет «ненадёжного» клиента](#5)\n",
    "6. [Общий вывод](#6)"
   ]
  },
  {
   "cell_type": "markdown",
   "metadata": {},
   "source": [
    "# Прогнозирование оттока клиентов в сети отелей «Как в гостях»"
   ]
  },
  {
   "cell_type": "markdown",
   "metadata": {},
   "source": [
    "**Заказчик исследования** — сеть отелей «Как в гостях». \n",
    "\n",
    "Чтобы привлечь клиентов, эта сеть отелей добавила на свой сайт возможность забронировать номер без предоплаты. Однако если клиент отменял бронирование, то компания терпела убытки. Сотрудники отеля могли, например, закупить продукты к приезду гостя или просто не успеть найти другого клиента.\n",
    "\n",
    "**Цель исследования** - разработать систему, которая предсказывает отказ от брони.\n",
    "\n",
    "Если модель покажет, что бронь будет отменена, клиенту предлагается внести депозит. Размер депозита — 80% от стоимости номера за одни сутки и затрат на разовую уборку. Деньги будут списаны со счёта клиента, если он всё же отменит бронь.\n",
    "\n",
    "**Задачи:**\n",
    "\n",
    "- подготовить данные;\n",
    "- построить две модели линейной регрессии на разных наборах данных:\n",
    "  - используя все данные из файла,\n",
    "  - используя только числовые переменные, исключив категориальные;\n",
    "- сравнить результаты работы линейной регрессии на двух наборах данных по метрикам RMSE, MAE и R2.\n",
    "\n",
    "**Описание данных**\n",
    "\n",
    "В таблицах hotel_train и hotel_test содержатся одинаковые столбцы:\n",
    "\n",
    "\n",
    "- id — номер записи;\n",
    "- adults — количество взрослых постояльцев;\n",
    "- arrival_date_year — год заезда;\n",
    "- arrival_date_month — месяц заезда;\n",
    "- arrival_date_week_number — неделя заезда;\n",
    "- arrival_date_day_of_month — день заезда;\n",
    "- babies — количество младенцев;\n",
    "- booking_changes — количество изменений параметров заказа;\n",
    "- children — количество детей от 3 до 14 лет;\n",
    "- country — гражданство постояльца;\n",
    "- customer_type — тип заказчика:\n",
    "    - Contract — договор с юридическим лицом;\n",
    "    - Group — групповой заезд;\n",
    "    - Transient — не связано с договором или групповым заездом;\n",
    "    - Transient-party — не связано с договором или групповым заездом, но связано с бронированием типа Transient.\n",
    "- days_in_waiting_list — сколько дней заказ ожидал подтверждения;\n",
    "- distribution_channel — канал дистрибуции заказа;\n",
    "- is_canceled — отмена заказа;\n",
    "- is_repeated_guest — признак того, что гость бронирует номер второй раз;\n",
    "- lead_time — количество дней между датой бронирования и датой прибытия;\n",
    "- meal — опции заказа:\n",
    "    - SC — нет дополнительных опций;\n",
    "    - BB — включён завтрак;\n",
    "    - HB — включён завтрак и обед;\n",
    "    - FB — включён завтрак, обед и ужин.\n",
    "- previous_bookings_not_canceled — количество подтверждённых заказов у клиента;\n",
    "- previous_cancellations — количество отменённых заказов у клиента;\n",
    "- required_car_parking_spaces — необходимость места для автомобиля;\n",
    "- reserved_room_type — тип забронированной комнаты;\n",
    "- stays_in_weekend_nights — количество ночей в выходные дни;\n",
    "- stays_in_week_nights — количество ночей в будние дни;\n",
    "- total_nights — общее количество ночей;\n",
    "- total_of_special_requests — количество специальных отметок."
   ]
  },
  {
   "cell_type": "markdown",
   "metadata": {},
   "source": [
    "## Обзор Данных <a id=\"1\"></a>"
   ]
  },
  {
   "cell_type": "markdown",
   "metadata": {},
   "source": [
    "### Подключение необходимых библиотек."
   ]
  },
  {
   "cell_type": "code",
   "execution_count": 1,
   "metadata": {},
   "outputs": [],
   "source": [
    "import matplotlib.pyplot as plt\n",
    "import seaborn as sns; sns.set()\n",
    "\n",
    "from sklearn.preprocessing import OrdinalEncoder \n",
    "from sklearn.preprocessing import OneHotEncoder\n",
    "\n",
    "import numpy as np\n",
    "import pandas as pd\n",
    "\n",
    "from sklearn.model_selection import train_test_split\n",
    "from sklearn.model_selection import cross_val_score\n",
    "from sklearn.linear_model import LinearRegression\n",
    "from sklearn.linear_model import LogisticRegression\n",
    "from sklearn.tree import DecisionTreeClassifier\n",
    "from sklearn.ensemble import RandomForestClassifier\n",
    "\n",
    "from sklearn.preprocessing import StandardScaler\n",
    "\n",
    "\n",
    "from sklearn.utils import shuffle\n",
    "import warnings\n",
    "warnings.filterwarnings('ignore')\n",
    "from sklearn.metrics import f1_score, precision_score, recall_score, accuracy_score, roc_auc_score, roc_curve"
   ]
  },
  {
   "cell_type": "code",
   "execution_count": 2,
   "metadata": {},
   "outputs": [],
   "source": [
    "pd.set_option('max_columns', None)\n",
    "pd.set_option('max_rows', None)"
   ]
  },
  {
   "cell_type": "markdown",
   "metadata": {},
   "source": [
    "### Открытие и изучение данных."
   ]
  },
  {
   "cell_type": "code",
   "execution_count": 3,
   "metadata": {},
   "outputs": [],
   "source": [
    "server_path = '/datasets/'\n",
    "local_path = ''\n",
    "train = 'hotel_train.csv'\n",
    "test = 'hotel_test.csv'\n",
    "\n",
    "try:\n",
    "    data_train = pd.read_csv(server_path + train)  \n",
    "    data_test = pd.read_csv(server_path + test)\n",
    "except: \n",
    "    data_train = pd.read_csv(local_path + train)  \n",
    "    data_test = pd.read_csv(local_path + test)"
   ]
  },
  {
   "cell_type": "code",
   "execution_count": 4,
   "metadata": {},
   "outputs": [
    {
     "data": {
      "text/html": [
       "<div>\n",
       "<style scoped>\n",
       "    .dataframe tbody tr th:only-of-type {\n",
       "        vertical-align: middle;\n",
       "    }\n",
       "\n",
       "    .dataframe tbody tr th {\n",
       "        vertical-align: top;\n",
       "    }\n",
       "\n",
       "    .dataframe thead th {\n",
       "        text-align: right;\n",
       "    }\n",
       "</style>\n",
       "<table border=\"1\" class=\"dataframe\">\n",
       "  <thead>\n",
       "    <tr style=\"text-align: right;\">\n",
       "      <th></th>\n",
       "      <th>id</th>\n",
       "      <th>is_canceled</th>\n",
       "      <th>lead_time</th>\n",
       "      <th>arrival_date_year</th>\n",
       "      <th>arrival_date_month</th>\n",
       "      <th>arrival_date_week_number</th>\n",
       "      <th>arrival_date_day_of_month</th>\n",
       "      <th>stays_in_weekend_nights</th>\n",
       "      <th>stays_in_week_nights</th>\n",
       "      <th>adults</th>\n",
       "      <th>children</th>\n",
       "      <th>babies</th>\n",
       "      <th>meal</th>\n",
       "      <th>country</th>\n",
       "      <th>distribution_channel</th>\n",
       "      <th>is_repeated_guest</th>\n",
       "      <th>previous_cancellations</th>\n",
       "      <th>previous_bookings_not_canceled</th>\n",
       "      <th>reserved_room_type</th>\n",
       "      <th>booking_changes</th>\n",
       "      <th>days_in_waiting_list</th>\n",
       "      <th>customer_type</th>\n",
       "      <th>required_car_parking_spaces</th>\n",
       "      <th>total_of_special_requests</th>\n",
       "      <th>total_nights</th>\n",
       "    </tr>\n",
       "  </thead>\n",
       "  <tbody>\n",
       "    <tr>\n",
       "      <th>0</th>\n",
       "      <td>0</td>\n",
       "      <td>0</td>\n",
       "      <td>7.0</td>\n",
       "      <td>2015</td>\n",
       "      <td>July</td>\n",
       "      <td>27</td>\n",
       "      <td>1</td>\n",
       "      <td>0</td>\n",
       "      <td>1</td>\n",
       "      <td>1.0</td>\n",
       "      <td>0.0</td>\n",
       "      <td>0.0</td>\n",
       "      <td>BB</td>\n",
       "      <td>GBR</td>\n",
       "      <td>Direct</td>\n",
       "      <td>0</td>\n",
       "      <td>0</td>\n",
       "      <td>0</td>\n",
       "      <td>A</td>\n",
       "      <td>0</td>\n",
       "      <td>0</td>\n",
       "      <td>Transient</td>\n",
       "      <td>0</td>\n",
       "      <td>0</td>\n",
       "      <td>1</td>\n",
       "    </tr>\n",
       "    <tr>\n",
       "      <th>1</th>\n",
       "      <td>1</td>\n",
       "      <td>0</td>\n",
       "      <td>14.0</td>\n",
       "      <td>2015</td>\n",
       "      <td>July</td>\n",
       "      <td>27</td>\n",
       "      <td>1</td>\n",
       "      <td>0</td>\n",
       "      <td>2</td>\n",
       "      <td>2.0</td>\n",
       "      <td>0.0</td>\n",
       "      <td>0.0</td>\n",
       "      <td>BB</td>\n",
       "      <td>GBR</td>\n",
       "      <td>TA/TO</td>\n",
       "      <td>0</td>\n",
       "      <td>0</td>\n",
       "      <td>0</td>\n",
       "      <td>A</td>\n",
       "      <td>0</td>\n",
       "      <td>0</td>\n",
       "      <td>Transient</td>\n",
       "      <td>0</td>\n",
       "      <td>1</td>\n",
       "      <td>2</td>\n",
       "    </tr>\n",
       "    <tr>\n",
       "      <th>2</th>\n",
       "      <td>2</td>\n",
       "      <td>0</td>\n",
       "      <td>0.0</td>\n",
       "      <td>2015</td>\n",
       "      <td>July</td>\n",
       "      <td>27</td>\n",
       "      <td>1</td>\n",
       "      <td>0</td>\n",
       "      <td>2</td>\n",
       "      <td>2.0</td>\n",
       "      <td>0.0</td>\n",
       "      <td>0.0</td>\n",
       "      <td>BB</td>\n",
       "      <td>PRT</td>\n",
       "      <td>Direct</td>\n",
       "      <td>0</td>\n",
       "      <td>0</td>\n",
       "      <td>0</td>\n",
       "      <td>C</td>\n",
       "      <td>0</td>\n",
       "      <td>0</td>\n",
       "      <td>Transient</td>\n",
       "      <td>0</td>\n",
       "      <td>0</td>\n",
       "      <td>2</td>\n",
       "    </tr>\n",
       "    <tr>\n",
       "      <th>3</th>\n",
       "      <td>3</td>\n",
       "      <td>0</td>\n",
       "      <td>9.0</td>\n",
       "      <td>2015</td>\n",
       "      <td>July</td>\n",
       "      <td>27</td>\n",
       "      <td>1</td>\n",
       "      <td>0</td>\n",
       "      <td>2</td>\n",
       "      <td>2.0</td>\n",
       "      <td>0.0</td>\n",
       "      <td>0.0</td>\n",
       "      <td>FB</td>\n",
       "      <td>PRT</td>\n",
       "      <td>Direct</td>\n",
       "      <td>0</td>\n",
       "      <td>0</td>\n",
       "      <td>0</td>\n",
       "      <td>C</td>\n",
       "      <td>0</td>\n",
       "      <td>0</td>\n",
       "      <td>Transient</td>\n",
       "      <td>0</td>\n",
       "      <td>1</td>\n",
       "      <td>2</td>\n",
       "    </tr>\n",
       "    <tr>\n",
       "      <th>4</th>\n",
       "      <td>4</td>\n",
       "      <td>1</td>\n",
       "      <td>85.0</td>\n",
       "      <td>2015</td>\n",
       "      <td>July</td>\n",
       "      <td>27</td>\n",
       "      <td>1</td>\n",
       "      <td>0</td>\n",
       "      <td>3</td>\n",
       "      <td>2.0</td>\n",
       "      <td>0.0</td>\n",
       "      <td>0.0</td>\n",
       "      <td>BB</td>\n",
       "      <td>PRT</td>\n",
       "      <td>TA/TO</td>\n",
       "      <td>0</td>\n",
       "      <td>0</td>\n",
       "      <td>0</td>\n",
       "      <td>A</td>\n",
       "      <td>0</td>\n",
       "      <td>0</td>\n",
       "      <td>Transient</td>\n",
       "      <td>0</td>\n",
       "      <td>1</td>\n",
       "      <td>3</td>\n",
       "    </tr>\n",
       "  </tbody>\n",
       "</table>\n",
       "</div>"
      ],
      "text/plain": [
       "   id  is_canceled  lead_time  arrival_date_year arrival_date_month  \\\n",
       "0   0            0        7.0               2015               July   \n",
       "1   1            0       14.0               2015               July   \n",
       "2   2            0        0.0               2015               July   \n",
       "3   3            0        9.0               2015               July   \n",
       "4   4            1       85.0               2015               July   \n",
       "\n",
       "   arrival_date_week_number  arrival_date_day_of_month  \\\n",
       "0                        27                          1   \n",
       "1                        27                          1   \n",
       "2                        27                          1   \n",
       "3                        27                          1   \n",
       "4                        27                          1   \n",
       "\n",
       "   stays_in_weekend_nights  stays_in_week_nights  adults  children  babies  \\\n",
       "0                        0                     1     1.0       0.0     0.0   \n",
       "1                        0                     2     2.0       0.0     0.0   \n",
       "2                        0                     2     2.0       0.0     0.0   \n",
       "3                        0                     2     2.0       0.0     0.0   \n",
       "4                        0                     3     2.0       0.0     0.0   \n",
       "\n",
       "        meal country distribution_channel  is_repeated_guest  \\\n",
       "0  BB            GBR               Direct                  0   \n",
       "1  BB            GBR                TA/TO                  0   \n",
       "2  BB            PRT               Direct                  0   \n",
       "3  FB            PRT               Direct                  0   \n",
       "4  BB            PRT                TA/TO                  0   \n",
       "\n",
       "   previous_cancellations  previous_bookings_not_canceled reserved_room_type  \\\n",
       "0                       0                               0   A                  \n",
       "1                       0                               0   A                  \n",
       "2                       0                               0   C                  \n",
       "3                       0                               0   C                  \n",
       "4                       0                               0   A                  \n",
       "\n",
       "   booking_changes  days_in_waiting_list customer_type  \\\n",
       "0                0                     0     Transient   \n",
       "1                0                     0     Transient   \n",
       "2                0                     0     Transient   \n",
       "3                0                     0     Transient   \n",
       "4                0                     0     Transient   \n",
       "\n",
       "   required_car_parking_spaces  total_of_special_requests  total_nights  \n",
       "0                            0                          0             1  \n",
       "1                            0                          1             2  \n",
       "2                            0                          0             2  \n",
       "3                            0                          1             2  \n",
       "4                            0                          1             3  "
      ]
     },
     "execution_count": 4,
     "metadata": {},
     "output_type": "execute_result"
    }
   ],
   "source": [
    "data_train.head(5)"
   ]
  },
  {
   "cell_type": "code",
   "execution_count": 5,
   "metadata": {},
   "outputs": [
    {
     "data": {
      "text/html": [
       "<div>\n",
       "<style scoped>\n",
       "    .dataframe tbody tr th:only-of-type {\n",
       "        vertical-align: middle;\n",
       "    }\n",
       "\n",
       "    .dataframe tbody tr th {\n",
       "        vertical-align: top;\n",
       "    }\n",
       "\n",
       "    .dataframe thead th {\n",
       "        text-align: right;\n",
       "    }\n",
       "</style>\n",
       "<table border=\"1\" class=\"dataframe\">\n",
       "  <thead>\n",
       "    <tr style=\"text-align: right;\">\n",
       "      <th></th>\n",
       "      <th>id</th>\n",
       "      <th>is_canceled</th>\n",
       "      <th>lead_time</th>\n",
       "      <th>arrival_date_year</th>\n",
       "      <th>arrival_date_month</th>\n",
       "      <th>arrival_date_week_number</th>\n",
       "      <th>arrival_date_day_of_month</th>\n",
       "      <th>stays_in_weekend_nights</th>\n",
       "      <th>stays_in_week_nights</th>\n",
       "      <th>adults</th>\n",
       "      <th>children</th>\n",
       "      <th>babies</th>\n",
       "      <th>meal</th>\n",
       "      <th>country</th>\n",
       "      <th>distribution_channel</th>\n",
       "      <th>is_repeated_guest</th>\n",
       "      <th>previous_cancellations</th>\n",
       "      <th>previous_bookings_not_canceled</th>\n",
       "      <th>reserved_room_type</th>\n",
       "      <th>booking_changes</th>\n",
       "      <th>days_in_waiting_list</th>\n",
       "      <th>customer_type</th>\n",
       "      <th>required_car_parking_spaces</th>\n",
       "      <th>total_of_special_requests</th>\n",
       "      <th>total_nights</th>\n",
       "    </tr>\n",
       "  </thead>\n",
       "  <tbody>\n",
       "    <tr>\n",
       "      <th>0</th>\n",
       "      <td>6086</td>\n",
       "      <td>1</td>\n",
       "      <td>74.0</td>\n",
       "      <td>2017</td>\n",
       "      <td>January</td>\n",
       "      <td>1</td>\n",
       "      <td>1</td>\n",
       "      <td>1</td>\n",
       "      <td>0</td>\n",
       "      <td>2.0</td>\n",
       "      <td>0.0</td>\n",
       "      <td>0.0</td>\n",
       "      <td>BB</td>\n",
       "      <td>PRT</td>\n",
       "      <td>TA/TO</td>\n",
       "      <td>0</td>\n",
       "      <td>0</td>\n",
       "      <td>0</td>\n",
       "      <td>A</td>\n",
       "      <td>0</td>\n",
       "      <td>0</td>\n",
       "      <td>Transient</td>\n",
       "      <td>0</td>\n",
       "      <td>0</td>\n",
       "      <td>1</td>\n",
       "    </tr>\n",
       "    <tr>\n",
       "      <th>1</th>\n",
       "      <td>6087</td>\n",
       "      <td>1</td>\n",
       "      <td>62.0</td>\n",
       "      <td>2017</td>\n",
       "      <td>January</td>\n",
       "      <td>1</td>\n",
       "      <td>1</td>\n",
       "      <td>2</td>\n",
       "      <td>2</td>\n",
       "      <td>2.0</td>\n",
       "      <td>0.0</td>\n",
       "      <td>0.0</td>\n",
       "      <td>BB</td>\n",
       "      <td>AUT</td>\n",
       "      <td>TA/TO</td>\n",
       "      <td>0</td>\n",
       "      <td>0</td>\n",
       "      <td>0</td>\n",
       "      <td>A</td>\n",
       "      <td>0</td>\n",
       "      <td>0</td>\n",
       "      <td>Transient</td>\n",
       "      <td>0</td>\n",
       "      <td>1</td>\n",
       "      <td>4</td>\n",
       "    </tr>\n",
       "    <tr>\n",
       "      <th>2</th>\n",
       "      <td>6088</td>\n",
       "      <td>1</td>\n",
       "      <td>62.0</td>\n",
       "      <td>2017</td>\n",
       "      <td>January</td>\n",
       "      <td>1</td>\n",
       "      <td>1</td>\n",
       "      <td>2</td>\n",
       "      <td>2</td>\n",
       "      <td>2.0</td>\n",
       "      <td>0.0</td>\n",
       "      <td>0.0</td>\n",
       "      <td>BB</td>\n",
       "      <td>AUT</td>\n",
       "      <td>TA/TO</td>\n",
       "      <td>0</td>\n",
       "      <td>0</td>\n",
       "      <td>0</td>\n",
       "      <td>A</td>\n",
       "      <td>0</td>\n",
       "      <td>0</td>\n",
       "      <td>Transient</td>\n",
       "      <td>0</td>\n",
       "      <td>1</td>\n",
       "      <td>4</td>\n",
       "    </tr>\n",
       "    <tr>\n",
       "      <th>3</th>\n",
       "      <td>6089</td>\n",
       "      <td>1</td>\n",
       "      <td>71.0</td>\n",
       "      <td>2017</td>\n",
       "      <td>January</td>\n",
       "      <td>1</td>\n",
       "      <td>1</td>\n",
       "      <td>2</td>\n",
       "      <td>2</td>\n",
       "      <td>1.0</td>\n",
       "      <td>0.0</td>\n",
       "      <td>0.0</td>\n",
       "      <td>BB</td>\n",
       "      <td>PRT</td>\n",
       "      <td>TA/TO</td>\n",
       "      <td>0</td>\n",
       "      <td>0</td>\n",
       "      <td>0</td>\n",
       "      <td>A</td>\n",
       "      <td>0</td>\n",
       "      <td>0</td>\n",
       "      <td>Transient</td>\n",
       "      <td>0</td>\n",
       "      <td>1</td>\n",
       "      <td>4</td>\n",
       "    </tr>\n",
       "    <tr>\n",
       "      <th>4</th>\n",
       "      <td>6090</td>\n",
       "      <td>1</td>\n",
       "      <td>172.0</td>\n",
       "      <td>2017</td>\n",
       "      <td>January</td>\n",
       "      <td>1</td>\n",
       "      <td>1</td>\n",
       "      <td>2</td>\n",
       "      <td>5</td>\n",
       "      <td>2.0</td>\n",
       "      <td>0.0</td>\n",
       "      <td>0.0</td>\n",
       "      <td>BB</td>\n",
       "      <td>BEL</td>\n",
       "      <td>TA/TO</td>\n",
       "      <td>0</td>\n",
       "      <td>0</td>\n",
       "      <td>0</td>\n",
       "      <td>A</td>\n",
       "      <td>0</td>\n",
       "      <td>0</td>\n",
       "      <td>Transient</td>\n",
       "      <td>0</td>\n",
       "      <td>0</td>\n",
       "      <td>7</td>\n",
       "    </tr>\n",
       "  </tbody>\n",
       "</table>\n",
       "</div>"
      ],
      "text/plain": [
       "     id  is_canceled  lead_time  arrival_date_year arrival_date_month  \\\n",
       "0  6086            1       74.0               2017            January   \n",
       "1  6087            1       62.0               2017            January   \n",
       "2  6088            1       62.0               2017            January   \n",
       "3  6089            1       71.0               2017            January   \n",
       "4  6090            1      172.0               2017            January   \n",
       "\n",
       "   arrival_date_week_number  arrival_date_day_of_month  \\\n",
       "0                         1                          1   \n",
       "1                         1                          1   \n",
       "2                         1                          1   \n",
       "3                         1                          1   \n",
       "4                         1                          1   \n",
       "\n",
       "   stays_in_weekend_nights  stays_in_week_nights  adults  children  babies  \\\n",
       "0                        1                     0     2.0       0.0     0.0   \n",
       "1                        2                     2     2.0       0.0     0.0   \n",
       "2                        2                     2     2.0       0.0     0.0   \n",
       "3                        2                     2     1.0       0.0     0.0   \n",
       "4                        2                     5     2.0       0.0     0.0   \n",
       "\n",
       "        meal country distribution_channel  is_repeated_guest  \\\n",
       "0  BB            PRT                TA/TO                  0   \n",
       "1  BB            AUT                TA/TO                  0   \n",
       "2  BB            AUT                TA/TO                  0   \n",
       "3  BB            PRT                TA/TO                  0   \n",
       "4  BB            BEL                TA/TO                  0   \n",
       "\n",
       "   previous_cancellations  previous_bookings_not_canceled reserved_room_type  \\\n",
       "0                       0                               0   A                  \n",
       "1                       0                               0   A                  \n",
       "2                       0                               0   A                  \n",
       "3                       0                               0   A                  \n",
       "4                       0                               0   A                  \n",
       "\n",
       "   booking_changes  days_in_waiting_list customer_type  \\\n",
       "0                0                     0     Transient   \n",
       "1                0                     0     Transient   \n",
       "2                0                     0     Transient   \n",
       "3                0                     0     Transient   \n",
       "4                0                     0     Transient   \n",
       "\n",
       "   required_car_parking_spaces  total_of_special_requests  total_nights  \n",
       "0                            0                          0             1  \n",
       "1                            0                          1             4  \n",
       "2                            0                          1             4  \n",
       "3                            0                          1             4  \n",
       "4                            0                          0             7  "
      ]
     },
     "execution_count": 5,
     "metadata": {},
     "output_type": "execute_result"
    }
   ],
   "source": [
    "data_test.head(5)"
   ]
  },
  {
   "cell_type": "code",
   "execution_count": 6,
   "metadata": {},
   "outputs": [],
   "source": [
    "#data_train.info()"
   ]
  },
  {
   "cell_type": "code",
   "execution_count": 7,
   "metadata": {},
   "outputs": [],
   "source": [
    "#data_test.info()"
   ]
  },
  {
   "cell_type": "markdown",
   "metadata": {},
   "source": [
    "Пропусков не выявлено. Проверим данные на наличие дубликатов."
   ]
  },
  {
   "cell_type": "code",
   "execution_count": 8,
   "metadata": {},
   "outputs": [],
   "source": [
    "def unique_check(data):\n",
    "    columns = data.columns\n",
    "    for c in columns:\n",
    "        print(c.upper(), '\\n', data[c].unique(), '\\n')"
   ]
  },
  {
   "cell_type": "code",
   "execution_count": 9,
   "metadata": {},
   "outputs": [],
   "source": [
    "#unique_check(data_train)"
   ]
  },
  {
   "cell_type": "code",
   "execution_count": 10,
   "metadata": {},
   "outputs": [],
   "source": [
    "#unique_check(data_test)"
   ]
  },
  {
   "cell_type": "code",
   "execution_count": 11,
   "metadata": {},
   "outputs": [
    {
     "data": {
      "text/plain": [
       "0"
      ]
     },
     "execution_count": 11,
     "metadata": {},
     "output_type": "execute_result"
    }
   ],
   "source": [
    "data_train.duplicated().sum()"
   ]
  },
  {
   "cell_type": "code",
   "execution_count": 12,
   "metadata": {},
   "outputs": [
    {
     "data": {
      "text/plain": [
       "0"
      ]
     },
     "execution_count": 12,
     "metadata": {},
     "output_type": "execute_result"
    }
   ],
   "source": [
    "data_test.duplicated().sum()"
   ]
  },
  {
   "cell_type": "markdown",
   "metadata": {},
   "source": [
    "Дубликатов не обнаружено."
   ]
  },
  {
   "cell_type": "markdown",
   "metadata": {},
   "source": [
    "Целевой признак для модели - столбец is_canceled. Проверим баланс классов для обучения."
   ]
  },
  {
   "cell_type": "code",
   "execution_count": 13,
   "metadata": {},
   "outputs": [
    {
     "data": {
      "text/plain": [
       "0    41185\n",
       "1    24044\n",
       "Name: is_canceled, dtype: int64"
      ]
     },
     "execution_count": 13,
     "metadata": {},
     "output_type": "execute_result"
    }
   ],
   "source": [
    "data_train['is_canceled'].value_counts()"
   ]
  },
  {
   "cell_type": "markdown",
   "metadata": {},
   "source": [
    "## Вывод по шагу 1.\n",
    "\n",
    "В некоторых столбцах (lead_time, adults, children, babies) следует заменить тип данных с float на int для удобства дальнейшего исследования. В значениях столбцов reserved_room_type и meal нужно убрать пробелы. Пропусков и дубликатов в данных нет. Перед обучением модели классы следует сбалансировать. В следующем шаге проведем исследовательский анализ."
   ]
  },
  {
   "cell_type": "markdown",
   "metadata": {},
   "source": [
    "## Предобработка и исследовательский анализ данных <a id=\"2\"></a>"
   ]
  },
  {
   "cell_type": "markdown",
   "metadata": {},
   "source": [
    "Заменим типы данных."
   ]
  },
  {
   "cell_type": "code",
   "execution_count": 14,
   "metadata": {},
   "outputs": [],
   "source": [
    "columns = ['lead_time', 'adults', 'children', 'babies']\n",
    "for c in columns:\n",
    "    data_train[c] = data_train[c].astype('int64')\n",
    "    data_test[c] = data_test[c].astype('int64')"
   ]
  },
  {
   "cell_type": "markdown",
   "metadata": {},
   "source": [
    "Исправим значения столбца 'reserved_room_type' и 'meal'."
   ]
  },
  {
   "cell_type": "code",
   "execution_count": 15,
   "metadata": {},
   "outputs": [],
   "source": [
    "data_train['reserved_room_type'] = data_train['reserved_room_type'].str.strip()\n",
    "data_train['meal'] = data_train['meal'].str.strip()\n",
    "data_test['reserved_room_type'] = data_test['reserved_room_type'].str.strip()\n",
    "data_test['meal'] = data_test['meal'].str.strip()"
   ]
  },
  {
   "cell_type": "markdown",
   "metadata": {},
   "source": [
    "Произведем на этом этапе прямое кодирование, чтобы захватить больше данных при анализе."
   ]
  },
  {
   "cell_type": "code",
   "execution_count": 16,
   "metadata": {},
   "outputs": [],
   "source": [
    "data_ohe = pd.get_dummies(data_train, drop_first=True)"
   ]
  },
  {
   "cell_type": "code",
   "execution_count": 17,
   "metadata": {},
   "outputs": [],
   "source": [
    "#data_ohe.head(5)"
   ]
  },
  {
   "cell_type": "code",
   "execution_count": 18,
   "metadata": {},
   "outputs": [],
   "source": [
    "#data_ohe.describe().T"
   ]
  },
  {
   "cell_type": "markdown",
   "metadata": {},
   "source": [
    "- В среднем клиенты бронируют номера за три месяца до заезда.\n",
    "- В данных представлены данные за два года - 2015 и 2016, распределены равномерно по месяцам и дням месяца.\n",
    "- Гости бронируют гостиницу на срок от одного до 10 дней, в большинстве случаев - на три дня.\n",
    "- Номера бронируются в основном на двух взрослых, есть необычное значение на номера для гостей с 10-ю младенцами.\n",
    "- В основном бронь происходит от новых гостей, но есть и те, кто постоянно возвращается (58 раз).\n",
    "- 1% гостей уже отменяли бронирование раньше, кто-то из гостей отменял бронирование уже 26 раз.\n",
    "- В основном заказ подтверждается в течение трех дней.\n",
    "- Бронирование парковки не пользуется популярностью среди гостей."
   ]
  },
  {
   "cell_type": "markdown",
   "metadata": {},
   "source": [
    "Странно, что в некоторых записях о бронировании количество взрослых равно нулю. Проверим, ошибка ли это."
   ]
  },
  {
   "cell_type": "code",
   "execution_count": 19,
   "metadata": {},
   "outputs": [],
   "source": [
    "#data_train.query('adults == 0')['children']"
   ]
  },
  {
   "cell_type": "code",
   "execution_count": 20,
   "metadata": {},
   "outputs": [],
   "source": [
    "#data_train.query('adults == 0 & children == 0')['babies']"
   ]
  },
  {
   "cell_type": "code",
   "execution_count": 21,
   "metadata": {},
   "outputs": [],
   "source": [
    "#data_train.query('adults == 0 & children == 0')"
   ]
  },
  {
   "cell_type": "markdown",
   "metadata": {},
   "source": [
    "Похоже на аномалию. Заменим нули кол-вом взрослых = 2 (медианное по выборке)."
   ]
  },
  {
   "cell_type": "code",
   "execution_count": 22,
   "metadata": {},
   "outputs": [],
   "source": [
    "data_train['adults'] = data_train['adults'].replace(0, np.nan).bfill()\n",
    "data_train['adults'] = data_train['adults'].fillna(2)\n",
    "data_test['adults'] = data_test['adults'].replace(0, np.nan).bfill()\n",
    "data_test['adults'] = data_test['adults'].fillna(2)"
   ]
  },
  {
   "cell_type": "code",
   "execution_count": 23,
   "metadata": {},
   "outputs": [
    {
     "data": {
      "text/plain": [
       "2.0    24290\n",
       "1.0     6289\n",
       "3.0     1824\n",
       "4.0        9\n",
       "Name: adults, dtype: int64"
      ]
     },
     "execution_count": 23,
     "metadata": {},
     "output_type": "execute_result"
    }
   ],
   "source": [
    "data_test['adults'].value_counts()"
   ]
  },
  {
   "cell_type": "markdown",
   "metadata": {},
   "source": [
    "Посмотрим на средние значения признаков в двух группах - тех, кто отменил бронирование и тех, кто заселился."
   ]
  },
  {
   "cell_type": "code",
   "execution_count": 24,
   "metadata": {},
   "outputs": [],
   "source": [
    "#data_train[data_train['is_canceled']==1].describe().T"
   ]
  },
  {
   "cell_type": "code",
   "execution_count": 25,
   "metadata": {},
   "outputs": [],
   "source": [
    "#data_train[data_train['is_canceled']==0].describe().T"
   ]
  },
  {
   "cell_type": "markdown",
   "metadata": {},
   "source": [
    "- По таблице видно, что чем больше дней остается до заезда, тем чаще бронирование отменяют.\n",
    "- Логично, что часто отменяющие бронирование гости, отменили его и в этот раз.\n",
    "- Среди отмененных записей клиент ожидал подверждения в среднем 5 дней, среди тех, кто бронь не отменил - 2 дня."
   ]
  },
  {
   "cell_type": "markdown",
   "metadata": {},
   "source": [
    "Построим столбчатые гистограммы и распределения признаков для тех, кто ушел и тех, кто остался."
   ]
  },
  {
   "cell_type": "code",
   "execution_count": 26,
   "metadata": {},
   "outputs": [],
   "source": [
    "#numeric = [column for column in data_train][2:4] + [column for column in data_train][5:12] + [column for column in data_train][15:18] + [column for column in data_train][19:21] + [column for column in data_train][22:]"
   ]
  },
  {
   "cell_type": "code",
   "execution_count": 27,
   "metadata": {},
   "outputs": [],
   "source": [
    "#canceled = data_train[data_train['is_canceled']==1]\n",
    "#stayed = data_train[data_train['is_canceled']==0]\n",
    "#distplot_columns = numeric\n",
    "#for column in distplot_columns: \n",
    "#  plt.figure(figsize=(10,4)) \n",
    "#  plt.title(column)\n",
    "#  sns.distplot(canceled[column])\n",
    "#  sns.distplot(stayed[column])\n",
    "#  plt.legend(['Отток', 'Оставшиеся'])\n",
    "#  plt.show()"
   ]
  },
  {
   "cell_type": "markdown",
   "metadata": {},
   "source": [
    "Построим матрицу корреляции признаков."
   ]
  },
  {
   "cell_type": "code",
   "execution_count": 28,
   "metadata": {},
   "outputs": [],
   "source": [
    "#plt.figure(figsize=(20,20))\n",
    "#sns.heatmap(data = data_train.corr(), annot=True, square=True, cmap='YlGnBu')\n",
    "#plt.title('Матрица корреляций')\n",
    "#plt.show()"
   ]
  },
  {
   "cell_type": "markdown",
   "metadata": {},
   "source": [
    "Явной зависимости факта оттока от признаков не обнаружено.\n",
    "Имеются два мультиколлинеарных признака - stays_in_week_nights и total_nights."
   ]
  },
  {
   "cell_type": "markdown",
   "metadata": {},
   "source": [
    "Cудя по описанию, total_nights — это сумма stays_in_week_nights и stays_in_weekend_nights, проверим так ли это."
   ]
  },
  {
   "cell_type": "code",
   "execution_count": 29,
   "metadata": {},
   "outputs": [
    {
     "name": "stdout",
     "output_type": "stream",
     "text": [
      "Lists are equal\n"
     ]
    }
   ],
   "source": [
    "l = set(list(data_train[['stays_in_week_nights','stays_in_weekend_nights']].sum(axis=1)))\n",
    "ll = set(list(data_train['total_nights']))\n",
    "if l == ll: \n",
    "    print(\"Lists are equal\") \n",
    "else: \n",
    "    print(\"Lists are not equal\")\n"
   ]
  },
  {
   "cell_type": "markdown",
   "metadata": {},
   "source": [
    "Удалим лишние столбцы и стоблбец id, он не несет значимости для модели."
   ]
  },
  {
   "cell_type": "code",
   "execution_count": 30,
   "metadata": {},
   "outputs": [
    {
     "name": "stdout",
     "output_type": "stream",
     "text": [
      "0\n",
      "0\n"
     ]
    }
   ],
   "source": [
    "data_train = data_train.drop(['stays_in_week_nights', 'stays_in_weekend_nights', 'id'], axis=1)\n",
    "data_test = data_test.drop(['stays_in_week_nights', 'stays_in_weekend_nights', 'id'], axis=1)\n",
    "data_train = data_train.drop_duplicates()\n",
    "data_test = data_test.drop_duplicates()\n",
    "print(data_train.duplicated().sum())\n",
    "print(data_test.duplicated().sum())"
   ]
  },
  {
   "cell_type": "markdown",
   "metadata": {},
   "source": [
    "### Вывод по шагу 3.\n",
    "\n",
    "Данные готовы к решению задачи. Были удалены лишние столбцы, заменены типы данных, удалены пробелы в столбцах.\n",
    "\n",
    "Был произведен исследовательский анализ данных, отмечены общие особенности по всей выборке, произведено сравнение средних значений признаков в двух группах - тех, кто отменил бронирование и тех, кто заселился, проверена корреляция признаков.\n",
    "В данных имеются выбросы, но они не сильно влияют на среднее значение по выборке."
   ]
  },
  {
   "cell_type": "markdown",
   "metadata": {},
   "source": [
    "## Формулировка ML-задачи на основе бизнес-задачи <a id=\"3\"></a>"
   ]
  },
  {
   "cell_type": "markdown",
   "metadata": {},
   "source": [
    "В отеле есть несколько типов номеров. В зависимости от типа номера назначается стоимость за одну ночь. Есть также затраты на уборку. Если клиент снял номер надолго, то убираются каждые два дня. \n",
    "\n",
    "Стоимость номеров отеля:\n",
    "\n",
    "- категория A: за ночь — 1 000, разовое обслуживание — 400;\n",
    "- категория B: за ночь — 800, разовое обслуживание — 350;\n",
    "- категория C: за ночь — 600, разовое обслуживание — 350;\n",
    "- категория D: за ночь — 550, разовое обслуживание — 150;\n",
    "- категория E: за ночь — 500, разовое обслуживание — 150;\n",
    "- категория F: за ночь — 450, разовое обслуживание — 150;\n",
    "- категория G: за ночь — 350, разовое обслуживание — 150.\n",
    "\n",
    "В ценовой политике отеля используются сезонные коэффициенты: весной и осенью цены повышаются на 20%, летом — на 40%.\n",
    "Убытки отеля в случае отмены брони номера — это стоимость одной уборки и одной ночи с учётом сезонного коэффициента."
   ]
  },
  {
   "cell_type": "markdown",
   "metadata": {},
   "source": [
    "Создадим функцию, присваивающую указанные цены по типу номера и функцию подсчета прибыли."
   ]
  },
  {
   "cell_type": "code",
   "execution_count": 31,
   "metadata": {},
   "outputs": [],
   "source": [
    "def prices(df):\n",
    "    df['room_cost'] = df['reserved_room_type'].map({'A':1000,'B':800, 'C':600,'D':550,'E':500,'F':450,'G':350})\n",
    "    df['cleaning_cost'] = df['reserved_room_type'].map({'A':400,'B':350, 'C':350,'D':150,'E':150,'F':150,'G':150})\n",
    "    return df"
   ]
  },
  {
   "cell_type": "code",
   "execution_count": 32,
   "metadata": {},
   "outputs": [],
   "source": [
    "def profit(row, deposite):\n",
    "    \n",
    "    room_cost = row['room_cost']\n",
    "    cleaning_cost = row['cleaning_cost']\n",
    "    winter = ['December', 'January', 'February']\n",
    "    summer = ['June', 'July', 'August']\n",
    "    \n",
    "    n = row['total_nights']\n",
    "    \n",
    "    \n",
    "    if row['is_canceled'] == 0:\n",
    "        expenses = cleaning_cost*(1 + n // 2)\n",
    "        \n",
    "        if row['arrival_date_month'] in winter:\n",
    "            revenue = room_cost*n \n",
    "                \n",
    "        elif row['arrival_date_month'] in summer:   \n",
    "            revenue = room_cost*n + room_cost*n*0.4\n",
    "        \n",
    "        else: \n",
    "            revenue = room_cost*n + room_cost*n*0.2\n",
    "                \n",
    "    else:\n",
    "        \n",
    "        if row['arrival_date_month'] in winter:\n",
    "            expenses = cleaning_cost + room_cost\n",
    "                \n",
    "        elif row['arrival_date_month'] in summer:   \n",
    "            expenses = cleaning_cost + room_cost + room_cost*0.4\n",
    "        \n",
    "        else: \n",
    "            expenses = cleaning_cost + room_cost + room_cost*0.2\n",
    "        \n",
    "        if deposite == 'on' and row['predictions'] == 1:\n",
    "            revenue = expenses*0.8\n",
    "        else:\n",
    "            revenue = 0\n",
    "\n",
    "    return revenue - expenses\n",
    "    \n",
    "    "
   ]
  },
  {
   "cell_type": "code",
   "execution_count": 33,
   "metadata": {},
   "outputs": [
    {
     "name": "stdout",
     "output_type": "stream",
     "text": [
      "Общая прибыль гостиницы без внедрения депозитов за 2017 год: 32683030.0 рублей.\n",
      "Из-за отмены бронирования гостиница потеряла за 2017 год: 10571770.0 рублей.\n"
     ]
    }
   ],
   "source": [
    "df = data_test.copy()\n",
    "df['profit'] = prices(df).apply(profit, deposite='off', axis=1)\n",
    "print('Общая прибыль гостиницы без внедрения депозитов за 2017 год:', df['profit'].sum(), 'рублей.')\n",
    "print('Из-за отмены бронирования гостиница потеряла за 2017 год:', abs(df.query('is_canceled == 1')['profit'].sum()), 'рублей.')"
   ]
  },
  {
   "cell_type": "markdown",
   "metadata": {},
   "source": [
    "### Вывод по шагу 4.\n",
    "\n",
    "За 2017 год прибыль составляет 32 млн. рублей, 10 миллионов гостиница потеряла из-за отмен."
   ]
  },
  {
   "cell_type": "markdown",
   "metadata": {},
   "source": [
    "## Разработка модели ML <a id=\"4\"></a>"
   ]
  },
  {
   "cell_type": "markdown",
   "metadata": {},
   "source": [
    "### Подготовка данных."
   ]
  },
  {
   "cell_type": "code",
   "execution_count": 34,
   "metadata": {},
   "outputs": [],
   "source": [
    "target_train = data_train['is_canceled']\n",
    "features_train = data_train.drop('is_canceled', axis=1)\n",
    "target_test = data_test['is_canceled']\n",
    "features_test = data_test.drop('is_canceled', axis=1)"
   ]
  },
  {
   "cell_type": "code",
   "execution_count": 35,
   "metadata": {},
   "outputs": [],
   "source": [
    "numeric = ['lead_time', 'arrival_date_year', 'arrival_date_week_number', 'arrival_date_day_of_month',  'adults', 'children', 'babies', 'is_repeated_guest', 'previous_cancellations', 'previous_bookings_not_canceled', 'booking_changes', 'days_in_waiting_list', 'required_car_parking_spaces', 'total_of_special_requests', 'total_nights']\n",
    "cat = ['arrival_date_month', 'meal', 'country', 'distribution_channel', 'reserved_room_type', 'customer_type']"
   ]
  },
  {
   "cell_type": "code",
   "execution_count": 36,
   "metadata": {},
   "outputs": [
    {
     "name": "stdout",
     "output_type": "stream",
     "text": [
      "(43852, 21) (24695, 21)\n",
      "(43852,) (24695,)\n",
      "(43852, 862) (24695, 862)\n",
      "(43852,) (24695,)\n"
     ]
    }
   ],
   "source": [
    "encoder = OrdinalEncoder() \n",
    "scaler = StandardScaler() \n",
    "ohe = OneHotEncoder(sparse=False, handle_unknown='ignore')\n",
    "\n",
    "tree_features_train = encoder.fit_transform(features_train, target_train)\n",
    "tree_features_test = encoder.fit_transform(features_test, target_test)\n",
    "\n",
    "features_train[numeric] = scaler.fit_transform(features_train[numeric])\n",
    "features_test[numeric] = scaler.transform(features_test[numeric])\n",
    "lg_features_train = ohe.fit_transform(features_train, target_train)\n",
    "lg_features_test = ohe.transform(features_test)\n",
    "\n",
    "\n",
    "\n",
    "print(tree_features_train.shape, tree_features_test.shape)\n",
    "print(target_train.shape, target_test.shape)\n",
    "\n",
    "print(lg_features_train.shape, lg_features_test.shape)\n",
    "print(target_train.shape, target_test.shape)"
   ]
  },
  {
   "cell_type": "code",
   "execution_count": 37,
   "metadata": {},
   "outputs": [
    {
     "data": {
      "text/plain": [
       "0    32704\n",
       "1    11148\n",
       "Name: is_canceled, dtype: int64"
      ]
     },
     "execution_count": 37,
     "metadata": {},
     "output_type": "execute_result"
    }
   ],
   "source": [
    "target_train.value_counts()"
   ]
  },
  {
   "cell_type": "markdown",
   "metadata": {},
   "source": [
    "Попробуем обучить три модели - дерево решений, случайный лес, логистическую регрессию без и с исправлением дисбаланса."
   ]
  },
  {
   "cell_type": "markdown",
   "metadata": {},
   "source": [
    "Для получения максимальной прибыли нам необходимо минимизировать количество ложноотрицательных ответов модели, поэтому подбирать лучшую по качеству будем по метрике recall. Чем меньше ложноотрицательных срабатываний, тем выше recall модели."
   ]
  },
  {
   "cell_type": "markdown",
   "metadata": {},
   "source": [
    "### Дерево решений."
   ]
  },
  {
   "cell_type": "markdown",
   "metadata": {},
   "source": [
    "Настроим гиперпараметры."
   ]
  },
  {
   "cell_type": "code",
   "execution_count": 38,
   "metadata": {},
   "outputs": [
    {
     "data": {
      "text/plain": [
       "\"\\nbest_depth = 0\\nbest_recall = 0\\n\\nfor depth in range(1,101):\\n    model = DecisionTreeClassifier(random_state=12345, max_depth=depth)\\n    model.fit(tree_features_train, target_train)\\n    predicted = model.predict(tree_features_test)\\n    recall = recall_score(target_test, predicted)\\n    if recall > best_recall:\\n        best_depth = depth\\n        best_recall = recall\\n\\nprint('Лучшая глубина дерева:', best_depth)\\nprint('Лучшее значение recall:', best_recall)  \\n\""
      ]
     },
     "execution_count": 38,
     "metadata": {},
     "output_type": "execute_result"
    }
   ],
   "source": [
    "'''\n",
    "best_depth = 0\n",
    "best_recall = 0\n",
    "\n",
    "for depth in range(1,101):\n",
    "    model = DecisionTreeClassifier(random_state=12345, max_depth=depth)\n",
    "    model.fit(tree_features_train, target_train)\n",
    "    predicted = model.predict(tree_features_test)\n",
    "    recall = recall_score(target_test, predicted)\n",
    "    if recall > best_recall:\n",
    "        best_depth = depth\n",
    "        best_recall = recall\n",
    "\n",
    "print('Лучшая глубина дерева:', best_depth)\n",
    "print('Лучшее значение recall:', best_recall)  \n",
    "'''"
   ]
  },
  {
   "cell_type": "code",
   "execution_count": 39,
   "metadata": {},
   "outputs": [
    {
     "data": {
      "text/plain": [
       "\"\\nbest_ss = 0\\nbest_recall = 0\\n\\nfor ss in range(2,101):\\n    model = DecisionTreeClassifier(random_state=12345, max_depth=5, min_samples_split=ss)\\n    model.fit(tree_features_train, target_train)\\n    predicted = model.predict(tree_features_test)\\n    recall = recall_score(target_test, predicted)\\n    if recall > best_recall:\\n        best_ss = ss\\n        best_recall = recall\\n\\nprint('Лучшee значение параметра min_samples_split:', best_ss)\\nprint('Лучшее значение recall:', best_recall) \\n\""
      ]
     },
     "execution_count": 39,
     "metadata": {},
     "output_type": "execute_result"
    }
   ],
   "source": [
    "'''\n",
    "best_ss = 0\n",
    "best_recall = 0\n",
    "\n",
    "for ss in range(2,101):\n",
    "    model = DecisionTreeClassifier(random_state=12345, max_depth=5, min_samples_split=ss)\n",
    "    model.fit(tree_features_train, target_train)\n",
    "    predicted = model.predict(tree_features_test)\n",
    "    recall = recall_score(target_test, predicted)\n",
    "    if recall > best_recall:\n",
    "        best_ss = ss\n",
    "        best_recall = recall\n",
    "\n",
    "print('Лучшee значение параметра min_samples_split:', best_ss)\n",
    "print('Лучшее значение recall:', best_recall) \n",
    "'''"
   ]
  },
  {
   "cell_type": "code",
   "execution_count": 40,
   "metadata": {},
   "outputs": [
    {
     "data": {
      "text/plain": [
       "\"\\nbest_ll = 0\\nbest_recall = 0\\n\\nfor ll in range(1,101):\\n    model = DecisionTreeClassifier(random_state=12345, max_depth=5, min_samples_split=2,min_samples_leaf=ll)\\n    model.fit(tree_features_train, target_train)\\n    predicted = model.predict(tree_features_test)\\n    recall = recall_score(target_test, predicted)\\n    if recall > best_recall:\\n        best_ll = ll\\n        best_recall = recall\\n\\nprint('Лучшee значение параметра min_samples_leaf:', best_ll)\\nprint('Лучшее значение recall:', best_recall) \\n\""
      ]
     },
     "execution_count": 40,
     "metadata": {},
     "output_type": "execute_result"
    }
   ],
   "source": [
    "'''\n",
    "best_ll = 0\n",
    "best_recall = 0\n",
    "\n",
    "for ll in range(1,101):\n",
    "    model = DecisionTreeClassifier(random_state=12345, max_depth=5, min_samples_split=2,min_samples_leaf=ll)\n",
    "    model.fit(tree_features_train, target_train)\n",
    "    predicted = model.predict(tree_features_test)\n",
    "    recall = recall_score(target_test, predicted)\n",
    "    if recall > best_recall:\n",
    "        best_ll = ll\n",
    "        best_recall = recall\n",
    "\n",
    "print('Лучшee значение параметра min_samples_leaf:', best_ll)\n",
    "print('Лучшее значение recall:', best_recall) \n",
    "'''"
   ]
  },
  {
   "cell_type": "code",
   "execution_count": 41,
   "metadata": {},
   "outputs": [
    {
     "data": {
      "text/plain": [
       "\"\\ntree_model = DecisionTreeClassifier(random_state=12345, max_depth=5, min_samples_split=2,min_samples_leaf=1)\\ntree_model.fit(tree_features_train, target_train)\\npredicted = tree_model.predict(tree_features_test)\\nscores = cross_val_score(tree_model, tree_features_test, target_test, cv=5, scoring='recall')\\nfinal_score = sum(scores) / len(scores)\\nfinal_score\\n\""
      ]
     },
     "execution_count": 41,
     "metadata": {},
     "output_type": "execute_result"
    }
   ],
   "source": [
    "'''\n",
    "tree_model = DecisionTreeClassifier(random_state=12345, max_depth=5, min_samples_split=2,min_samples_leaf=1)\n",
    "tree_model.fit(tree_features_train, target_train)\n",
    "predicted = tree_model.predict(tree_features_test)\n",
    "scores = cross_val_score(tree_model, tree_features_test, target_test, cv=5, scoring='recall')\n",
    "final_score = sum(scores) / len(scores)\n",
    "final_score\n",
    "'''"
   ]
  },
  {
   "cell_type": "code",
   "execution_count": 42,
   "metadata": {},
   "outputs": [
    {
     "data": {
      "text/plain": [
       "0.6633269107257547"
      ]
     },
     "execution_count": 42,
     "metadata": {},
     "output_type": "execute_result"
    }
   ],
   "source": [
    "tree_model1 = DecisionTreeClassifier(random_state=12345, max_depth=5, min_samples_split=2,min_samples_leaf=1, class_weight='balanced')\n",
    "tree_model1.fit(tree_features_train, target_train)\n",
    "predicted = tree_model1.predict(tree_features_test)\n",
    "scores = cross_val_score(tree_model1, tree_features_test, target_test, cv=5, scoring='recall')\n",
    "final_score = sum(scores) / len(scores)\n",
    "final_score"
   ]
  },
  {
   "cell_type": "markdown",
   "metadata": {},
   "source": [
    "### Случайный лес."
   ]
  },
  {
   "cell_type": "code",
   "execution_count": 43,
   "metadata": {},
   "outputs": [
    {
     "data": {
      "text/plain": [
       "\"\\nbest_estim = 0\\nbest_recall = 0\\n\\nfor estim in range(1,101):\\n    model = RandomForestClassifier(random_state=12345, n_estimators=estim)\\n    model.fit(tree_features_train, target_train)\\n    predicted = model.predict(tree_features_test)\\n    recall = recall_score(target_test, predicted)\\n    \\n    if recall > best_recall:\\n        best_estim = estim\\n        best_recall = recall\\n\\nprint('Лучшее количество деревьев:', best_estim)\\nprint('Лучшее значение recall:', best_recall)  \\n\""
      ]
     },
     "execution_count": 43,
     "metadata": {},
     "output_type": "execute_result"
    }
   ],
   "source": [
    "'''\n",
    "best_estim = 0\n",
    "best_recall = 0\n",
    "\n",
    "for estim in range(1,101):\n",
    "    model = RandomForestClassifier(random_state=12345, n_estimators=estim)\n",
    "    model.fit(tree_features_train, target_train)\n",
    "    predicted = model.predict(tree_features_test)\n",
    "    recall = recall_score(target_test, predicted)\n",
    "    \n",
    "    if recall > best_recall:\n",
    "        best_estim = estim\n",
    "        best_recall = recall\n",
    "\n",
    "print('Лучшее количество деревьев:', best_estim)\n",
    "print('Лучшее значение recall:', best_recall)  \n",
    "'''"
   ]
  },
  {
   "cell_type": "code",
   "execution_count": 44,
   "metadata": {},
   "outputs": [
    {
     "data": {
      "text/plain": [
       "\"\\nff = ['sqrt', 'log2', 'auto']\\n\\nfor f in ff:\\n    model = RandomForestClassifier(random_state=12345, n_estimators=1, max_features=f)\\n    model.fit(tree_features_train, target_train)\\n    predicted = model.predict(tree_features_test)\\n    recall = recall_score(target_test, predicted)\\n    \\n    print(f)\\n    print(recall)  \\n\""
      ]
     },
     "execution_count": 44,
     "metadata": {},
     "output_type": "execute_result"
    }
   ],
   "source": [
    "'''\n",
    "ff = ['sqrt', 'log2', 'auto']\n",
    "\n",
    "for f in ff:\n",
    "    model = RandomForestClassifier(random_state=12345, n_estimators=1, max_features=f)\n",
    "    model.fit(tree_features_train, target_train)\n",
    "    predicted = model.predict(tree_features_test)\n",
    "    recall = recall_score(target_test, predicted)\n",
    "    \n",
    "    print(f)\n",
    "    print(recall)  \n",
    "'''"
   ]
  },
  {
   "cell_type": "code",
   "execution_count": 45,
   "metadata": {},
   "outputs": [
    {
     "data": {
      "text/plain": [
       "\"\\ncc = ['gini', 'entropy']\\nfor c in cc:\\n    model = RandomForestClassifier(random_state=12345, n_estimators=1, criterion=c)\\n    model.fit(tree_features_train, target_train)\\n    predicted = model.predict(tree_features_test)\\n    recall = recall_score(target_test, predicted)\\n    \\n    print(c)\\n    print(recall) \\n\""
      ]
     },
     "execution_count": 45,
     "metadata": {},
     "output_type": "execute_result"
    }
   ],
   "source": [
    "'''\n",
    "cc = ['gini', 'entropy']\n",
    "for c in cc:\n",
    "    model = RandomForestClassifier(random_state=12345, n_estimators=1, criterion=c)\n",
    "    model.fit(tree_features_train, target_train)\n",
    "    predicted = model.predict(tree_features_test)\n",
    "    recall = recall_score(target_test, predicted)\n",
    "    \n",
    "    print(c)\n",
    "    print(recall) \n",
    "'''"
   ]
  },
  {
   "cell_type": "code",
   "execution_count": 46,
   "metadata": {},
   "outputs": [
    {
     "data": {
      "text/plain": [
       "\"\\nforest_model = RandomForestClassifier(random_state=12345,n_estimators=1, criterion='entropy')\\nforest_model.fit(tree_features_train, target_train)  \\npredicted = forest_model.predict(tree_features_test)\\nscores = cross_val_score(forest_model, tree_features_test, target_test,  cv=5, scoring='recall')\\nfinal_score = sum(scores) / len(scores)\\nfinal_score\\n\""
      ]
     },
     "execution_count": 46,
     "metadata": {},
     "output_type": "execute_result"
    }
   ],
   "source": [
    "'''\n",
    "forest_model = RandomForestClassifier(random_state=12345,n_estimators=1, criterion='entropy')\n",
    "forest_model.fit(tree_features_train, target_train)  \n",
    "predicted = forest_model.predict(tree_features_test)\n",
    "scores = cross_val_score(forest_model, tree_features_test, target_test,  cv=5, scoring='recall')\n",
    "final_score = sum(scores) / len(scores)\n",
    "final_score\n",
    "'''"
   ]
  },
  {
   "cell_type": "code",
   "execution_count": 47,
   "metadata": {},
   "outputs": [
    {
     "data": {
      "text/plain": [
       "\"\\nforest_model1 = RandomForestClassifier(random_state=12345,n_estimators=1, criterion='entropy', class_weight='balanced')\\nforest_model1.fit(tree_features_train, target_train)  \\npredicted = forest_model1.predict(tree_features_test)\\nscores = cross_val_score(forest_model1, tree_features_test, target_test,  cv=5, scoring='recall')\\nfinal_score = sum(scores) / len(scores)\\nfinal_score\\n\""
      ]
     },
     "execution_count": 47,
     "metadata": {},
     "output_type": "execute_result"
    }
   ],
   "source": [
    "'''\n",
    "forest_model1 = RandomForestClassifier(random_state=12345,n_estimators=1, criterion='entropy', class_weight='balanced')\n",
    "forest_model1.fit(tree_features_train, target_train)  \n",
    "predicted = forest_model1.predict(tree_features_test)\n",
    "scores = cross_val_score(forest_model1, tree_features_test, target_test,  cv=5, scoring='recall')\n",
    "final_score = sum(scores) / len(scores)\n",
    "final_score\n",
    "'''"
   ]
  },
  {
   "cell_type": "markdown",
   "metadata": {},
   "source": [
    "### Логистическая регрессия"
   ]
  },
  {
   "cell_type": "code",
   "execution_count": 48,
   "metadata": {},
   "outputs": [
    {
     "data": {
      "text/plain": [
       "\"\\npp = ['lbfgs', 'liblinear', 'newton-cg', 'sag', 'saga']\\nfor p in pp:\\n    model = LogisticRegression(random_state=12345, solver=p)\\n    model.fit(lg_features_train, target_train)\\n    predicted = model.predict(lg_features_test)\\n    recall = recall_score(target_test, predicted)\\n    \\n    print(p)\\n    print(recall)  \\n    \\n\""
      ]
     },
     "execution_count": 48,
     "metadata": {},
     "output_type": "execute_result"
    }
   ],
   "source": [
    "'''\n",
    "pp = ['lbfgs', 'liblinear', 'newton-cg', 'sag', 'saga']\n",
    "for p in pp:\n",
    "    model = LogisticRegression(random_state=12345, solver=p)\n",
    "    model.fit(lg_features_train, target_train)\n",
    "    predicted = model.predict(lg_features_test)\n",
    "    recall = recall_score(target_test, predicted)\n",
    "    \n",
    "    print(p)\n",
    "    print(recall)  \n",
    "    \n",
    "'''"
   ]
  },
  {
   "cell_type": "markdown",
   "metadata": {},
   "source": [
    "lbfgs\n",
    "0.35863840719332046\n",
    "liblinear\n",
    "0.38098908156711625\n",
    "newton-cg\n",
    "0.20192678227360308\n",
    "sag\n",
    "0.20655105973025048\n",
    "saga\n",
    "0.23596660244059087"
   ]
  },
  {
   "cell_type": "code",
   "execution_count": 49,
   "metadata": {},
   "outputs": [
    {
     "data": {
      "text/plain": [
       "\"\\nmax_iter = 0\\nbest_recall = 0\\n\\nfor i in range(1,101):\\n    model = LogisticRegression(random_state=12345, solver='liblinear', max_iter=i)\\n    model.fit(lg_features_train, target_train)\\n    predicted = model.predict(lg_features_test)\\n    recall = recall_score(target_test, predicted)\\n    \\n    if recall > best_recall:\\n        best_iter = i\\n        best_recall = recall\\n\\nprint('best_iter:', best_iter)\\nprint('Лучшее значение recall:', best_recall)  \\n\""
      ]
     },
     "execution_count": 49,
     "metadata": {},
     "output_type": "execute_result"
    }
   ],
   "source": [
    "'''\n",
    "max_iter = 0\n",
    "best_recall = 0\n",
    "\n",
    "for i in range(1,101):\n",
    "    model = LogisticRegression(random_state=12345, solver='liblinear', max_iter=i)\n",
    "    model.fit(lg_features_train, target_train)\n",
    "    predicted = model.predict(lg_features_test)\n",
    "    recall = recall_score(target_test, predicted)\n",
    "    \n",
    "    if recall > best_recall:\n",
    "        best_iter = i\n",
    "        best_recall = recall\n",
    "\n",
    "print('best_iter:', best_iter)\n",
    "print('Лучшее значение recall:', best_recall)  \n",
    "'''"
   ]
  },
  {
   "cell_type": "markdown",
   "metadata": {},
   "source": [
    "best_iter: 10\n",
    "Лучшее значение recall: 0.38098908156711625"
   ]
  },
  {
   "cell_type": "code",
   "execution_count": 50,
   "metadata": {},
   "outputs": [
    {
     "data": {
      "text/plain": [
       "\"\\nlog_model =  LogisticRegression(random_state=12345, solver='liblinear', max_iter=10)\\nlog_model.fit(lg_features_train, target_train)\\npredicted_valid = log_model.predict(lg_features_test)\\nscores = cross_val_score(log_model, tree_features_test, target_test,  cv=5, scoring='recall')\\nfinal_score = sum(scores) / len(scores)\\nfinal_score\\n\""
      ]
     },
     "execution_count": 50,
     "metadata": {},
     "output_type": "execute_result"
    }
   ],
   "source": [
    "'''\n",
    "log_model =  LogisticRegression(random_state=12345, solver='liblinear', max_iter=10)\n",
    "log_model.fit(lg_features_train, target_train)\n",
    "predicted_valid = log_model.predict(lg_features_test)\n",
    "scores = cross_val_score(log_model, tree_features_test, target_test,  cv=5, scoring='recall')\n",
    "final_score = sum(scores) / len(scores)\n",
    "final_score\n",
    "'''"
   ]
  },
  {
   "cell_type": "code",
   "execution_count": 51,
   "metadata": {},
   "outputs": [
    {
     "data": {
      "text/plain": [
       "0.6296724470134875"
      ]
     },
     "execution_count": 51,
     "metadata": {},
     "output_type": "execute_result"
    }
   ],
   "source": [
    "log_model1 =  LogisticRegression(random_state=12345, solver='liblinear', max_iter=10, class_weight='balanced')\n",
    "log_model1.fit(lg_features_train, target_train)\n",
    "predicted_test = log_model1.predict(lg_features_test)\n",
    "scores = cross_val_score(log_model1, tree_features_test, target_test,  cv=5, scoring='recall')\n",
    "final_score = sum(scores) / len(scores)\n",
    "final_score"
   ]
  },
  {
   "cell_type": "markdown",
   "metadata": {},
   "source": [
    "Лучшая средняя оценка качества 0.6633269107257547 у дерева решений с балансом классов."
   ]
  },
  {
   "cell_type": "markdown",
   "metadata": {},
   "source": [
    "### Проверка на тестовой выборке."
   ]
  },
  {
   "cell_type": "code",
   "execution_count": 52,
   "metadata": {},
   "outputs": [],
   "source": [
    "predicted = tree_model1.predict(tree_features_test)"
   ]
  },
  {
   "cell_type": "code",
   "execution_count": 53,
   "metadata": {},
   "outputs": [
    {
     "name": "stdout",
     "output_type": "stream",
     "text": [
      "Accuracy: 0.6719173921846527\n",
      "Precision: 0.34536585365853656\n",
      "Recall: 0.045472061657032756\n",
      "F1: 0.08036322360953461\n"
     ]
    }
   ],
   "source": [
    "print('Accuracy:', accuracy_score(target_test, predicted))\n",
    "print('Precision:', precision_score(target_test, predicted))\n",
    "print('Recall:', recall_score(target_test, predicted))\n",
    "print('F1:', f1_score(target_test, predicted))"
   ]
  },
  {
   "cell_type": "code",
   "execution_count": 54,
   "metadata": {},
   "outputs": [],
   "source": [
    "predicted_lg = log_model1.predict(lg_features_test)"
   ]
  },
  {
   "cell_type": "code",
   "execution_count": 55,
   "metadata": {},
   "outputs": [
    {
     "name": "stdout",
     "output_type": "stream",
     "text": [
      "Accuracy: 0.6974286292771816\n",
      "Precision: 0.5149546106067845\n",
      "Recall: 0.692228644829801\n",
      "F1: 0.5905753424657535\n"
     ]
    }
   ],
   "source": [
    "print('Accuracy:', accuracy_score(target_test, predicted_lg))\n",
    "print('Precision:', precision_score(target_test, predicted_lg))\n",
    "print('Recall:', recall_score(target_test, predicted_lg))\n",
    "print('F1:', f1_score(target_test, predicted_lg))"
   ]
  },
  {
   "cell_type": "markdown",
   "metadata": {},
   "source": [
    "Целевая метрика recall, но сравнение по другим метрикам делает логистическую регрессию более презентабельной. Проверим roc-auc и применим функцию расчета прибыли к данным, полученным из обеих моделей."
   ]
  },
  {
   "cell_type": "code",
   "execution_count": 56,
   "metadata": {},
   "outputs": [
    {
     "data": {
      "text/plain": [
       "'\\nplt.figure(figsize=[12,9])\\n\\nplt.plot([0, 1], [0, 1], linestyle=\\'--\\', label=\\'RandomModel\\')\\n\\n\\n\\nprobabilities_test = tree_model1.predict_proba(tree_features_test)\\nprobabilities_one_valid = probabilities_test[:, 1]\\nfpr, tpr, thresholds = roc_curve(target_test, probabilities_one_valid)\\nauc_roc = roc_auc_score(target_test, probabilities_one_valid)\\nprint(\\'AUC-ROC DecisionTreeClassifier\\',auc_roc)\\nplt.plot(fpr, tpr, label=\\'DecisionTreeClassifier\\')\\n\\n\\n\\nprobabilities_test_lg = log_model1.predict_proba(lg_features_test)\\nprobabilities_one_valid = probabilities_test_lg[:, 1]\\nfpr, tpr, thresholds = roc_curve(target_test, probabilities_one_valid)\\nauc_roc = roc_auc_score(target_test, probabilities_one_valid)\\nprint(\\'AUC-ROC LogisticRegression\\',auc_roc)\\nplt.plot(fpr, tpr, label=\\'LogisticRegression\\')\\n\\n\\nplt.xlim([0,1])\\nplt.ylim([0,1])\\n\\nplt.xlabel(\"False Positive Rate\")\\nplt.ylabel(\"True Positive Rate\")\\n\\nplt.legend(loc=\\'lower right\\', fontsize=\\'x-large\\')\\n\\nplt.title(\"ROC-кривая\")\\nplt.show()\\n'"
      ]
     },
     "execution_count": 56,
     "metadata": {},
     "output_type": "execute_result"
    }
   ],
   "source": [
    "'''\n",
    "plt.figure(figsize=[12,9])\n",
    "\n",
    "plt.plot([0, 1], [0, 1], linestyle='--', label='RandomModel')\n",
    "\n",
    "\n",
    "\n",
    "probabilities_test = tree_model1.predict_proba(tree_features_test)\n",
    "probabilities_one_valid = probabilities_test[:, 1]\n",
    "fpr, tpr, thresholds = roc_curve(target_test, probabilities_one_valid)\n",
    "auc_roc = roc_auc_score(target_test, probabilities_one_valid)\n",
    "print('AUC-ROC DecisionTreeClassifier',auc_roc)\n",
    "plt.plot(fpr, tpr, label='DecisionTreeClassifier')\n",
    "\n",
    "\n",
    "\n",
    "probabilities_test_lg = log_model1.predict_proba(lg_features_test)\n",
    "probabilities_one_valid = probabilities_test_lg[:, 1]\n",
    "fpr, tpr, thresholds = roc_curve(target_test, probabilities_one_valid)\n",
    "auc_roc = roc_auc_score(target_test, probabilities_one_valid)\n",
    "print('AUC-ROC LogisticRegression',auc_roc)\n",
    "plt.plot(fpr, tpr, label='LogisticRegression')\n",
    "\n",
    "\n",
    "plt.xlim([0,1])\n",
    "plt.ylim([0,1])\n",
    "\n",
    "plt.xlabel(\"False Positive Rate\")\n",
    "plt.ylabel(\"True Positive Rate\")\n",
    "\n",
    "plt.legend(loc='lower right', fontsize='x-large')\n",
    "\n",
    "plt.title(\"ROC-кривая\")\n",
    "plt.show()\n",
    "'''"
   ]
  },
  {
   "cell_type": "markdown",
   "metadata": {},
   "source": [
    "Получили неплохое значение метрики roc-auc у логистической регрессии."
   ]
  },
  {
   "cell_type": "markdown",
   "metadata": {},
   "source": [
    "Ранее мы получили следующие данные:\n",
    "\n",
    "Общая прибыль гостиницы без внедрения депозитов за 2017 год: 32 683030 рублей.\n",
    "\n",
    "Из-за отмены бронирования гостиница потеряла за 2017 год: 10 571770 рублей."
   ]
  },
  {
   "cell_type": "code",
   "execution_count": 57,
   "metadata": {},
   "outputs": [],
   "source": [
    "new_data = data_test.copy()\n",
    "new_data['predictions'] = predicted"
   ]
  },
  {
   "cell_type": "code",
   "execution_count": 58,
   "metadata": {},
   "outputs": [
    {
     "name": "stdout",
     "output_type": "stream",
     "text": [
      "Общая прибыль гостиницы с внедрением депозитов за 2017 год: 33065182.0 рублей.\n",
      "Потери гостиницы с учетом ошибок модели составят: 10189618.0 рублей.\n",
      "Модель дерева решений поможет сохранить: 382152.0 рублей.\n"
     ]
    }
   ],
   "source": [
    "\n",
    "new_data['profit'] = prices(new_data).apply(profit, deposite='on', axis=1)\n",
    "\n",
    "print('Общая прибыль гостиницы с внедрением депозитов за 2017 год:', new_data['profit'].sum(), 'рублей.')\n",
    "print('Потери гостиницы с учетом ошибок модели составят:', abs(new_data.query('is_canceled == 1')['profit'].sum()), 'рублей.')\n",
    "print('Модель дерева решений поможет сохранить:', abs(df.query('is_canceled == 1')['profit'].sum()) - abs(new_data.query('is_canceled == 1')['profit'].sum()), 'рублей.')\n"
   ]
  },
  {
   "cell_type": "code",
   "execution_count": 59,
   "metadata": {},
   "outputs": [],
   "source": [
    "new_data_lg = data_test.copy()\n",
    "new_data_lg['predictions'] = predicted_lg"
   ]
  },
  {
   "cell_type": "code",
   "execution_count": 60,
   "metadata": {},
   "outputs": [
    {
     "name": "stdout",
     "output_type": "stream",
     "text": [
      "Общая прибыль гостиницы с внедрением депозитов за 2017 год: 38572574.0 рублей.\n",
      "Потери гостиницы с учетом ошибок модели составят: 4682226.0 рублей.\n",
      "Модель логистической регрессии поможет сохранить: 5889544.0 рублей.\n"
     ]
    }
   ],
   "source": [
    "\n",
    "new_data_lg['profit'] = prices(new_data_lg).apply(profit, deposite='on', axis=1)\n",
    "print('Общая прибыль гостиницы с внедрением депозитов за 2017 год:', new_data_lg['profit'].sum(), 'рублей.')\n",
    "print('Потери гостиницы с учетом ошибок модели составят:', abs(new_data_lg.query('is_canceled == 1')['profit'].sum()), 'рублей.')\n",
    "print('Модель логистической регрессии поможет сохранить:', abs(df.query('is_canceled == 1')['profit'].sum()) - abs(new_data_lg.query('is_canceled == 1')['profit'].sum()), 'рублей.')\n"
   ]
  },
  {
   "cell_type": "markdown",
   "metadata": {},
   "source": [
    "На разработку системы прогнозирования заложен бюджет — 400 000. Окупается только модель логистической регрессии."
   ]
  },
  {
   "cell_type": "markdown",
   "metadata": {},
   "source": [
    "### Вывод по шагу 5.\n",
    "Было обучено три модели: решающее дерево, случайный лес и логистическая регрессия. После устранения дисбаланса в классах лучший результат по средней оценке качества получили у модели случайного леса - 0.8616.\n",
    "\n",
    "Модель была применена на тестовой  выборке, значение метрики roc-auc =  0.807.\n",
    "\n",
    "Функция подсчета прибыли применена на пресказанных результатах. Прибыль бизнеса с внедрением модели увеличится на почти 6 миллионов."
   ]
  },
  {
   "cell_type": "markdown",
   "metadata": {},
   "source": [
    "## Портрет «ненадёжного» клиента <a id=\"5\"></a>"
   ]
  },
  {
   "cell_type": "code",
   "execution_count": 61,
   "metadata": {},
   "outputs": [],
   "source": [
    "data_ohe = pd.get_dummies(data_train, drop_first=True)"
   ]
  },
  {
   "cell_type": "code",
   "execution_count": 62,
   "metadata": {},
   "outputs": [
    {
     "name": "stdout",
     "output_type": "stream",
     "text": [
      "(32889, 195) (10963, 195)\n",
      "(32889,) (10963,)\n"
     ]
    }
   ],
   "source": [
    "target = data_ohe['is_canceled']\n",
    "features = data_ohe.drop('is_canceled', axis=1)\n",
    "\n",
    "features_train, features_valid, target_train, target_valid = train_test_split(features, target, test_size=0.25, \n",
    "                                                                              random_state=12345, stratify=target)\n",
    "\n",
    "\n",
    "scaler = StandardScaler(with_mean=False)\n",
    "features_train[numeric] = scaler.fit_transform(features_train[numeric])\n",
    "features_valid[numeric] = scaler.transform(features_valid[numeric])\n",
    "\n",
    "\n",
    "\n",
    "print(features_train.shape, features_valid.shape)\n",
    "print(target_train.shape, target_valid.shape)\n"
   ]
  },
  {
   "cell_type": "code",
   "execution_count": 63,
   "metadata": {},
   "outputs": [],
   "source": [
    "model = RandomForestClassifier(random_state=12345)\n",
    "model.fit(features_train, target_train)\n",
    "predicted_valid = model.predict(features_valid)"
   ]
  },
  {
   "cell_type": "markdown",
   "metadata": {},
   "source": [
    "Рассмотрим долю вклада каждого признака в итоговое предстказание."
   ]
  },
  {
   "cell_type": "code",
   "execution_count": 64,
   "metadata": {},
   "outputs": [],
   "source": [
    "#feat_import = pd.DataFrame(data = {'feature': features_train.columns, 'percent': model.feature_importances_})\n",
    "#feat_import.sort_values('percent', ascending=False).reset_index(drop=True)"
   ]
  },
  {
   "cell_type": "code",
   "execution_count": 65,
   "metadata": {},
   "outputs": [],
   "source": [
    "#data_test.query('is_canceled==1').describe().T"
   ]
  },
  {
   "cell_type": "code",
   "execution_count": 66,
   "metadata": {},
   "outputs": [],
   "source": [
    "#data_test.query('is_canceled==1')['total_nights'].value_counts()"
   ]
  },
  {
   "cell_type": "markdown",
   "metadata": {},
   "source": [
    "Наиболее важные признаки ненадежного клиента:\n",
    "\n",
    "- чем больше дней до заезда остается, тем вероятнее отмена бронирования\n",
    "- гости из Португалии отменяют бронирование чаще остальных\n",
    "- ненадежным является клиент с большим количеством специальных отметок\n",
    "- если клиент уже отменял бронирование раньше, вероятнее всего он отменит его и в этот раз\n",
    "- в среднем ненадежный клиент бронирует номер на 3-4 дня\n"
   ]
  },
  {
   "cell_type": "markdown",
   "metadata": {},
   "source": [
    "## Общий вывод <a id=\"6\"></a>"
   ]
  },
  {
   "cell_type": "markdown",
   "metadata": {},
   "source": [
    "В ходе исследования данные были подготовлены для обучения модели: удалены столбцы, не имеющие значимость, изменены типы данных, заменены значения в столбцах.\n",
    "\n",
    "Написана функция подсчета прибыли с учетом внедрения депозита и без.\n",
    "\n",
    "Обучены модели, на основе показателя лучшей средней оценки выбрана модель случайного леса для предсказания отмены бронирования. Метрика roc-auc равна 0.807.\n",
    "\n",
    "Использование модели в бизнесе может помочь увеличить прибыль гостиницы в два раза. Выделенный на разработку бюджет окупается.\n",
    "\n",
    "Составлен портрет \"ненадежного клиента\"."
   ]
  },
  {
   "cell_type": "code",
   "execution_count": null,
   "metadata": {},
   "outputs": [],
   "source": []
  }
 ],
 "metadata": {
  "ExecuteTimeLog": [
   {
    "duration": 2004,
    "start_time": "2023-02-07T20:46:38.336Z"
   },
   {
    "duration": 675,
    "start_time": "2023-02-07T20:49:57.827Z"
   },
   {
    "duration": 66,
    "start_time": "2023-02-07T20:51:12.334Z"
   },
   {
    "duration": 22,
    "start_time": "2023-02-07T20:51:24.287Z"
   },
   {
    "duration": 26,
    "start_time": "2023-02-07T20:51:33.794Z"
   },
   {
    "duration": 41,
    "start_time": "2023-02-07T20:52:35.577Z"
   },
   {
    "duration": 20,
    "start_time": "2023-02-07T20:53:40.297Z"
   },
   {
    "duration": 69,
    "start_time": "2023-02-07T21:02:09.118Z"
   },
   {
    "duration": 4,
    "start_time": "2023-02-07T21:03:03.123Z"
   },
   {
    "duration": 49,
    "start_time": "2023-02-07T21:03:22.475Z"
   },
   {
    "duration": 35,
    "start_time": "2023-02-07T21:05:03.322Z"
   },
   {
    "duration": 78,
    "start_time": "2023-02-07T21:06:05.645Z"
   },
   {
    "duration": 47,
    "start_time": "2023-02-07T21:06:23.184Z"
   },
   {
    "duration": 259,
    "start_time": "2023-02-07T21:15:20.136Z"
   },
   {
    "duration": 41,
    "start_time": "2023-02-07T21:17:32.070Z"
   },
   {
    "duration": 9,
    "start_time": "2023-02-07T21:18:27.994Z"
   },
   {
    "duration": 115,
    "start_time": "2023-02-07T21:21:19.489Z"
   },
   {
    "duration": 121,
    "start_time": "2023-02-07T21:22:36.685Z"
   },
   {
    "duration": 203,
    "start_time": "2023-02-07T21:26:49.033Z"
   },
   {
    "duration": 179,
    "start_time": "2023-02-07T21:27:27.517Z"
   },
   {
    "duration": 1724,
    "start_time": "2023-02-08T12:10:35.696Z"
   },
   {
    "duration": 873,
    "start_time": "2023-02-08T12:10:37.422Z"
   },
   {
    "duration": 34,
    "start_time": "2023-02-08T12:10:38.298Z"
   },
   {
    "duration": 29,
    "start_time": "2023-02-08T12:10:38.335Z"
   },
   {
    "duration": 58,
    "start_time": "2023-02-08T12:10:38.366Z"
   },
   {
    "duration": 24,
    "start_time": "2023-02-08T12:10:38.427Z"
   },
   {
    "duration": 15,
    "start_time": "2023-02-08T12:10:38.453Z"
   },
   {
    "duration": 70,
    "start_time": "2023-02-08T12:10:38.472Z"
   },
   {
    "duration": 60,
    "start_time": "2023-02-08T12:10:38.544Z"
   },
   {
    "duration": 14,
    "start_time": "2023-02-08T12:10:38.607Z"
   },
   {
    "duration": 76,
    "start_time": "2023-02-08T12:10:38.624Z"
   },
   {
    "duration": 30,
    "start_time": "2023-02-08T12:10:38.701Z"
   },
   {
    "duration": 118,
    "start_time": "2023-02-08T12:10:38.733Z"
   },
   {
    "duration": 155,
    "start_time": "2023-02-08T12:10:38.853Z"
   },
   {
    "duration": 38,
    "start_time": "2023-02-08T12:10:56.423Z"
   },
   {
    "duration": 10,
    "start_time": "2023-02-08T12:12:00.658Z"
   },
   {
    "duration": 33,
    "start_time": "2023-02-08T12:15:19.055Z"
   },
   {
    "duration": 1386,
    "start_time": "2023-02-08T12:30:12.025Z"
   },
   {
    "duration": 12,
    "start_time": "2023-02-08T12:30:41.182Z"
   },
   {
    "duration": 57,
    "start_time": "2023-02-08T12:30:53.916Z"
   },
   {
    "duration": 95,
    "start_time": "2023-02-08T12:31:54.535Z"
   },
   {
    "duration": 17,
    "start_time": "2023-02-08T12:35:27.213Z"
   },
   {
    "duration": 85,
    "start_time": "2023-02-08T12:35:30.679Z"
   },
   {
    "duration": 62,
    "start_time": "2023-02-08T12:38:05.650Z"
   },
   {
    "duration": 7,
    "start_time": "2023-02-08T12:40:18.929Z"
   },
   {
    "duration": 7,
    "start_time": "2023-02-08T12:40:40.066Z"
   },
   {
    "duration": 6,
    "start_time": "2023-02-08T13:01:59.482Z"
   },
   {
    "duration": 6,
    "start_time": "2023-02-08T13:02:44.467Z"
   },
   {
    "duration": 66,
    "start_time": "2023-02-08T13:16:40.947Z"
   },
   {
    "duration": 78,
    "start_time": "2023-02-08T13:16:56.308Z"
   },
   {
    "duration": 5,
    "start_time": "2023-02-08T13:51:11.934Z"
   },
   {
    "duration": 4,
    "start_time": "2023-02-08T13:52:07.672Z"
   },
   {
    "duration": 142,
    "start_time": "2023-02-08T13:52:29.370Z"
   },
   {
    "duration": 63,
    "start_time": "2023-02-08T13:53:17.669Z"
   },
   {
    "duration": 234,
    "start_time": "2023-02-08T13:53:23.467Z"
   },
   {
    "duration": 1927,
    "start_time": "2023-02-08T13:53:40.100Z"
   },
   {
    "duration": 5,
    "start_time": "2023-02-08T14:02:12.401Z"
   },
   {
    "duration": 172,
    "start_time": "2023-02-08T14:03:28.634Z"
   },
   {
    "duration": 182,
    "start_time": "2023-02-08T14:03:41.175Z"
   },
   {
    "duration": 5,
    "start_time": "2023-02-08T14:06:01.775Z"
   },
   {
    "duration": 28,
    "start_time": "2023-02-08T14:06:23.692Z"
   },
   {
    "duration": 56,
    "start_time": "2023-02-08T14:07:22.561Z"
   },
   {
    "duration": 1930,
    "start_time": "2023-02-08T14:08:45.727Z"
   },
   {
    "duration": 21001,
    "start_time": "2023-02-08T14:09:34.630Z"
   },
   {
    "duration": 1421,
    "start_time": "2023-02-08T14:12:56.460Z"
   },
   {
    "duration": 238,
    "start_time": "2023-02-08T14:12:57.883Z"
   },
   {
    "duration": 23,
    "start_time": "2023-02-08T14:12:58.123Z"
   },
   {
    "duration": 18,
    "start_time": "2023-02-08T14:12:58.148Z"
   },
   {
    "duration": 54,
    "start_time": "2023-02-08T14:12:58.168Z"
   },
   {
    "duration": 18,
    "start_time": "2023-02-08T14:12:58.224Z"
   },
   {
    "duration": 3,
    "start_time": "2023-02-08T14:12:58.244Z"
   },
   {
    "duration": 77,
    "start_time": "2023-02-08T14:12:58.248Z"
   },
   {
    "duration": 31,
    "start_time": "2023-02-08T14:12:58.327Z"
   },
   {
    "duration": 91,
    "start_time": "2023-02-08T14:12:58.361Z"
   },
   {
    "duration": 48,
    "start_time": "2023-02-08T14:12:58.454Z"
   },
   {
    "duration": 9,
    "start_time": "2023-02-08T14:12:58.504Z"
   },
   {
    "duration": 17,
    "start_time": "2023-02-08T14:12:58.515Z"
   },
   {
    "duration": 171,
    "start_time": "2023-02-08T14:12:58.534Z"
   },
   {
    "duration": 179,
    "start_time": "2023-02-08T14:12:58.708Z"
   },
   {
    "duration": 22,
    "start_time": "2023-02-08T14:12:58.888Z"
   },
   {
    "duration": 10,
    "start_time": "2023-02-08T14:12:58.911Z"
   },
   {
    "duration": 21,
    "start_time": "2023-02-08T14:12:58.922Z"
   },
   {
    "duration": 87,
    "start_time": "2023-02-08T14:12:58.944Z"
   },
   {
    "duration": 81,
    "start_time": "2023-02-08T14:12:59.033Z"
   },
   {
    "duration": 4,
    "start_time": "2023-02-08T14:12:59.116Z"
   },
   {
    "duration": 21085,
    "start_time": "2023-02-08T14:12:59.122Z"
   },
   {
    "duration": 5,
    "start_time": "2023-02-08T14:22:56.982Z"
   },
   {
    "duration": 5,
    "start_time": "2023-02-08T14:23:08.159Z"
   },
   {
    "duration": 7475,
    "start_time": "2023-02-08T14:25:24.443Z"
   },
   {
    "duration": 14,
    "start_time": "2023-02-08T14:26:18.079Z"
   },
   {
    "duration": 86,
    "start_time": "2023-02-08T14:33:53.730Z"
   },
   {
    "duration": 20,
    "start_time": "2023-02-08T14:34:03.748Z"
   },
   {
    "duration": 497,
    "start_time": "2023-02-08T14:34:36.882Z"
   },
   {
    "duration": 3,
    "start_time": "2023-02-08T14:35:50.118Z"
   },
   {
    "duration": 14,
    "start_time": "2023-02-08T14:35:55.153Z"
   },
   {
    "duration": 3,
    "start_time": "2023-02-08T14:36:18.224Z"
   },
   {
    "duration": 51,
    "start_time": "2023-02-08T14:36:49.305Z"
   },
   {
    "duration": 626,
    "start_time": "2023-02-08T14:36:58.251Z"
   },
   {
    "duration": 5,
    "start_time": "2023-02-08T14:38:07.465Z"
   },
   {
    "duration": 6,
    "start_time": "2023-02-08T14:38:12.110Z"
   },
   {
    "duration": 167044,
    "start_time": "2023-02-08T14:38:23.305Z"
   },
   {
    "duration": 480,
    "start_time": "2023-02-08T14:44:09.366Z"
   },
   {
    "duration": 534,
    "start_time": "2023-02-08T14:44:15.118Z"
   },
   {
    "duration": 63,
    "start_time": "2023-02-08T14:45:32.176Z"
   },
   {
    "duration": 70,
    "start_time": "2023-02-08T14:45:43.933Z"
   },
   {
    "duration": 89,
    "start_time": "2023-02-08T14:46:24.792Z"
   },
   {
    "duration": 177,
    "start_time": "2023-02-08T14:53:25.125Z"
   },
   {
    "duration": 2406,
    "start_time": "2023-02-08T14:53:41.673Z"
   },
   {
    "duration": 2608,
    "start_time": "2023-02-08T14:54:34.010Z"
   },
   {
    "duration": 2500,
    "start_time": "2023-02-08T14:54:46.617Z"
   },
   {
    "duration": 60075,
    "start_time": "2023-02-08T14:56:32.143Z"
   },
   {
    "duration": 4,
    "start_time": "2023-02-08T15:14:06.321Z"
   },
   {
    "duration": 3,
    "start_time": "2023-02-08T15:19:26.067Z"
   },
   {
    "duration": 4,
    "start_time": "2023-02-08T15:19:32.118Z"
   },
   {
    "duration": 4,
    "start_time": "2023-02-08T15:21:58.173Z"
   },
   {
    "duration": 267,
    "start_time": "2023-02-08T15:22:59.835Z"
   },
   {
    "duration": 286,
    "start_time": "2023-02-08T15:23:26.473Z"
   },
   {
    "duration": 267,
    "start_time": "2023-02-08T15:23:38.420Z"
   },
   {
    "duration": 9,
    "start_time": "2023-02-08T15:23:59.393Z"
   },
   {
    "duration": 44,
    "start_time": "2023-02-08T15:24:58.797Z"
   },
   {
    "duration": 0,
    "start_time": "2023-02-08T15:24:58.842Z"
   },
   {
    "duration": 0,
    "start_time": "2023-02-08T15:24:58.843Z"
   },
   {
    "duration": 0,
    "start_time": "2023-02-08T15:24:58.844Z"
   },
   {
    "duration": 0,
    "start_time": "2023-02-08T15:24:58.845Z"
   },
   {
    "duration": 0,
    "start_time": "2023-02-08T15:24:58.846Z"
   },
   {
    "duration": 0,
    "start_time": "2023-02-08T15:24:58.847Z"
   },
   {
    "duration": 0,
    "start_time": "2023-02-08T15:24:58.848Z"
   },
   {
    "duration": 5,
    "start_time": "2023-02-08T15:24:58.849Z"
   },
   {
    "duration": 0,
    "start_time": "2023-02-08T15:24:58.856Z"
   },
   {
    "duration": 36,
    "start_time": "2023-02-08T15:24:58.859Z"
   },
   {
    "duration": 0,
    "start_time": "2023-02-08T15:24:58.896Z"
   },
   {
    "duration": 0,
    "start_time": "2023-02-08T15:24:58.897Z"
   },
   {
    "duration": 0,
    "start_time": "2023-02-08T15:24:58.898Z"
   },
   {
    "duration": 0,
    "start_time": "2023-02-08T15:24:58.900Z"
   },
   {
    "duration": 0,
    "start_time": "2023-02-08T15:24:58.901Z"
   },
   {
    "duration": 0,
    "start_time": "2023-02-08T15:24:58.902Z"
   },
   {
    "duration": 6,
    "start_time": "2023-02-08T15:24:58.903Z"
   },
   {
    "duration": 8,
    "start_time": "2023-02-08T15:24:58.913Z"
   },
   {
    "duration": 0,
    "start_time": "2023-02-08T15:24:58.922Z"
   },
   {
    "duration": 6,
    "start_time": "2023-02-08T15:24:59.016Z"
   },
   {
    "duration": 0,
    "start_time": "2023-02-08T15:24:59.023Z"
   },
   {
    "duration": 0,
    "start_time": "2023-02-08T15:24:59.024Z"
   },
   {
    "duration": 5,
    "start_time": "2023-02-08T15:24:59.026Z"
   },
   {
    "duration": 0,
    "start_time": "2023-02-08T15:24:59.032Z"
   },
   {
    "duration": 5,
    "start_time": "2023-02-08T15:24:59.034Z"
   },
   {
    "duration": 6,
    "start_time": "2023-02-08T15:24:59.076Z"
   },
   {
    "duration": 0,
    "start_time": "2023-02-08T15:24:59.084Z"
   },
   {
    "duration": 6,
    "start_time": "2023-02-08T15:24:59.093Z"
   },
   {
    "duration": 0,
    "start_time": "2023-02-08T15:24:59.101Z"
   },
   {
    "duration": 8,
    "start_time": "2023-02-08T15:24:59.103Z"
   },
   {
    "duration": 69,
    "start_time": "2023-02-08T15:24:59.119Z"
   },
   {
    "duration": 1391,
    "start_time": "2023-02-08T15:25:21.088Z"
   },
   {
    "duration": 3,
    "start_time": "2023-02-08T15:25:22.481Z"
   },
   {
    "duration": 245,
    "start_time": "2023-02-08T15:25:22.485Z"
   },
   {
    "duration": 23,
    "start_time": "2023-02-08T15:25:22.733Z"
   },
   {
    "duration": 16,
    "start_time": "2023-02-08T15:25:22.758Z"
   },
   {
    "duration": 28,
    "start_time": "2023-02-08T15:25:22.792Z"
   },
   {
    "duration": 32,
    "start_time": "2023-02-08T15:25:22.822Z"
   },
   {
    "duration": 5,
    "start_time": "2023-02-08T15:25:22.856Z"
   },
   {
    "duration": 57,
    "start_time": "2023-02-08T15:25:22.863Z"
   },
   {
    "duration": 31,
    "start_time": "2023-02-08T15:25:22.923Z"
   },
   {
    "duration": 95,
    "start_time": "2023-02-08T15:25:22.955Z"
   },
   {
    "duration": 29,
    "start_time": "2023-02-08T15:25:23.052Z"
   },
   {
    "duration": 5,
    "start_time": "2023-02-08T15:25:23.091Z"
   },
   {
    "duration": 20,
    "start_time": "2023-02-08T15:25:23.097Z"
   },
   {
    "duration": 12,
    "start_time": "2023-02-08T15:25:23.119Z"
   },
   {
    "duration": 9,
    "start_time": "2023-02-08T15:25:23.133Z"
   },
   {
    "duration": 25,
    "start_time": "2023-02-08T15:25:23.144Z"
   },
   {
    "duration": 303,
    "start_time": "2023-02-08T15:25:23.170Z"
   },
   {
    "duration": 16,
    "start_time": "2023-02-08T15:25:23.476Z"
   },
   {
    "duration": 17,
    "start_time": "2023-02-08T15:25:23.494Z"
   },
   {
    "duration": 106,
    "start_time": "2023-02-08T15:25:23.512Z"
   },
   {
    "duration": 56,
    "start_time": "2023-02-08T15:25:23.620Z"
   },
   {
    "duration": 633,
    "start_time": "2023-02-08T15:25:23.679Z"
   },
   {
    "duration": 11,
    "start_time": "2023-02-08T15:25:24.313Z"
   },
   {
    "duration": 8,
    "start_time": "2023-02-08T15:25:24.325Z"
   },
   {
    "duration": 19,
    "start_time": "2023-02-08T15:25:24.334Z"
   },
   {
    "duration": 66,
    "start_time": "2023-02-08T15:25:24.354Z"
   },
   {
    "duration": 81,
    "start_time": "2023-02-08T15:25:24.423Z"
   },
   {
    "duration": 1433,
    "start_time": "2023-02-08T15:26:29.863Z"
   },
   {
    "duration": 3,
    "start_time": "2023-02-08T15:26:31.298Z"
   },
   {
    "duration": 286,
    "start_time": "2023-02-08T15:26:31.303Z"
   },
   {
    "duration": 23,
    "start_time": "2023-02-08T15:26:31.592Z"
   },
   {
    "duration": 40,
    "start_time": "2023-02-08T15:26:31.617Z"
   },
   {
    "duration": 38,
    "start_time": "2023-02-08T15:26:31.660Z"
   },
   {
    "duration": 18,
    "start_time": "2023-02-08T15:26:31.700Z"
   },
   {
    "duration": 18,
    "start_time": "2023-02-08T15:26:31.719Z"
   },
   {
    "duration": 60,
    "start_time": "2023-02-08T15:26:31.738Z"
   },
   {
    "duration": 31,
    "start_time": "2023-02-08T15:26:31.801Z"
   },
   {
    "duration": 82,
    "start_time": "2023-02-08T15:26:31.833Z"
   },
   {
    "duration": 27,
    "start_time": "2023-02-08T15:26:31.917Z"
   },
   {
    "duration": 6,
    "start_time": "2023-02-08T15:26:31.946Z"
   },
   {
    "duration": 20,
    "start_time": "2023-02-08T15:26:31.953Z"
   },
   {
    "duration": 269,
    "start_time": "2023-02-08T15:26:31.975Z"
   },
   {
    "duration": 102,
    "start_time": "2023-02-08T15:26:32.246Z"
   },
   {
    "duration": 64,
    "start_time": "2023-02-08T15:26:32.350Z"
   },
   {
    "duration": 615,
    "start_time": "2023-02-08T15:26:32.417Z"
   },
   {
    "duration": 10,
    "start_time": "2023-02-08T15:26:33.034Z"
   },
   {
    "duration": 16,
    "start_time": "2023-02-08T15:26:33.046Z"
   },
   {
    "duration": 21,
    "start_time": "2023-02-08T15:26:33.063Z"
   },
   {
    "duration": 68,
    "start_time": "2023-02-08T15:26:33.086Z"
   },
   {
    "duration": 80,
    "start_time": "2023-02-08T15:26:33.156Z"
   },
   {
    "duration": 46182,
    "start_time": "2023-02-08T15:26:33.238Z"
   },
   {
    "duration": 0,
    "start_time": "2023-02-08T15:27:19.422Z"
   },
   {
    "duration": 0,
    "start_time": "2023-02-08T15:27:19.424Z"
   },
   {
    "duration": 0,
    "start_time": "2023-02-08T15:27:19.425Z"
   },
   {
    "duration": 1859,
    "start_time": "2023-02-08T15:27:55.850Z"
   },
   {
    "duration": 133513,
    "start_time": "2023-02-08T15:28:25.385Z"
   },
   {
    "duration": 6,
    "start_time": "2023-02-08T15:34:29.022Z"
   },
   {
    "duration": 4,
    "start_time": "2023-02-08T15:38:32.017Z"
   },
   {
    "duration": 3,
    "start_time": "2023-02-08T15:38:42.285Z"
   },
   {
    "duration": 4,
    "start_time": "2023-02-08T15:39:49.387Z"
   },
   {
    "duration": 4,
    "start_time": "2023-02-08T15:39:56.721Z"
   },
   {
    "duration": 13,
    "start_time": "2023-02-08T15:40:38.687Z"
   },
   {
    "duration": 3,
    "start_time": "2023-02-08T15:40:45.476Z"
   },
   {
    "duration": 6,
    "start_time": "2023-02-08T15:41:11.661Z"
   },
   {
    "duration": 1847,
    "start_time": "2023-02-08T15:42:06.767Z"
   },
   {
    "duration": 4,
    "start_time": "2023-02-08T15:44:03.754Z"
   },
   {
    "duration": 5,
    "start_time": "2023-02-08T15:44:56.288Z"
   },
   {
    "duration": 5,
    "start_time": "2023-02-08T15:45:42.786Z"
   },
   {
    "duration": 4,
    "start_time": "2023-02-08T15:45:54.958Z"
   },
   {
    "duration": 4,
    "start_time": "2023-02-08T15:46:32.368Z"
   },
   {
    "duration": 4,
    "start_time": "2023-02-08T15:46:44.019Z"
   },
   {
    "duration": 4,
    "start_time": "2023-02-08T15:50:03.381Z"
   },
   {
    "duration": 4,
    "start_time": "2023-02-08T15:50:09.959Z"
   },
   {
    "duration": 17,
    "start_time": "2023-02-08T15:51:01.149Z"
   },
   {
    "duration": 4,
    "start_time": "2023-02-08T15:51:04.772Z"
   },
   {
    "duration": 14968,
    "start_time": "2023-02-08T15:51:06.174Z"
   },
   {
    "duration": 2442,
    "start_time": "2023-02-08T15:51:28.956Z"
   },
   {
    "duration": 2,
    "start_time": "2023-02-08T15:58:55.352Z"
   },
   {
    "duration": 5,
    "start_time": "2023-02-08T16:05:47.683Z"
   },
   {
    "duration": 16,
    "start_time": "2023-02-08T16:38:02.834Z"
   },
   {
    "duration": 1315,
    "start_time": "2023-02-08T16:38:38.610Z"
   },
   {
    "duration": 1295,
    "start_time": "2023-02-08T16:39:27.684Z"
   },
   {
    "duration": 4,
    "start_time": "2023-02-08T16:39:34.992Z"
   },
   {
    "duration": 1555,
    "start_time": "2023-02-08T16:39:48.391Z"
   },
   {
    "duration": 13,
    "start_time": "2023-02-08T16:40:01.952Z"
   },
   {
    "duration": 25,
    "start_time": "2023-02-08T16:40:55.246Z"
   },
   {
    "duration": 4,
    "start_time": "2023-02-08T16:43:21.725Z"
   },
   {
    "duration": 73,
    "start_time": "2023-02-08T16:44:40.146Z"
   },
   {
    "duration": 5,
    "start_time": "2023-02-08T16:44:46.541Z"
   },
   {
    "duration": 7,
    "start_time": "2023-02-08T17:24:37.127Z"
   },
   {
    "duration": 1789,
    "start_time": "2023-02-08T17:26:55.645Z"
   },
   {
    "duration": 24,
    "start_time": "2023-02-08T17:27:29.888Z"
   },
   {
    "duration": 1761,
    "start_time": "2023-02-08T17:44:55.163Z"
   },
   {
    "duration": 23,
    "start_time": "2023-02-08T17:45:02.649Z"
   },
   {
    "duration": 5,
    "start_time": "2023-02-08T17:49:18.327Z"
   },
   {
    "duration": 70,
    "start_time": "2023-02-08T17:53:00.617Z"
   },
   {
    "duration": 11,
    "start_time": "2023-02-08T17:55:53.416Z"
   },
   {
    "duration": 19,
    "start_time": "2023-02-08T17:56:10.658Z"
   },
   {
    "duration": 13,
    "start_time": "2023-02-08T18:00:32.216Z"
   },
   {
    "duration": 14,
    "start_time": "2023-02-08T18:00:55.525Z"
   },
   {
    "duration": 7,
    "start_time": "2023-02-08T18:01:45.772Z"
   },
   {
    "duration": 12,
    "start_time": "2023-02-08T18:03:18.810Z"
   },
   {
    "duration": 9,
    "start_time": "2023-02-08T18:24:12.143Z"
   },
   {
    "duration": 229,
    "start_time": "2023-02-08T18:28:01.528Z"
   },
   {
    "duration": 13,
    "start_time": "2023-02-08T18:28:39.288Z"
   },
   {
    "duration": 418,
    "start_time": "2023-02-08T18:28:44.845Z"
   },
   {
    "duration": 452,
    "start_time": "2023-02-08T18:29:55.783Z"
   },
   {
    "duration": 9,
    "start_time": "2023-02-08T18:30:30.029Z"
   },
   {
    "duration": 14,
    "start_time": "2023-02-08T18:43:54.114Z"
   },
   {
    "duration": 41,
    "start_time": "2023-02-08T18:44:07.665Z"
   },
   {
    "duration": 14,
    "start_time": "2023-02-08T18:44:13.128Z"
   },
   {
    "duration": 152,
    "start_time": "2023-02-08T18:44:16.586Z"
   },
   {
    "duration": 14645,
    "start_time": "2023-02-08T18:44:45.440Z"
   },
   {
    "duration": 52829,
    "start_time": "2023-02-08T18:45:33.636Z"
   },
   {
    "duration": 153,
    "start_time": "2023-02-08T18:49:27.195Z"
   },
   {
    "duration": 4,
    "start_time": "2023-02-08T18:49:34.320Z"
   },
   {
    "duration": 5,
    "start_time": "2023-02-08T18:51:29.978Z"
   },
   {
    "duration": 235,
    "start_time": "2023-02-08T18:52:47.180Z"
   },
   {
    "duration": 230,
    "start_time": "2023-02-08T18:52:53.072Z"
   },
   {
    "duration": 6151,
    "start_time": "2023-02-08T18:55:23.500Z"
   },
   {
    "duration": 56002,
    "start_time": "2023-02-08T18:55:35.073Z"
   },
   {
    "duration": 5,
    "start_time": "2023-02-08T18:57:51.615Z"
   },
   {
    "duration": 293,
    "start_time": "2023-02-08T18:59:32.537Z"
   },
   {
    "duration": 7,
    "start_time": "2023-02-08T19:00:14.350Z"
   },
   {
    "duration": 16516,
    "start_time": "2023-02-08T19:00:15.682Z"
   },
   {
    "duration": 14366,
    "start_time": "2023-02-08T19:01:21.127Z"
   },
   {
    "duration": 17230,
    "start_time": "2023-02-08T19:02:31.967Z"
   },
   {
    "duration": 71,
    "start_time": "2023-02-08T19:05:08.663Z"
   },
   {
    "duration": 437316,
    "start_time": "2023-02-08T19:05:14.927Z"
   },
   {
    "duration": 20214,
    "start_time": "2023-02-08T19:12:56.969Z"
   },
   {
    "duration": 48290,
    "start_time": "2023-02-08T19:13:39.734Z"
   },
   {
    "duration": 226,
    "start_time": "2023-02-08T19:14:47.029Z"
   },
   {
    "duration": 226,
    "start_time": "2023-02-08T19:15:24.905Z"
   },
   {
    "duration": 63,
    "start_time": "2023-02-08T19:15:27.201Z"
   },
   {
    "duration": 4,
    "start_time": "2023-02-08T19:15:51.992Z"
   },
   {
    "duration": 58,
    "start_time": "2023-02-08T19:15:55.966Z"
   },
   {
    "duration": 405,
    "start_time": "2023-02-08T19:16:09.931Z"
   },
   {
    "duration": 47326,
    "start_time": "2023-02-08T19:16:21.602Z"
   },
   {
    "duration": 4,
    "start_time": "2023-02-08T19:17:18.869Z"
   },
   {
    "duration": 698,
    "start_time": "2023-02-08T19:17:25.228Z"
   },
   {
    "duration": 260,
    "start_time": "2023-02-08T19:18:26.469Z"
   },
   {
    "duration": 4,
    "start_time": "2023-02-08T19:18:41.823Z"
   },
   {
    "duration": 13,
    "start_time": "2023-02-08T19:21:01.457Z"
   },
   {
    "duration": 6,
    "start_time": "2023-02-08T19:21:18.455Z"
   },
   {
    "duration": 252,
    "start_time": "2023-02-08T19:24:01.584Z"
   },
   {
    "duration": 260,
    "start_time": "2023-02-08T19:25:02.574Z"
   },
   {
    "duration": 251,
    "start_time": "2023-02-08T19:27:32.307Z"
   },
   {
    "duration": 109,
    "start_time": "2023-02-08T19:27:35.779Z"
   },
   {
    "duration": 81,
    "start_time": "2023-02-08T19:29:31.588Z"
   },
   {
    "duration": 14303,
    "start_time": "2023-02-08T19:29:50.615Z"
   },
   {
    "duration": 18,
    "start_time": "2023-02-08T19:33:40.689Z"
   },
   {
    "duration": 21,
    "start_time": "2023-02-08T19:34:04.332Z"
   },
   {
    "duration": 8,
    "start_time": "2023-02-08T19:35:26.080Z"
   },
   {
    "duration": 392,
    "start_time": "2023-02-08T19:35:41.671Z"
   },
   {
    "duration": 6,
    "start_time": "2023-02-08T19:35:45.853Z"
   },
   {
    "duration": 1408,
    "start_time": "2023-02-08T19:48:52.658Z"
   },
   {
    "duration": 3,
    "start_time": "2023-02-08T19:48:54.068Z"
   },
   {
    "duration": 224,
    "start_time": "2023-02-08T19:48:54.072Z"
   },
   {
    "duration": 20,
    "start_time": "2023-02-08T19:48:54.298Z"
   },
   {
    "duration": 18,
    "start_time": "2023-02-08T19:48:54.320Z"
   },
   {
    "duration": 28,
    "start_time": "2023-02-08T19:48:54.340Z"
   },
   {
    "duration": 42,
    "start_time": "2023-02-08T19:48:54.369Z"
   },
   {
    "duration": 4,
    "start_time": "2023-02-08T19:48:54.412Z"
   },
   {
    "duration": 48,
    "start_time": "2023-02-08T19:48:54.418Z"
   },
   {
    "duration": 45,
    "start_time": "2023-02-08T19:48:54.469Z"
   },
   {
    "duration": 53,
    "start_time": "2023-02-08T19:48:54.515Z"
   },
   {
    "duration": 47,
    "start_time": "2023-02-08T19:48:54.570Z"
   },
   {
    "duration": 6,
    "start_time": "2023-02-08T19:48:54.618Z"
   },
   {
    "duration": 12,
    "start_time": "2023-02-08T19:48:54.626Z"
   },
   {
    "duration": 270,
    "start_time": "2023-02-08T19:48:54.640Z"
   },
   {
    "duration": 99,
    "start_time": "2023-02-08T19:48:54.912Z"
   },
   {
    "duration": 56,
    "start_time": "2023-02-08T19:48:55.013Z"
   },
   {
    "duration": 605,
    "start_time": "2023-02-08T19:48:55.071Z"
   },
   {
    "duration": 11,
    "start_time": "2023-02-08T19:48:55.678Z"
   },
   {
    "duration": 9,
    "start_time": "2023-02-08T19:48:55.691Z"
   },
   {
    "duration": 49,
    "start_time": "2023-02-08T19:48:55.701Z"
   },
   {
    "duration": 60,
    "start_time": "2023-02-08T19:48:55.752Z"
   },
   {
    "duration": 78,
    "start_time": "2023-02-08T19:48:55.814Z"
   },
   {
    "duration": 3,
    "start_time": "2023-02-08T19:48:55.895Z"
   },
   {
    "duration": 16068,
    "start_time": "2023-02-08T19:48:55.900Z"
   },
   {
    "duration": 2803,
    "start_time": "2023-02-08T19:49:11.969Z"
   },
   {
    "duration": 4,
    "start_time": "2023-02-08T19:49:14.774Z"
   },
   {
    "duration": 1955,
    "start_time": "2023-02-08T19:49:14.793Z"
   },
   {
    "duration": 25,
    "start_time": "2023-02-08T19:49:16.750Z"
   },
   {
    "duration": 15,
    "start_time": "2023-02-08T19:49:16.776Z"
   },
   {
    "duration": 17,
    "start_time": "2023-02-08T19:49:16.792Z"
   },
   {
    "duration": 13,
    "start_time": "2023-02-08T19:49:16.810Z"
   },
   {
    "duration": 11,
    "start_time": "2023-02-08T19:49:16.825Z"
   },
   {
    "duration": 9,
    "start_time": "2023-02-08T19:49:16.838Z"
   },
   {
    "duration": 52,
    "start_time": "2023-02-08T19:49:16.848Z"
   },
   {
    "duration": 18,
    "start_time": "2023-02-08T19:49:16.902Z"
   },
   {
    "duration": 22,
    "start_time": "2023-02-08T19:49:16.922Z"
   },
   {
    "duration": 446,
    "start_time": "2023-02-08T19:49:16.946Z"
   },
   {
    "duration": 6,
    "start_time": "2023-02-08T19:49:17.394Z"
   },
   {
    "duration": 37106,
    "start_time": "2023-02-08T19:49:17.401Z"
   },
   {
    "duration": 0,
    "start_time": "2023-02-08T19:49:54.509Z"
   },
   {
    "duration": 0,
    "start_time": "2023-02-08T19:49:54.510Z"
   },
   {
    "duration": 0,
    "start_time": "2023-02-08T19:49:54.511Z"
   },
   {
    "duration": 0,
    "start_time": "2023-02-08T19:49:54.513Z"
   },
   {
    "duration": 0,
    "start_time": "2023-02-08T19:49:54.514Z"
   },
   {
    "duration": 0,
    "start_time": "2023-02-08T19:49:54.515Z"
   },
   {
    "duration": 0,
    "start_time": "2023-02-08T19:49:54.516Z"
   },
   {
    "duration": 0,
    "start_time": "2023-02-08T19:49:54.517Z"
   },
   {
    "duration": 5,
    "start_time": "2023-02-08T19:50:42.064Z"
   },
   {
    "duration": 5322,
    "start_time": "2023-02-08T19:51:26.750Z"
   },
   {
    "duration": 12956,
    "start_time": "2023-02-08T19:52:17.094Z"
   },
   {
    "duration": 108135,
    "start_time": "2023-02-08T19:53:38.300Z"
   },
   {
    "duration": 1953,
    "start_time": "2023-02-08T19:55:54.848Z"
   },
   {
    "duration": 12461,
    "start_time": "2023-02-08T19:57:42.431Z"
   },
   {
    "duration": 136965,
    "start_time": "2023-02-08T19:58:28.865Z"
   },
   {
    "duration": 16,
    "start_time": "2023-02-08T20:00:45.832Z"
   },
   {
    "duration": 16,
    "start_time": "2023-02-08T20:01:02.327Z"
   },
   {
    "duration": 43001,
    "start_time": "2023-02-08T20:01:39.374Z"
   },
   {
    "duration": 56,
    "start_time": "2023-02-08T20:02:33.144Z"
   },
   {
    "duration": 27,
    "start_time": "2023-02-08T20:02:44.498Z"
   },
   {
    "duration": 31950,
    "start_time": "2023-02-08T20:03:28.127Z"
   },
   {
    "duration": 145917,
    "start_time": "2023-02-08T20:04:53.153Z"
   },
   {
    "duration": 2426,
    "start_time": "2023-02-08T20:07:44.453Z"
   },
   {
    "duration": 11,
    "start_time": "2023-02-08T20:09:30.747Z"
   },
   {
    "duration": 66973,
    "start_time": "2023-02-08T20:10:09.224Z"
   },
   {
    "duration": 211,
    "start_time": "2023-02-08T20:13:06.153Z"
   },
   {
    "duration": 119101,
    "start_time": "2023-02-08T20:13:13.927Z"
   },
   {
    "duration": 59213,
    "start_time": "2023-02-08T20:18:17.984Z"
   },
   {
    "duration": 69761,
    "start_time": "2023-02-08T20:19:19.866Z"
   },
   {
    "duration": 72,
    "start_time": "2023-02-08T20:21:22.281Z"
   },
   {
    "duration": 180,
    "start_time": "2023-02-08T20:21:30.485Z"
   },
   {
    "duration": 223949,
    "start_time": "2023-02-08T20:21:31.627Z"
   },
   {
    "duration": 4,
    "start_time": "2023-02-08T20:29:02.188Z"
   },
   {
    "duration": 1121,
    "start_time": "2023-02-08T20:29:07.047Z"
   },
   {
    "duration": 8,
    "start_time": "2023-02-08T20:29:28.447Z"
   },
   {
    "duration": 7,
    "start_time": "2023-02-08T20:31:16.275Z"
   },
   {
    "duration": 30,
    "start_time": "2023-02-08T20:31:48.400Z"
   },
   {
    "duration": 959977,
    "start_time": "2023-02-08T20:33:46.235Z"
   },
   {
    "duration": 0,
    "start_time": "2023-02-08T20:49:46.214Z"
   },
   {
    "duration": 132,
    "start_time": "2023-02-08T20:53:12.967Z"
   },
   {
    "duration": 59,
    "start_time": "2023-02-08T20:53:59.091Z"
   },
   {
    "duration": 544,
    "start_time": "2023-02-08T20:54:48.129Z"
   },
   {
    "duration": 6,
    "start_time": "2023-02-08T20:54:51.081Z"
   },
   {
    "duration": 120396,
    "start_time": "2023-02-08T20:54:59.645Z"
   },
   {
    "duration": 76936,
    "start_time": "2023-02-08T20:57:50.044Z"
   },
   {
    "duration": 192,
    "start_time": "2023-02-08T20:59:21.852Z"
   },
   {
    "duration": 151243,
    "start_time": "2023-02-08T20:59:23.726Z"
   },
   {
    "duration": 26,
    "start_time": "2023-02-08T21:02:00.372Z"
   },
   {
    "duration": 882,
    "start_time": "2023-02-08T21:02:33.434Z"
   },
   {
    "duration": 9,
    "start_time": "2023-02-08T21:25:39.360Z"
   },
   {
    "duration": 5,
    "start_time": "2023-02-08T21:26:42.046Z"
   },
   {
    "duration": 4,
    "start_time": "2023-02-08T21:27:14.549Z"
   },
   {
    "duration": 10,
    "start_time": "2023-02-08T21:27:28.521Z"
   },
   {
    "duration": 9,
    "start_time": "2023-02-08T21:27:37.969Z"
   },
   {
    "duration": 4,
    "start_time": "2023-02-08T21:27:47.604Z"
   },
   {
    "duration": 9,
    "start_time": "2023-02-08T21:29:01.260Z"
   },
   {
    "duration": 4,
    "start_time": "2023-02-08T21:29:10.168Z"
   },
   {
    "duration": 5,
    "start_time": "2023-02-08T21:30:04.212Z"
   },
   {
    "duration": 9,
    "start_time": "2023-02-08T21:31:29.195Z"
   },
   {
    "duration": 2,
    "start_time": "2023-02-08T21:31:37.026Z"
   },
   {
    "duration": 4,
    "start_time": "2023-02-08T21:31:44.969Z"
   },
   {
    "duration": 3,
    "start_time": "2023-02-08T21:32:21.058Z"
   },
   {
    "duration": 4,
    "start_time": "2023-02-08T21:32:22.358Z"
   },
   {
    "duration": 9,
    "start_time": "2023-02-08T21:32:26.884Z"
   },
   {
    "duration": 4,
    "start_time": "2023-02-08T21:32:56.456Z"
   },
   {
    "duration": 4,
    "start_time": "2023-02-08T21:32:57.409Z"
   },
   {
    "duration": 9,
    "start_time": "2023-02-08T21:33:57.583Z"
   },
   {
    "duration": 12,
    "start_time": "2023-02-08T21:34:04.548Z"
   },
   {
    "duration": 22,
    "start_time": "2023-02-08T22:02:43.966Z"
   },
   {
    "duration": 65,
    "start_time": "2023-02-08T22:03:07.339Z"
   },
   {
    "duration": 5,
    "start_time": "2023-02-08T22:04:54.266Z"
   },
   {
    "duration": 23,
    "start_time": "2023-02-08T22:04:55.482Z"
   },
   {
    "duration": 1434,
    "start_time": "2023-02-08T22:04:56.806Z"
   },
   {
    "duration": 30,
    "start_time": "2023-02-08T22:06:08.504Z"
   },
   {
    "duration": 1442,
    "start_time": "2023-02-08T22:06:09.311Z"
   },
   {
    "duration": 736,
    "start_time": "2023-02-08T22:06:31.564Z"
   },
   {
    "duration": 790,
    "start_time": "2023-02-08T22:07:20.762Z"
   },
   {
    "duration": 120,
    "start_time": "2023-02-08T22:19:13.875Z"
   },
   {
    "duration": 98,
    "start_time": "2023-02-08T22:25:04.016Z"
   },
   {
    "duration": 22,
    "start_time": "2023-02-08T22:25:50.572Z"
   },
   {
    "duration": 14,
    "start_time": "2023-02-08T22:26:15.503Z"
   },
   {
    "duration": 90,
    "start_time": "2023-02-08T22:27:24.541Z"
   },
   {
    "duration": 114,
    "start_time": "2023-02-08T22:27:44.027Z"
   },
   {
    "duration": 16,
    "start_time": "2023-02-08T22:28:35.985Z"
   },
   {
    "duration": 92,
    "start_time": "2023-02-08T22:29:02.308Z"
   },
   {
    "duration": 25,
    "start_time": "2023-02-08T22:29:32.619Z"
   },
   {
    "duration": 9,
    "start_time": "2023-02-08T22:29:34.695Z"
   },
   {
    "duration": 1612,
    "start_time": "2023-02-08T22:29:45.994Z"
   },
   {
    "duration": 783,
    "start_time": "2023-02-08T22:30:00.359Z"
   },
   {
    "duration": 794,
    "start_time": "2023-02-08T22:30:14.555Z"
   },
   {
    "duration": 10,
    "start_time": "2023-02-08T22:30:21.781Z"
   },
   {
    "duration": 775,
    "start_time": "2023-02-08T22:30:32.220Z"
   },
   {
    "duration": 3,
    "start_time": "2023-02-08T22:31:42.858Z"
   },
   {
    "duration": 4,
    "start_time": "2023-02-08T22:32:40.395Z"
   },
   {
    "duration": 5,
    "start_time": "2023-02-08T22:33:24.881Z"
   },
   {
    "duration": 779,
    "start_time": "2023-02-08T22:33:44.101Z"
   },
   {
    "duration": 14,
    "start_time": "2023-02-08T22:34:04.036Z"
   },
   {
    "duration": 6,
    "start_time": "2023-02-08T22:34:21.053Z"
   },
   {
    "duration": 25,
    "start_time": "2023-02-08T22:34:23.118Z"
   },
   {
    "duration": 1613,
    "start_time": "2023-02-08T22:34:24.978Z"
   },
   {
    "duration": 783,
    "start_time": "2023-02-08T22:34:27.586Z"
   },
   {
    "duration": 810,
    "start_time": "2023-02-08T22:34:37.452Z"
   },
   {
    "duration": 778,
    "start_time": "2023-02-08T22:34:39.353Z"
   },
   {
    "duration": 993,
    "start_time": "2023-02-08T22:34:56.399Z"
   },
   {
    "duration": 1573,
    "start_time": "2023-02-08T22:38:34.959Z"
   },
   {
    "duration": 748,
    "start_time": "2023-02-08T22:47:58.705Z"
   },
   {
    "duration": 658,
    "start_time": "2023-02-08T22:49:01.980Z"
   },
   {
    "duration": 5,
    "start_time": "2023-02-08T23:00:18.495Z"
   },
   {
    "duration": 42,
    "start_time": "2023-02-08T23:00:50.934Z"
   },
   {
    "duration": 46,
    "start_time": "2023-02-08T23:01:01.463Z"
   },
   {
    "duration": 48,
    "start_time": "2023-02-08T23:01:52.702Z"
   },
   {
    "duration": 4,
    "start_time": "2023-02-08T23:02:41.494Z"
   },
   {
    "duration": 4,
    "start_time": "2023-02-08T23:02:49.049Z"
   },
   {
    "duration": 43,
    "start_time": "2023-02-08T23:05:18.111Z"
   },
   {
    "duration": 6,
    "start_time": "2023-02-08T23:07:50.204Z"
   },
   {
    "duration": 9,
    "start_time": "2023-02-08T23:09:24.012Z"
   },
   {
    "duration": 3,
    "start_time": "2023-02-08T23:12:03.473Z"
   },
   {
    "duration": 4,
    "start_time": "2023-02-08T23:12:13.262Z"
   },
   {
    "duration": 3,
    "start_time": "2023-02-08T23:12:37.512Z"
   },
   {
    "duration": 13,
    "start_time": "2023-02-08T23:12:38.504Z"
   },
   {
    "duration": 3,
    "start_time": "2023-02-08T23:13:06.817Z"
   },
   {
    "duration": 4,
    "start_time": "2023-02-08T23:13:07.685Z"
   },
   {
    "duration": 9,
    "start_time": "2023-02-08T23:17:25.264Z"
   },
   {
    "duration": 13,
    "start_time": "2023-02-08T23:17:43.031Z"
   },
   {
    "duration": 13,
    "start_time": "2023-02-08T23:17:59.120Z"
   },
   {
    "duration": 10,
    "start_time": "2023-02-08T23:18:14.317Z"
   },
   {
    "duration": 10,
    "start_time": "2023-02-08T23:18:23.364Z"
   },
   {
    "duration": 9,
    "start_time": "2023-02-08T23:18:39.638Z"
   },
   {
    "duration": 10,
    "start_time": "2023-02-08T23:18:53.143Z"
   },
   {
    "duration": 9,
    "start_time": "2023-02-08T23:20:34.814Z"
   },
   {
    "duration": 11,
    "start_time": "2023-02-08T23:20:58.917Z"
   },
   {
    "duration": 10,
    "start_time": "2023-02-08T23:21:17.409Z"
   },
   {
    "duration": 13,
    "start_time": "2023-02-08T23:21:25.284Z"
   },
   {
    "duration": 7,
    "start_time": "2023-02-08T23:23:40.281Z"
   },
   {
    "duration": 10,
    "start_time": "2023-02-08T23:25:45.502Z"
   },
   {
    "duration": 11,
    "start_time": "2023-02-08T23:25:59.827Z"
   },
   {
    "duration": 129,
    "start_time": "2023-02-08T23:26:21.264Z"
   },
   {
    "duration": 11,
    "start_time": "2023-02-08T23:30:10.608Z"
   },
   {
    "duration": 12,
    "start_time": "2023-02-08T23:32:09.641Z"
   },
   {
    "duration": 179,
    "start_time": "2023-02-08T23:32:22.329Z"
   },
   {
    "duration": 53,
    "start_time": "2023-02-08T23:32:48.513Z"
   },
   {
    "duration": 37330,
    "start_time": "2023-02-08T23:33:02.273Z"
   },
   {
    "duration": 119,
    "start_time": "2023-02-08T23:36:41.035Z"
   },
   {
    "duration": 25,
    "start_time": "2023-02-08T23:37:03.093Z"
   },
   {
    "duration": 1280,
    "start_time": "2023-02-08T23:37:26.791Z"
   },
   {
    "duration": 17,
    "start_time": "2023-02-08T23:37:55.614Z"
   },
   {
    "duration": 6,
    "start_time": "2023-02-08T23:38:50.380Z"
   },
   {
    "duration": 105,
    "start_time": "2023-02-08T23:39:11.176Z"
   },
   {
    "duration": 6,
    "start_time": "2023-02-08T23:39:52.862Z"
   },
   {
    "duration": 25,
    "start_time": "2023-02-08T23:40:36.488Z"
   },
   {
    "duration": 16,
    "start_time": "2023-02-08T23:41:05.179Z"
   },
   {
    "duration": 1269,
    "start_time": "2023-02-08T23:43:05.143Z"
   },
   {
    "duration": 9,
    "start_time": "2023-02-08T23:44:31.595Z"
   },
   {
    "duration": 1195,
    "start_time": "2023-02-08T23:44:33.102Z"
   },
   {
    "duration": 27,
    "start_time": "2023-02-08T23:44:44.541Z"
   },
   {
    "duration": 46,
    "start_time": "2023-02-08T23:46:27.427Z"
   },
   {
    "duration": 11,
    "start_time": "2023-02-08T23:51:36.351Z"
   },
   {
    "duration": 12,
    "start_time": "2023-02-08T23:51:43.473Z"
   },
   {
    "duration": 10,
    "start_time": "2023-02-08T23:53:37.911Z"
   },
   {
    "duration": 1174,
    "start_time": "2023-02-08T23:55:20.568Z"
   },
   {
    "duration": 6263,
    "start_time": "2023-02-08T23:55:28.968Z"
   },
   {
    "duration": 7,
    "start_time": "2023-02-08T23:56:43.778Z"
   },
   {
    "duration": 13,
    "start_time": "2023-02-09T00:00:20.350Z"
   },
   {
    "duration": 15,
    "start_time": "2023-02-09T00:00:39.506Z"
   },
   {
    "duration": 17,
    "start_time": "2023-02-09T00:01:38.377Z"
   },
   {
    "duration": 11,
    "start_time": "2023-02-09T00:02:17.459Z"
   },
   {
    "duration": 242,
    "start_time": "2023-02-09T00:02:30.785Z"
   },
   {
    "duration": 218,
    "start_time": "2023-02-09T00:02:42.951Z"
   },
   {
    "duration": 65,
    "start_time": "2023-02-09T00:03:12.707Z"
   },
   {
    "duration": 72,
    "start_time": "2023-02-09T00:05:32.636Z"
   },
   {
    "duration": 199,
    "start_time": "2023-02-09T00:05:33.614Z"
   },
   {
    "duration": 63,
    "start_time": "2023-02-09T00:05:37.080Z"
   },
   {
    "duration": 235,
    "start_time": "2023-02-09T00:06:10.391Z"
   },
   {
    "duration": 358,
    "start_time": "2023-02-09T00:06:14.439Z"
   },
   {
    "duration": 10,
    "start_time": "2023-02-09T00:06:30.769Z"
   },
   {
    "duration": 8604,
    "start_time": "2023-02-09T00:07:11.043Z"
   },
   {
    "duration": 52,
    "start_time": "2023-02-09T00:07:21.549Z"
   },
   {
    "duration": 16,
    "start_time": "2023-02-09T00:14:20.144Z"
   },
   {
    "duration": 75,
    "start_time": "2023-02-09T00:14:40.690Z"
   },
   {
    "duration": 15,
    "start_time": "2023-02-09T00:15:16.749Z"
   },
   {
    "duration": 14,
    "start_time": "2023-02-09T00:15:48.429Z"
   },
   {
    "duration": 7,
    "start_time": "2023-02-09T00:16:39.760Z"
   },
   {
    "duration": 55,
    "start_time": "2023-02-09T00:24:24.200Z"
   },
   {
    "duration": 7,
    "start_time": "2023-02-09T00:24:56.483Z"
   },
   {
    "duration": 57,
    "start_time": "2023-02-09T00:25:20.518Z"
   },
   {
    "duration": 9,
    "start_time": "2023-02-09T00:26:37.331Z"
   },
   {
    "duration": 9,
    "start_time": "2023-02-09T00:28:53.980Z"
   },
   {
    "duration": 1078,
    "start_time": "2023-02-09T00:44:32.939Z"
   },
   {
    "duration": 3,
    "start_time": "2023-02-09T00:44:34.019Z"
   },
   {
    "duration": 228,
    "start_time": "2023-02-09T00:44:34.023Z"
   },
   {
    "duration": 20,
    "start_time": "2023-02-09T00:44:34.253Z"
   },
   {
    "duration": 20,
    "start_time": "2023-02-09T00:44:34.274Z"
   },
   {
    "duration": 33,
    "start_time": "2023-02-09T00:44:34.296Z"
   },
   {
    "duration": 18,
    "start_time": "2023-02-09T00:44:34.330Z"
   },
   {
    "duration": 3,
    "start_time": "2023-02-09T00:44:34.349Z"
   },
   {
    "duration": 59,
    "start_time": "2023-02-09T00:44:34.354Z"
   },
   {
    "duration": 27,
    "start_time": "2023-02-09T00:44:34.415Z"
   },
   {
    "duration": 73,
    "start_time": "2023-02-09T00:44:34.443Z"
   },
   {
    "duration": 26,
    "start_time": "2023-02-09T00:44:34.518Z"
   },
   {
    "duration": 5,
    "start_time": "2023-02-09T00:44:34.545Z"
   },
   {
    "duration": 11,
    "start_time": "2023-02-09T00:44:34.551Z"
   },
   {
    "duration": 265,
    "start_time": "2023-02-09T00:44:34.563Z"
   },
   {
    "duration": 130,
    "start_time": "2023-02-09T00:44:34.829Z"
   },
   {
    "duration": 100,
    "start_time": "2023-02-09T00:44:34.960Z"
   },
   {
    "duration": 55,
    "start_time": "2023-02-09T00:44:35.061Z"
   },
   {
    "duration": 578,
    "start_time": "2023-02-09T00:44:35.118Z"
   },
   {
    "duration": 10,
    "start_time": "2023-02-09T00:44:35.697Z"
   },
   {
    "duration": 7,
    "start_time": "2023-02-09T00:44:35.708Z"
   },
   {
    "duration": 18,
    "start_time": "2023-02-09T00:44:35.716Z"
   },
   {
    "duration": 79,
    "start_time": "2023-02-09T00:44:35.735Z"
   },
   {
    "duration": 69,
    "start_time": "2023-02-09T00:44:35.815Z"
   },
   {
    "duration": 7,
    "start_time": "2023-02-09T00:44:35.885Z"
   },
   {
    "duration": 14545,
    "start_time": "2023-02-09T00:44:35.893Z"
   },
   {
    "duration": 2507,
    "start_time": "2023-02-09T00:44:50.440Z"
   },
   {
    "duration": 2,
    "start_time": "2023-02-09T00:44:52.951Z"
   },
   {
    "duration": 22,
    "start_time": "2023-02-09T00:44:52.955Z"
   },
   {
    "duration": 28,
    "start_time": "2023-02-09T00:44:52.979Z"
   },
   {
    "duration": 1527,
    "start_time": "2023-02-09T00:44:53.009Z"
   },
   {
    "duration": 792,
    "start_time": "2023-02-09T00:44:54.537Z"
   },
   {
    "duration": 790,
    "start_time": "2023-02-09T00:44:55.330Z"
   },
   {
    "duration": 15,
    "start_time": "2023-02-09T00:44:56.122Z"
   },
   {
    "duration": 452,
    "start_time": "2023-02-09T00:44:56.139Z"
   },
   {
    "duration": 5,
    "start_time": "2023-02-09T00:44:56.593Z"
   },
   {
    "duration": 7,
    "start_time": "2023-02-09T00:44:56.599Z"
   },
   {
    "duration": 10183,
    "start_time": "2023-02-09T00:44:56.607Z"
   },
   {
    "duration": 9518,
    "start_time": "2023-02-09T00:45:06.792Z"
   },
   {
    "duration": 85406,
    "start_time": "2023-02-09T00:45:16.313Z"
   },
   {
    "duration": 94924,
    "start_time": "2023-02-09T00:46:41.721Z"
   },
   {
    "duration": 1488,
    "start_time": "2023-02-09T00:48:16.647Z"
   },
   {
    "duration": 1914,
    "start_time": "2023-02-09T00:48:18.137Z"
   },
   {
    "duration": 172,
    "start_time": "2023-02-09T00:48:20.053Z"
   },
   {
    "duration": 118091,
    "start_time": "2023-02-09T00:48:20.227Z"
   },
   {
    "duration": 26,
    "start_time": "2023-02-09T00:50:18.319Z"
   },
   {
    "duration": 839,
    "start_time": "2023-02-09T00:50:18.347Z"
   },
   {
    "duration": 5,
    "start_time": "2023-02-09T00:50:19.187Z"
   },
   {
    "duration": 1474,
    "start_time": "2023-02-09T00:50:19.193Z"
   },
   {
    "duration": 91,
    "start_time": "2023-02-09T00:50:20.669Z"
   },
   {
    "duration": 234,
    "start_time": "2023-02-09T00:50:20.762Z"
   },
   {
    "duration": 8629,
    "start_time": "2023-02-09T00:50:20.997Z"
   },
   {
    "duration": 47,
    "start_time": "2023-02-09T00:50:29.628Z"
   },
   {
    "duration": 62,
    "start_time": "2023-02-09T00:50:29.676Z"
   },
   {
    "duration": 8,
    "start_time": "2023-02-09T00:50:29.739Z"
   },
   {
    "duration": 1756,
    "start_time": "2023-02-10T11:44:54.493Z"
   },
   {
    "duration": 3,
    "start_time": "2023-02-10T11:44:56.251Z"
   },
   {
    "duration": 835,
    "start_time": "2023-02-10T11:44:59.193Z"
   },
   {
    "duration": 11,
    "start_time": "2023-02-10T11:45:46.192Z"
   },
   {
    "duration": 6,
    "start_time": "2023-02-10T11:46:11.980Z"
   },
   {
    "duration": 87,
    "start_time": "2023-02-10T11:52:38.217Z"
   },
   {
    "duration": 538,
    "start_time": "2023-02-10T11:59:26.402Z"
   },
   {
    "duration": 543,
    "start_time": "2023-02-10T11:59:39.270Z"
   },
   {
    "duration": 278,
    "start_time": "2023-02-10T11:59:51.563Z"
   },
   {
    "duration": 6,
    "start_time": "2023-02-10T12:02:30.657Z"
   },
   {
    "duration": 330,
    "start_time": "2023-02-10T12:02:36.321Z"
   },
   {
    "duration": 25,
    "start_time": "2023-02-10T12:03:37.708Z"
   },
   {
    "duration": 24,
    "start_time": "2023-02-10T12:03:38.482Z"
   },
   {
    "duration": 27,
    "start_time": "2023-02-10T12:04:42.809Z"
   },
   {
    "duration": 96,
    "start_time": "2023-02-10T12:08:47.357Z"
   },
   {
    "duration": 136,
    "start_time": "2023-02-10T12:09:19.221Z"
   },
   {
    "duration": 1668,
    "start_time": "2023-02-10T12:09:34.147Z"
   },
   {
    "duration": 3,
    "start_time": "2023-02-10T12:09:35.817Z"
   },
   {
    "duration": 263,
    "start_time": "2023-02-10T12:09:35.821Z"
   },
   {
    "duration": 27,
    "start_time": "2023-02-10T12:09:36.087Z"
   },
   {
    "duration": 23,
    "start_time": "2023-02-10T12:09:36.121Z"
   },
   {
    "duration": 35,
    "start_time": "2023-02-10T12:09:36.146Z"
   },
   {
    "duration": 50,
    "start_time": "2023-02-10T12:09:36.183Z"
   },
   {
    "duration": 5,
    "start_time": "2023-02-10T12:09:36.235Z"
   },
   {
    "duration": 109,
    "start_time": "2023-02-10T12:09:36.242Z"
   },
   {
    "duration": 77,
    "start_time": "2023-02-10T12:09:36.353Z"
   },
   {
    "duration": 75,
    "start_time": "2023-02-10T12:09:36.432Z"
   },
   {
    "duration": 32,
    "start_time": "2023-02-10T12:09:36.522Z"
   },
   {
    "duration": 7,
    "start_time": "2023-02-10T12:09:36.557Z"
   },
   {
    "duration": 13,
    "start_time": "2023-02-10T12:09:36.565Z"
   },
   {
    "duration": 320,
    "start_time": "2023-02-10T12:09:36.580Z"
   },
   {
    "duration": 257,
    "start_time": "2023-02-10T12:09:36.901Z"
   },
   {
    "duration": 0,
    "start_time": "2023-02-10T12:09:37.161Z"
   },
   {
    "duration": 0,
    "start_time": "2023-02-10T12:09:37.164Z"
   },
   {
    "duration": 0,
    "start_time": "2023-02-10T12:09:37.165Z"
   },
   {
    "duration": 0,
    "start_time": "2023-02-10T12:09:37.166Z"
   },
   {
    "duration": 0,
    "start_time": "2023-02-10T12:09:37.167Z"
   },
   {
    "duration": 0,
    "start_time": "2023-02-10T12:09:37.168Z"
   },
   {
    "duration": 0,
    "start_time": "2023-02-10T12:09:37.169Z"
   },
   {
    "duration": 0,
    "start_time": "2023-02-10T12:09:37.170Z"
   },
   {
    "duration": 0,
    "start_time": "2023-02-10T12:09:37.171Z"
   },
   {
    "duration": 0,
    "start_time": "2023-02-10T12:09:37.172Z"
   },
   {
    "duration": 0,
    "start_time": "2023-02-10T12:09:37.173Z"
   },
   {
    "duration": 0,
    "start_time": "2023-02-10T12:09:37.175Z"
   },
   {
    "duration": 0,
    "start_time": "2023-02-10T12:09:37.176Z"
   },
   {
    "duration": 0,
    "start_time": "2023-02-10T12:09:37.177Z"
   },
   {
    "duration": 0,
    "start_time": "2023-02-10T12:09:37.178Z"
   },
   {
    "duration": 0,
    "start_time": "2023-02-10T12:09:37.179Z"
   },
   {
    "duration": 0,
    "start_time": "2023-02-10T12:09:37.180Z"
   },
   {
    "duration": 0,
    "start_time": "2023-02-10T12:09:37.181Z"
   },
   {
    "duration": 0,
    "start_time": "2023-02-10T12:09:37.182Z"
   },
   {
    "duration": 0,
    "start_time": "2023-02-10T12:09:37.183Z"
   },
   {
    "duration": 0,
    "start_time": "2023-02-10T12:09:37.221Z"
   },
   {
    "duration": 0,
    "start_time": "2023-02-10T12:09:37.223Z"
   },
   {
    "duration": 0,
    "start_time": "2023-02-10T12:09:37.224Z"
   },
   {
    "duration": 0,
    "start_time": "2023-02-10T12:09:37.225Z"
   },
   {
    "duration": 0,
    "start_time": "2023-02-10T12:09:37.226Z"
   },
   {
    "duration": 0,
    "start_time": "2023-02-10T12:09:37.227Z"
   },
   {
    "duration": 0,
    "start_time": "2023-02-10T12:09:37.228Z"
   },
   {
    "duration": 0,
    "start_time": "2023-02-10T12:09:37.229Z"
   },
   {
    "duration": 0,
    "start_time": "2023-02-10T12:09:37.230Z"
   },
   {
    "duration": 0,
    "start_time": "2023-02-10T12:09:37.231Z"
   },
   {
    "duration": 0,
    "start_time": "2023-02-10T12:09:37.232Z"
   },
   {
    "duration": 0,
    "start_time": "2023-02-10T12:09:37.234Z"
   },
   {
    "duration": 0,
    "start_time": "2023-02-10T12:09:37.235Z"
   },
   {
    "duration": 0,
    "start_time": "2023-02-10T12:09:37.236Z"
   },
   {
    "duration": 0,
    "start_time": "2023-02-10T12:09:37.237Z"
   },
   {
    "duration": 0,
    "start_time": "2023-02-10T12:09:37.238Z"
   },
   {
    "duration": 0,
    "start_time": "2023-02-10T12:09:37.240Z"
   },
   {
    "duration": 0,
    "start_time": "2023-02-10T12:09:37.242Z"
   },
   {
    "duration": 0,
    "start_time": "2023-02-10T12:09:37.243Z"
   },
   {
    "duration": 0,
    "start_time": "2023-02-10T12:09:37.245Z"
   },
   {
    "duration": 0,
    "start_time": "2023-02-10T12:09:37.246Z"
   },
   {
    "duration": 0,
    "start_time": "2023-02-10T12:09:37.248Z"
   },
   {
    "duration": 0,
    "start_time": "2023-02-10T12:09:37.250Z"
   },
   {
    "duration": 0,
    "start_time": "2023-02-10T12:09:37.251Z"
   },
   {
    "duration": 0,
    "start_time": "2023-02-10T12:09:37.253Z"
   },
   {
    "duration": 0,
    "start_time": "2023-02-10T12:09:37.254Z"
   },
   {
    "duration": 0,
    "start_time": "2023-02-10T12:09:37.256Z"
   },
   {
    "duration": 1588,
    "start_time": "2023-02-10T12:12:16.099Z"
   },
   {
    "duration": 4,
    "start_time": "2023-02-10T12:12:17.689Z"
   },
   {
    "duration": 273,
    "start_time": "2023-02-10T12:12:17.695Z"
   },
   {
    "duration": 25,
    "start_time": "2023-02-10T12:12:17.971Z"
   },
   {
    "duration": 35,
    "start_time": "2023-02-10T12:12:17.999Z"
   },
   {
    "duration": 48,
    "start_time": "2023-02-10T12:12:18.036Z"
   },
   {
    "duration": 27,
    "start_time": "2023-02-10T12:12:18.087Z"
   },
   {
    "duration": 4,
    "start_time": "2023-02-10T12:12:18.116Z"
   },
   {
    "duration": 72,
    "start_time": "2023-02-10T12:12:18.122Z"
   },
   {
    "duration": 36,
    "start_time": "2023-02-10T12:12:18.197Z"
   },
   {
    "duration": 64,
    "start_time": "2023-02-10T12:12:18.234Z"
   },
   {
    "duration": 36,
    "start_time": "2023-02-10T12:12:18.321Z"
   },
   {
    "duration": 7,
    "start_time": "2023-02-10T12:12:18.360Z"
   },
   {
    "duration": 23,
    "start_time": "2023-02-10T12:12:18.370Z"
   },
   {
    "duration": 90,
    "start_time": "2023-02-10T12:12:18.395Z"
   },
   {
    "duration": 297,
    "start_time": "2023-02-10T12:12:18.487Z"
   },
   {
    "duration": 0,
    "start_time": "2023-02-10T12:12:18.787Z"
   },
   {
    "duration": 0,
    "start_time": "2023-02-10T12:12:18.789Z"
   },
   {
    "duration": 0,
    "start_time": "2023-02-10T12:12:18.790Z"
   },
   {
    "duration": 0,
    "start_time": "2023-02-10T12:12:18.791Z"
   },
   {
    "duration": 0,
    "start_time": "2023-02-10T12:12:18.793Z"
   },
   {
    "duration": 0,
    "start_time": "2023-02-10T12:12:18.796Z"
   },
   {
    "duration": 1,
    "start_time": "2023-02-10T12:12:18.796Z"
   },
   {
    "duration": 0,
    "start_time": "2023-02-10T12:12:18.798Z"
   },
   {
    "duration": 0,
    "start_time": "2023-02-10T12:12:18.820Z"
   },
   {
    "duration": 0,
    "start_time": "2023-02-10T12:12:18.822Z"
   },
   {
    "duration": 0,
    "start_time": "2023-02-10T12:12:18.824Z"
   },
   {
    "duration": 0,
    "start_time": "2023-02-10T12:12:18.825Z"
   },
   {
    "duration": 0,
    "start_time": "2023-02-10T12:12:18.826Z"
   },
   {
    "duration": 0,
    "start_time": "2023-02-10T12:12:18.828Z"
   },
   {
    "duration": 0,
    "start_time": "2023-02-10T12:12:18.829Z"
   },
   {
    "duration": 0,
    "start_time": "2023-02-10T12:12:18.831Z"
   },
   {
    "duration": 0,
    "start_time": "2023-02-10T12:12:18.833Z"
   },
   {
    "duration": 0,
    "start_time": "2023-02-10T12:12:18.834Z"
   },
   {
    "duration": 0,
    "start_time": "2023-02-10T12:12:18.836Z"
   },
   {
    "duration": 0,
    "start_time": "2023-02-10T12:12:18.838Z"
   },
   {
    "duration": 0,
    "start_time": "2023-02-10T12:12:18.839Z"
   },
   {
    "duration": 0,
    "start_time": "2023-02-10T12:12:18.841Z"
   },
   {
    "duration": 0,
    "start_time": "2023-02-10T12:12:18.842Z"
   },
   {
    "duration": 0,
    "start_time": "2023-02-10T12:12:18.844Z"
   },
   {
    "duration": 0,
    "start_time": "2023-02-10T12:12:18.845Z"
   },
   {
    "duration": 0,
    "start_time": "2023-02-10T12:12:18.847Z"
   },
   {
    "duration": 0,
    "start_time": "2023-02-10T12:12:18.848Z"
   },
   {
    "duration": 0,
    "start_time": "2023-02-10T12:12:18.850Z"
   },
   {
    "duration": 1,
    "start_time": "2023-02-10T12:12:18.851Z"
   },
   {
    "duration": 0,
    "start_time": "2023-02-10T12:12:18.853Z"
   },
   {
    "duration": 0,
    "start_time": "2023-02-10T12:12:18.855Z"
   },
   {
    "duration": 0,
    "start_time": "2023-02-10T12:12:18.856Z"
   },
   {
    "duration": 0,
    "start_time": "2023-02-10T12:12:18.858Z"
   },
   {
    "duration": 1,
    "start_time": "2023-02-10T12:12:18.859Z"
   },
   {
    "duration": 0,
    "start_time": "2023-02-10T12:12:18.921Z"
   },
   {
    "duration": 0,
    "start_time": "2023-02-10T12:12:18.923Z"
   },
   {
    "duration": 0,
    "start_time": "2023-02-10T12:12:18.925Z"
   },
   {
    "duration": 0,
    "start_time": "2023-02-10T12:12:18.928Z"
   },
   {
    "duration": 0,
    "start_time": "2023-02-10T12:12:18.929Z"
   },
   {
    "duration": 0,
    "start_time": "2023-02-10T12:12:18.931Z"
   },
   {
    "duration": 0,
    "start_time": "2023-02-10T12:12:18.932Z"
   },
   {
    "duration": 0,
    "start_time": "2023-02-10T12:12:18.933Z"
   },
   {
    "duration": 0,
    "start_time": "2023-02-10T12:12:18.934Z"
   },
   {
    "duration": 0,
    "start_time": "2023-02-10T12:12:18.936Z"
   },
   {
    "duration": 0,
    "start_time": "2023-02-10T12:12:18.937Z"
   },
   {
    "duration": 0,
    "start_time": "2023-02-10T12:12:18.938Z"
   },
   {
    "duration": 0,
    "start_time": "2023-02-10T12:12:18.939Z"
   },
   {
    "duration": 37,
    "start_time": "2023-02-10T12:13:38.533Z"
   },
   {
    "duration": 105,
    "start_time": "2023-02-10T12:13:41.517Z"
   },
   {
    "duration": 108,
    "start_time": "2023-02-10T12:13:52.842Z"
   },
   {
    "duration": 1556,
    "start_time": "2023-02-10T12:15:56.496Z"
   },
   {
    "duration": 4,
    "start_time": "2023-02-10T12:15:58.054Z"
   },
   {
    "duration": 265,
    "start_time": "2023-02-10T12:15:58.060Z"
   },
   {
    "duration": 29,
    "start_time": "2023-02-10T12:15:58.329Z"
   },
   {
    "duration": 22,
    "start_time": "2023-02-10T12:15:58.359Z"
   },
   {
    "duration": 52,
    "start_time": "2023-02-10T12:15:58.383Z"
   },
   {
    "duration": 20,
    "start_time": "2023-02-10T12:15:58.437Z"
   },
   {
    "duration": 3,
    "start_time": "2023-02-10T12:15:58.459Z"
   },
   {
    "duration": 74,
    "start_time": "2023-02-10T12:15:58.464Z"
   },
   {
    "duration": 52,
    "start_time": "2023-02-10T12:15:58.541Z"
   },
   {
    "duration": 77,
    "start_time": "2023-02-10T12:15:58.620Z"
   },
   {
    "duration": 44,
    "start_time": "2023-02-10T12:15:58.699Z"
   },
   {
    "duration": 8,
    "start_time": "2023-02-10T12:15:58.744Z"
   },
   {
    "duration": 12,
    "start_time": "2023-02-10T12:15:58.754Z"
   },
   {
    "duration": 94,
    "start_time": "2023-02-10T12:15:58.768Z"
   },
   {
    "duration": 110,
    "start_time": "2023-02-10T12:15:58.864Z"
   },
   {
    "duration": 68,
    "start_time": "2023-02-10T12:15:58.976Z"
   },
   {
    "duration": 714,
    "start_time": "2023-02-10T12:15:59.046Z"
   },
   {
    "duration": 13,
    "start_time": "2023-02-10T12:15:59.763Z"
   },
   {
    "duration": 9,
    "start_time": "2023-02-10T12:15:59.778Z"
   },
   {
    "duration": 36,
    "start_time": "2023-02-10T12:15:59.789Z"
   },
   {
    "duration": 29,
    "start_time": "2023-02-10T12:15:59.827Z"
   },
   {
    "duration": 86,
    "start_time": "2023-02-10T12:15:59.857Z"
   },
   {
    "duration": 90,
    "start_time": "2023-02-10T12:15:59.945Z"
   },
   {
    "duration": 4,
    "start_time": "2023-02-10T12:16:00.037Z"
   },
   {
    "duration": 15961,
    "start_time": "2023-02-10T12:16:00.042Z"
   },
   {
    "duration": 2822,
    "start_time": "2023-02-10T12:16:16.005Z"
   },
   {
    "duration": 15,
    "start_time": "2023-02-10T12:16:18.831Z"
   },
   {
    "duration": 152,
    "start_time": "2023-02-10T12:16:18.848Z"
   },
   {
    "duration": 81,
    "start_time": "2023-02-10T12:16:19.002Z"
   },
   {
    "duration": 0,
    "start_time": "2023-02-10T12:16:19.085Z"
   },
   {
    "duration": 0,
    "start_time": "2023-02-10T12:16:19.086Z"
   },
   {
    "duration": 0,
    "start_time": "2023-02-10T12:16:19.088Z"
   },
   {
    "duration": 0,
    "start_time": "2023-02-10T12:16:19.089Z"
   },
   {
    "duration": 0,
    "start_time": "2023-02-10T12:16:19.090Z"
   },
   {
    "duration": 0,
    "start_time": "2023-02-10T12:16:19.091Z"
   },
   {
    "duration": 0,
    "start_time": "2023-02-10T12:16:19.092Z"
   },
   {
    "duration": 0,
    "start_time": "2023-02-10T12:16:19.093Z"
   },
   {
    "duration": 0,
    "start_time": "2023-02-10T12:16:19.094Z"
   },
   {
    "duration": 0,
    "start_time": "2023-02-10T12:16:19.095Z"
   },
   {
    "duration": 0,
    "start_time": "2023-02-10T12:16:19.096Z"
   },
   {
    "duration": 0,
    "start_time": "2023-02-10T12:16:19.097Z"
   },
   {
    "duration": 0,
    "start_time": "2023-02-10T12:16:19.099Z"
   },
   {
    "duration": 0,
    "start_time": "2023-02-10T12:16:19.100Z"
   },
   {
    "duration": 0,
    "start_time": "2023-02-10T12:16:19.101Z"
   },
   {
    "duration": 0,
    "start_time": "2023-02-10T12:16:19.102Z"
   },
   {
    "duration": 0,
    "start_time": "2023-02-10T12:16:19.103Z"
   },
   {
    "duration": 0,
    "start_time": "2023-02-10T12:16:19.104Z"
   },
   {
    "duration": 0,
    "start_time": "2023-02-10T12:16:19.106Z"
   },
   {
    "duration": 0,
    "start_time": "2023-02-10T12:16:19.107Z"
   },
   {
    "duration": 0,
    "start_time": "2023-02-10T12:16:19.108Z"
   },
   {
    "duration": 0,
    "start_time": "2023-02-10T12:16:19.109Z"
   },
   {
    "duration": 0,
    "start_time": "2023-02-10T12:16:19.110Z"
   },
   {
    "duration": 0,
    "start_time": "2023-02-10T12:16:19.111Z"
   },
   {
    "duration": 0,
    "start_time": "2023-02-10T12:16:19.113Z"
   },
   {
    "duration": 0,
    "start_time": "2023-02-10T12:16:19.114Z"
   },
   {
    "duration": 0,
    "start_time": "2023-02-10T12:16:19.115Z"
   },
   {
    "duration": 0,
    "start_time": "2023-02-10T12:16:19.116Z"
   },
   {
    "duration": 0,
    "start_time": "2023-02-10T12:16:19.117Z"
   },
   {
    "duration": 0,
    "start_time": "2023-02-10T12:16:19.118Z"
   },
   {
    "duration": 7,
    "start_time": "2023-02-10T12:46:00.762Z"
   },
   {
    "duration": 9,
    "start_time": "2023-02-10T12:46:11.290Z"
   },
   {
    "duration": 5,
    "start_time": "2023-02-10T12:48:55.741Z"
   },
   {
    "duration": 7,
    "start_time": "2023-02-10T13:35:51.985Z"
   },
   {
    "duration": 5,
    "start_time": "2023-02-10T13:36:51.663Z"
   },
   {
    "duration": 109,
    "start_time": "2023-02-10T13:36:55.559Z"
   },
   {
    "duration": 9,
    "start_time": "2023-02-10T13:37:48.057Z"
   },
   {
    "duration": 44,
    "start_time": "2023-02-10T13:37:56.331Z"
   },
   {
    "duration": 11,
    "start_time": "2023-02-10T13:38:13.012Z"
   },
   {
    "duration": 38,
    "start_time": "2023-02-10T13:41:03.542Z"
   },
   {
    "duration": 38,
    "start_time": "2023-02-10T13:41:19.682Z"
   },
   {
    "duration": 1299,
    "start_time": "2023-02-10T13:45:19.043Z"
   },
   {
    "duration": 8,
    "start_time": "2023-02-10T13:47:25.959Z"
   },
   {
    "duration": 5,
    "start_time": "2023-02-10T13:47:28.591Z"
   },
   {
    "duration": 1428,
    "start_time": "2023-02-10T13:47:29.678Z"
   },
   {
    "duration": 1589,
    "start_time": "2023-02-10T13:48:13.210Z"
   },
   {
    "duration": 4,
    "start_time": "2023-02-10T13:48:14.802Z"
   },
   {
    "duration": 298,
    "start_time": "2023-02-10T13:48:14.808Z"
   },
   {
    "duration": 28,
    "start_time": "2023-02-10T13:48:15.108Z"
   },
   {
    "duration": 23,
    "start_time": "2023-02-10T13:48:15.139Z"
   },
   {
    "duration": 37,
    "start_time": "2023-02-10T13:48:15.164Z"
   },
   {
    "duration": 36,
    "start_time": "2023-02-10T13:48:15.203Z"
   },
   {
    "duration": 4,
    "start_time": "2023-02-10T13:48:15.241Z"
   },
   {
    "duration": 75,
    "start_time": "2023-02-10T13:48:15.246Z"
   },
   {
    "duration": 34,
    "start_time": "2023-02-10T13:48:15.323Z"
   },
   {
    "duration": 90,
    "start_time": "2023-02-10T13:48:15.360Z"
   },
   {
    "duration": 33,
    "start_time": "2023-02-10T13:48:15.451Z"
   },
   {
    "duration": 6,
    "start_time": "2023-02-10T13:48:15.485Z"
   },
   {
    "duration": 35,
    "start_time": "2023-02-10T13:48:15.494Z"
   },
   {
    "duration": 67,
    "start_time": "2023-02-10T13:48:15.531Z"
   },
   {
    "duration": 116,
    "start_time": "2023-02-10T13:48:15.600Z"
   },
   {
    "duration": 63,
    "start_time": "2023-02-10T13:48:15.721Z"
   },
   {
    "duration": 711,
    "start_time": "2023-02-10T13:48:15.785Z"
   },
   {
    "duration": 15,
    "start_time": "2023-02-10T13:48:16.498Z"
   },
   {
    "duration": 10,
    "start_time": "2023-02-10T13:48:16.515Z"
   },
   {
    "duration": 28,
    "start_time": "2023-02-10T13:48:16.528Z"
   },
   {
    "duration": 40,
    "start_time": "2023-02-10T13:48:16.558Z"
   },
   {
    "duration": 89,
    "start_time": "2023-02-10T13:48:16.600Z"
   },
   {
    "duration": 95,
    "start_time": "2023-02-10T13:48:16.690Z"
   },
   {
    "duration": 4,
    "start_time": "2023-02-10T13:48:16.786Z"
   },
   {
    "duration": 15823,
    "start_time": "2023-02-10T13:48:16.792Z"
   },
   {
    "duration": 2950,
    "start_time": "2023-02-10T13:48:32.617Z"
   },
   {
    "duration": 16,
    "start_time": "2023-02-10T13:48:35.568Z"
   },
   {
    "duration": 158,
    "start_time": "2023-02-10T13:48:35.586Z"
   },
   {
    "duration": 125,
    "start_time": "2023-02-10T13:48:35.745Z"
   },
   {
    "duration": 0,
    "start_time": "2023-02-10T13:48:35.872Z"
   },
   {
    "duration": 0,
    "start_time": "2023-02-10T13:48:35.873Z"
   },
   {
    "duration": 0,
    "start_time": "2023-02-10T13:48:35.874Z"
   },
   {
    "duration": 0,
    "start_time": "2023-02-10T13:48:35.875Z"
   },
   {
    "duration": 0,
    "start_time": "2023-02-10T13:48:35.877Z"
   },
   {
    "duration": 0,
    "start_time": "2023-02-10T13:48:35.877Z"
   },
   {
    "duration": 0,
    "start_time": "2023-02-10T13:48:35.879Z"
   },
   {
    "duration": 0,
    "start_time": "2023-02-10T13:48:35.880Z"
   },
   {
    "duration": 0,
    "start_time": "2023-02-10T13:48:35.881Z"
   },
   {
    "duration": 0,
    "start_time": "2023-02-10T13:48:35.883Z"
   },
   {
    "duration": 0,
    "start_time": "2023-02-10T13:48:35.884Z"
   },
   {
    "duration": 0,
    "start_time": "2023-02-10T13:48:35.885Z"
   },
   {
    "duration": 0,
    "start_time": "2023-02-10T13:48:35.886Z"
   },
   {
    "duration": 0,
    "start_time": "2023-02-10T13:48:35.887Z"
   },
   {
    "duration": 0,
    "start_time": "2023-02-10T13:48:35.888Z"
   },
   {
    "duration": 0,
    "start_time": "2023-02-10T13:48:35.889Z"
   },
   {
    "duration": 0,
    "start_time": "2023-02-10T13:48:35.890Z"
   },
   {
    "duration": 0,
    "start_time": "2023-02-10T13:48:35.921Z"
   },
   {
    "duration": 0,
    "start_time": "2023-02-10T13:48:35.922Z"
   },
   {
    "duration": 0,
    "start_time": "2023-02-10T13:48:35.923Z"
   },
   {
    "duration": 0,
    "start_time": "2023-02-10T13:48:35.925Z"
   },
   {
    "duration": 0,
    "start_time": "2023-02-10T13:48:35.926Z"
   },
   {
    "duration": 0,
    "start_time": "2023-02-10T13:48:35.927Z"
   },
   {
    "duration": 0,
    "start_time": "2023-02-10T13:48:35.928Z"
   },
   {
    "duration": 0,
    "start_time": "2023-02-10T13:48:35.929Z"
   },
   {
    "duration": 0,
    "start_time": "2023-02-10T13:48:35.930Z"
   },
   {
    "duration": 0,
    "start_time": "2023-02-10T13:48:35.931Z"
   },
   {
    "duration": 0,
    "start_time": "2023-02-10T13:48:35.933Z"
   },
   {
    "duration": 0,
    "start_time": "2023-02-10T13:48:35.935Z"
   },
   {
    "duration": 0,
    "start_time": "2023-02-10T13:48:35.936Z"
   },
   {
    "duration": 0,
    "start_time": "2023-02-10T13:48:35.938Z"
   },
   {
    "duration": 0,
    "start_time": "2023-02-10T13:48:35.939Z"
   },
   {
    "duration": 8,
    "start_time": "2023-02-10T13:48:53.765Z"
   },
   {
    "duration": 5,
    "start_time": "2023-02-10T13:48:55.261Z"
   },
   {
    "duration": 1233,
    "start_time": "2023-02-10T13:48:56.068Z"
   },
   {
    "duration": 5,
    "start_time": "2023-02-10T13:50:50.164Z"
   },
   {
    "duration": 13,
    "start_time": "2023-02-10T13:50:50.923Z"
   },
   {
    "duration": 14,
    "start_time": "2023-02-10T13:52:04.248Z"
   },
   {
    "duration": 6,
    "start_time": "2023-02-10T13:52:21.052Z"
   },
   {
    "duration": 386,
    "start_time": "2023-02-10T13:52:39.982Z"
   },
   {
    "duration": 14,
    "start_time": "2023-02-10T14:06:36.559Z"
   },
   {
    "duration": 17,
    "start_time": "2023-02-10T14:06:48.053Z"
   },
   {
    "duration": 12,
    "start_time": "2023-02-10T14:08:06.485Z"
   },
   {
    "duration": 17,
    "start_time": "2023-02-10T14:08:07.173Z"
   },
   {
    "duration": 1503,
    "start_time": "2023-02-10T14:11:17.127Z"
   },
   {
    "duration": 3,
    "start_time": "2023-02-10T14:11:18.632Z"
   },
   {
    "duration": 270,
    "start_time": "2023-02-10T14:11:18.637Z"
   },
   {
    "duration": 22,
    "start_time": "2023-02-10T14:11:18.909Z"
   },
   {
    "duration": 40,
    "start_time": "2023-02-10T14:11:18.933Z"
   },
   {
    "duration": 55,
    "start_time": "2023-02-10T14:11:18.974Z"
   },
   {
    "duration": 34,
    "start_time": "2023-02-10T14:11:19.031Z"
   },
   {
    "duration": 4,
    "start_time": "2023-02-10T14:11:19.067Z"
   },
   {
    "duration": 88,
    "start_time": "2023-02-10T14:11:19.073Z"
   },
   {
    "duration": 62,
    "start_time": "2023-02-10T14:11:19.163Z"
   },
   {
    "duration": 64,
    "start_time": "2023-02-10T14:11:19.227Z"
   },
   {
    "duration": 36,
    "start_time": "2023-02-10T14:11:19.293Z"
   },
   {
    "duration": 26,
    "start_time": "2023-02-10T14:11:19.330Z"
   },
   {
    "duration": 25,
    "start_time": "2023-02-10T14:11:19.359Z"
   },
   {
    "duration": 86,
    "start_time": "2023-02-10T14:11:19.385Z"
   },
   {
    "duration": 105,
    "start_time": "2023-02-10T14:11:19.474Z"
   },
   {
    "duration": 67,
    "start_time": "2023-02-10T14:11:19.580Z"
   },
   {
    "duration": 799,
    "start_time": "2023-02-10T14:11:19.649Z"
   },
   {
    "duration": 13,
    "start_time": "2023-02-10T14:11:20.450Z"
   },
   {
    "duration": 26,
    "start_time": "2023-02-10T14:11:20.464Z"
   },
   {
    "duration": 33,
    "start_time": "2023-02-10T14:11:20.492Z"
   },
   {
    "duration": 29,
    "start_time": "2023-02-10T14:11:20.527Z"
   },
   {
    "duration": 84,
    "start_time": "2023-02-10T14:11:20.557Z"
   },
   {
    "duration": 87,
    "start_time": "2023-02-10T14:11:20.643Z"
   },
   {
    "duration": 3,
    "start_time": "2023-02-10T14:11:20.732Z"
   },
   {
    "duration": 15466,
    "start_time": "2023-02-10T14:11:20.737Z"
   },
   {
    "duration": 2821,
    "start_time": "2023-02-10T14:11:36.205Z"
   },
   {
    "duration": 15,
    "start_time": "2023-02-10T14:11:39.028Z"
   },
   {
    "duration": 162,
    "start_time": "2023-02-10T14:11:39.044Z"
   },
   {
    "duration": 3,
    "start_time": "2023-02-10T14:11:39.207Z"
   },
   {
    "duration": 34,
    "start_time": "2023-02-10T14:11:39.212Z"
   },
   {
    "duration": 15,
    "start_time": "2023-02-10T14:11:39.248Z"
   },
   {
    "duration": 33,
    "start_time": "2023-02-10T14:11:39.264Z"
   },
   {
    "duration": 204,
    "start_time": "2023-02-10T14:11:39.300Z"
   },
   {
    "duration": 0,
    "start_time": "2023-02-10T14:11:39.507Z"
   },
   {
    "duration": 0,
    "start_time": "2023-02-10T14:11:39.508Z"
   },
   {
    "duration": 0,
    "start_time": "2023-02-10T14:11:39.510Z"
   },
   {
    "duration": 0,
    "start_time": "2023-02-10T14:11:39.510Z"
   },
   {
    "duration": 0,
    "start_time": "2023-02-10T14:11:39.511Z"
   },
   {
    "duration": 0,
    "start_time": "2023-02-10T14:11:39.512Z"
   },
   {
    "duration": 0,
    "start_time": "2023-02-10T14:11:39.513Z"
   },
   {
    "duration": 0,
    "start_time": "2023-02-10T14:11:39.514Z"
   },
   {
    "duration": 0,
    "start_time": "2023-02-10T14:11:39.521Z"
   },
   {
    "duration": 0,
    "start_time": "2023-02-10T14:11:39.522Z"
   },
   {
    "duration": 0,
    "start_time": "2023-02-10T14:11:39.522Z"
   },
   {
    "duration": 0,
    "start_time": "2023-02-10T14:11:39.524Z"
   },
   {
    "duration": 0,
    "start_time": "2023-02-10T14:11:39.525Z"
   },
   {
    "duration": 0,
    "start_time": "2023-02-10T14:11:39.526Z"
   },
   {
    "duration": 0,
    "start_time": "2023-02-10T14:11:39.527Z"
   },
   {
    "duration": 0,
    "start_time": "2023-02-10T14:11:39.528Z"
   },
   {
    "duration": 0,
    "start_time": "2023-02-10T14:11:39.529Z"
   },
   {
    "duration": 0,
    "start_time": "2023-02-10T14:11:39.530Z"
   },
   {
    "duration": 0,
    "start_time": "2023-02-10T14:11:39.531Z"
   },
   {
    "duration": 0,
    "start_time": "2023-02-10T14:11:39.532Z"
   },
   {
    "duration": 0,
    "start_time": "2023-02-10T14:11:39.533Z"
   },
   {
    "duration": 0,
    "start_time": "2023-02-10T14:11:39.534Z"
   },
   {
    "duration": 0,
    "start_time": "2023-02-10T14:11:39.535Z"
   },
   {
    "duration": 0,
    "start_time": "2023-02-10T14:11:39.536Z"
   },
   {
    "duration": 0,
    "start_time": "2023-02-10T14:11:39.538Z"
   },
   {
    "duration": 0,
    "start_time": "2023-02-10T14:11:39.539Z"
   },
   {
    "duration": 0,
    "start_time": "2023-02-10T14:11:39.540Z"
   },
   {
    "duration": 0,
    "start_time": "2023-02-10T14:11:39.541Z"
   },
   {
    "duration": 0,
    "start_time": "2023-02-10T14:11:39.542Z"
   },
   {
    "duration": 0,
    "start_time": "2023-02-10T14:11:39.543Z"
   },
   {
    "duration": 3,
    "start_time": "2023-02-10T14:13:59.911Z"
   },
   {
    "duration": 24,
    "start_time": "2023-02-10T14:14:00.809Z"
   },
   {
    "duration": 55,
    "start_time": "2023-02-10T14:15:22.633Z"
   },
   {
    "duration": 6,
    "start_time": "2023-02-10T14:15:30.676Z"
   },
   {
    "duration": 933,
    "start_time": "2023-02-10T14:15:38.157Z"
   },
   {
    "duration": 5,
    "start_time": "2023-02-10T14:16:10.224Z"
   },
   {
    "duration": 1153,
    "start_time": "2023-02-10T14:16:37.210Z"
   },
   {
    "duration": 11,
    "start_time": "2023-02-10T14:23:37.729Z"
   },
   {
    "duration": 13,
    "start_time": "2023-02-10T14:23:55.602Z"
   },
   {
    "duration": 939,
    "start_time": "2023-02-10T14:26:52.602Z"
   },
   {
    "duration": 7,
    "start_time": "2023-02-10T14:27:13.521Z"
   },
   {
    "duration": 5,
    "start_time": "2023-02-10T14:27:46.029Z"
   },
   {
    "duration": 525,
    "start_time": "2023-02-10T14:27:49.219Z"
   },
   {
    "duration": 5,
    "start_time": "2023-02-10T14:27:49.919Z"
   },
   {
    "duration": 15,
    "start_time": "2023-02-10T14:27:50.864Z"
   },
   {
    "duration": 11,
    "start_time": "2023-02-10T14:27:51.693Z"
   },
   {
    "duration": 1451,
    "start_time": "2023-02-10T14:47:22.633Z"
   },
   {
    "duration": 3,
    "start_time": "2023-02-10T14:47:24.086Z"
   },
   {
    "duration": 288,
    "start_time": "2023-02-10T14:47:24.091Z"
   },
   {
    "duration": 23,
    "start_time": "2023-02-10T14:47:24.381Z"
   },
   {
    "duration": 29,
    "start_time": "2023-02-10T14:47:24.405Z"
   },
   {
    "duration": 40,
    "start_time": "2023-02-10T14:47:24.436Z"
   },
   {
    "duration": 19,
    "start_time": "2023-02-10T14:47:24.477Z"
   },
   {
    "duration": 21,
    "start_time": "2023-02-10T14:47:24.499Z"
   },
   {
    "duration": 71,
    "start_time": "2023-02-10T14:47:24.523Z"
   },
   {
    "duration": 64,
    "start_time": "2023-02-10T14:47:24.597Z"
   },
   {
    "duration": 103,
    "start_time": "2023-02-10T14:47:24.663Z"
   },
   {
    "duration": 52,
    "start_time": "2023-02-10T14:47:24.769Z"
   },
   {
    "duration": 8,
    "start_time": "2023-02-10T14:47:24.823Z"
   },
   {
    "duration": 17,
    "start_time": "2023-02-10T14:47:24.833Z"
   },
   {
    "duration": 72,
    "start_time": "2023-02-10T14:47:24.852Z"
   },
   {
    "duration": 120,
    "start_time": "2023-02-10T14:47:24.925Z"
   },
   {
    "duration": 87,
    "start_time": "2023-02-10T14:47:25.048Z"
   },
   {
    "duration": 652,
    "start_time": "2023-02-10T14:47:25.136Z"
   },
   {
    "duration": 10,
    "start_time": "2023-02-10T14:47:25.790Z"
   },
   {
    "duration": 12,
    "start_time": "2023-02-10T14:47:25.802Z"
   },
   {
    "duration": 21,
    "start_time": "2023-02-10T14:47:25.815Z"
   },
   {
    "duration": 30,
    "start_time": "2023-02-10T14:47:25.838Z"
   },
   {
    "duration": 84,
    "start_time": "2023-02-10T14:47:25.869Z"
   },
   {
    "duration": 92,
    "start_time": "2023-02-10T14:47:25.954Z"
   },
   {
    "duration": 2,
    "start_time": "2023-02-10T14:47:26.048Z"
   },
   {
    "duration": 7,
    "start_time": "2023-02-10T14:47:26.052Z"
   },
   {
    "duration": 2805,
    "start_time": "2023-02-10T14:47:26.060Z"
   },
   {
    "duration": 25,
    "start_time": "2023-02-10T14:47:28.871Z"
   },
   {
    "duration": 160,
    "start_time": "2023-02-10T14:47:28.898Z"
   },
   {
    "duration": 4,
    "start_time": "2023-02-10T14:47:29.061Z"
   },
   {
    "duration": 11,
    "start_time": "2023-02-10T14:47:29.067Z"
   },
   {
    "duration": 560,
    "start_time": "2023-02-10T14:47:29.080Z"
   },
   {
    "duration": 123,
    "start_time": "2023-02-10T14:47:29.641Z"
   },
   {
    "duration": 0,
    "start_time": "2023-02-10T14:47:29.766Z"
   },
   {
    "duration": 0,
    "start_time": "2023-02-10T14:47:29.769Z"
   },
   {
    "duration": 0,
    "start_time": "2023-02-10T14:47:29.770Z"
   },
   {
    "duration": 0,
    "start_time": "2023-02-10T14:47:29.771Z"
   },
   {
    "duration": 0,
    "start_time": "2023-02-10T14:47:29.773Z"
   },
   {
    "duration": 0,
    "start_time": "2023-02-10T14:47:29.775Z"
   },
   {
    "duration": 0,
    "start_time": "2023-02-10T14:47:29.776Z"
   },
   {
    "duration": 0,
    "start_time": "2023-02-10T14:47:29.778Z"
   },
   {
    "duration": 0,
    "start_time": "2023-02-10T14:47:29.779Z"
   },
   {
    "duration": 0,
    "start_time": "2023-02-10T14:47:29.780Z"
   },
   {
    "duration": 0,
    "start_time": "2023-02-10T14:47:29.782Z"
   },
   {
    "duration": 0,
    "start_time": "2023-02-10T14:47:29.783Z"
   },
   {
    "duration": 0,
    "start_time": "2023-02-10T14:47:29.784Z"
   },
   {
    "duration": 0,
    "start_time": "2023-02-10T14:47:29.786Z"
   },
   {
    "duration": 0,
    "start_time": "2023-02-10T14:47:29.821Z"
   },
   {
    "duration": 0,
    "start_time": "2023-02-10T14:47:29.823Z"
   },
   {
    "duration": 0,
    "start_time": "2023-02-10T14:47:29.825Z"
   },
   {
    "duration": 0,
    "start_time": "2023-02-10T14:47:29.827Z"
   },
   {
    "duration": 0,
    "start_time": "2023-02-10T14:47:29.829Z"
   },
   {
    "duration": 0,
    "start_time": "2023-02-10T14:47:29.830Z"
   },
   {
    "duration": 0,
    "start_time": "2023-02-10T14:47:29.831Z"
   },
   {
    "duration": 0,
    "start_time": "2023-02-10T14:47:29.833Z"
   },
   {
    "duration": 0,
    "start_time": "2023-02-10T14:47:29.835Z"
   },
   {
    "duration": 0,
    "start_time": "2023-02-10T14:47:29.836Z"
   },
   {
    "duration": 6,
    "start_time": "2023-02-10T14:49:58.463Z"
   },
   {
    "duration": 1640,
    "start_time": "2023-02-10T14:52:14.693Z"
   },
   {
    "duration": 4,
    "start_time": "2023-02-10T14:52:16.336Z"
   },
   {
    "duration": 313,
    "start_time": "2023-02-10T14:52:16.342Z"
   },
   {
    "duration": 27,
    "start_time": "2023-02-10T14:52:16.658Z"
   },
   {
    "duration": 38,
    "start_time": "2023-02-10T14:52:16.688Z"
   },
   {
    "duration": 34,
    "start_time": "2023-02-10T14:52:16.728Z"
   },
   {
    "duration": 23,
    "start_time": "2023-02-10T14:52:16.764Z"
   },
   {
    "duration": 32,
    "start_time": "2023-02-10T14:52:16.789Z"
   },
   {
    "duration": 59,
    "start_time": "2023-02-10T14:52:16.824Z"
   },
   {
    "duration": 59,
    "start_time": "2023-02-10T14:52:16.885Z"
   },
   {
    "duration": 85,
    "start_time": "2023-02-10T14:52:16.945Z"
   },
   {
    "duration": 32,
    "start_time": "2023-02-10T14:52:17.032Z"
   },
   {
    "duration": 6,
    "start_time": "2023-02-10T14:52:17.066Z"
   },
   {
    "duration": 12,
    "start_time": "2023-02-10T14:52:17.076Z"
   },
   {
    "duration": 93,
    "start_time": "2023-02-10T14:52:17.090Z"
   },
   {
    "duration": 120,
    "start_time": "2023-02-10T14:52:17.185Z"
   },
   {
    "duration": 3,
    "start_time": "2023-02-10T14:52:17.307Z"
   },
   {
    "duration": 2,
    "start_time": "2023-02-10T14:52:17.320Z"
   },
   {
    "duration": 10,
    "start_time": "2023-02-10T14:52:17.325Z"
   },
   {
    "duration": 6,
    "start_time": "2023-02-10T14:52:17.337Z"
   },
   {
    "duration": 4,
    "start_time": "2023-02-10T14:52:17.345Z"
   },
   {
    "duration": 34,
    "start_time": "2023-02-10T14:52:17.351Z"
   },
   {
    "duration": 6,
    "start_time": "2023-02-10T14:52:17.387Z"
   },
   {
    "duration": 26,
    "start_time": "2023-02-10T14:52:17.395Z"
   },
   {
    "duration": 3,
    "start_time": "2023-02-10T14:52:17.423Z"
   },
   {
    "duration": 8,
    "start_time": "2023-02-10T14:52:17.427Z"
   },
   {
    "duration": 6,
    "start_time": "2023-02-10T14:52:17.436Z"
   },
   {
    "duration": 4,
    "start_time": "2023-02-10T14:52:17.444Z"
   },
   {
    "duration": 19,
    "start_time": "2023-02-10T14:52:17.449Z"
   },
   {
    "duration": 172,
    "start_time": "2023-02-10T14:52:17.469Z"
   },
   {
    "duration": 4,
    "start_time": "2023-02-10T14:52:17.643Z"
   },
   {
    "duration": 11,
    "start_time": "2023-02-10T14:52:17.649Z"
   },
   {
    "duration": 571,
    "start_time": "2023-02-10T14:52:17.662Z"
   },
   {
    "duration": 130,
    "start_time": "2023-02-10T14:52:18.236Z"
   },
   {
    "duration": 0,
    "start_time": "2023-02-10T14:52:18.369Z"
   },
   {
    "duration": 0,
    "start_time": "2023-02-10T14:52:18.370Z"
   },
   {
    "duration": 0,
    "start_time": "2023-02-10T14:52:18.371Z"
   },
   {
    "duration": 0,
    "start_time": "2023-02-10T14:52:18.372Z"
   },
   {
    "duration": 0,
    "start_time": "2023-02-10T14:52:18.373Z"
   },
   {
    "duration": 0,
    "start_time": "2023-02-10T14:52:18.374Z"
   },
   {
    "duration": 0,
    "start_time": "2023-02-10T14:52:18.375Z"
   },
   {
    "duration": 0,
    "start_time": "2023-02-10T14:52:18.376Z"
   },
   {
    "duration": 0,
    "start_time": "2023-02-10T14:52:18.378Z"
   },
   {
    "duration": 0,
    "start_time": "2023-02-10T14:52:18.379Z"
   },
   {
    "duration": 0,
    "start_time": "2023-02-10T14:52:18.380Z"
   },
   {
    "duration": 0,
    "start_time": "2023-02-10T14:52:18.382Z"
   },
   {
    "duration": 0,
    "start_time": "2023-02-10T14:52:18.383Z"
   },
   {
    "duration": 0,
    "start_time": "2023-02-10T14:52:18.384Z"
   },
   {
    "duration": 0,
    "start_time": "2023-02-10T14:52:18.386Z"
   },
   {
    "duration": 0,
    "start_time": "2023-02-10T14:52:18.421Z"
   },
   {
    "duration": 0,
    "start_time": "2023-02-10T14:52:18.422Z"
   },
   {
    "duration": 0,
    "start_time": "2023-02-10T14:52:18.423Z"
   },
   {
    "duration": 0,
    "start_time": "2023-02-10T14:52:18.425Z"
   },
   {
    "duration": 0,
    "start_time": "2023-02-10T14:52:18.426Z"
   },
   {
    "duration": 0,
    "start_time": "2023-02-10T14:52:18.427Z"
   },
   {
    "duration": 0,
    "start_time": "2023-02-10T14:52:18.428Z"
   },
   {
    "duration": 0,
    "start_time": "2023-02-10T14:52:18.429Z"
   },
   {
    "duration": 0,
    "start_time": "2023-02-10T14:52:18.430Z"
   },
   {
    "duration": 1513,
    "start_time": "2023-02-10T14:55:27.592Z"
   },
   {
    "duration": 4,
    "start_time": "2023-02-10T14:55:29.107Z"
   },
   {
    "duration": 258,
    "start_time": "2023-02-10T14:55:29.112Z"
   },
   {
    "duration": 23,
    "start_time": "2023-02-10T14:55:29.372Z"
   },
   {
    "duration": 25,
    "start_time": "2023-02-10T14:55:29.397Z"
   },
   {
    "duration": 10,
    "start_time": "2023-02-10T14:55:29.424Z"
   },
   {
    "duration": 5,
    "start_time": "2023-02-10T14:55:29.436Z"
   },
   {
    "duration": 7,
    "start_time": "2023-02-10T14:55:29.443Z"
   },
   {
    "duration": 4,
    "start_time": "2023-02-10T14:55:29.452Z"
   },
   {
    "duration": 3,
    "start_time": "2023-02-10T14:55:29.459Z"
   },
   {
    "duration": 78,
    "start_time": "2023-02-10T14:55:29.464Z"
   },
   {
    "duration": 32,
    "start_time": "2023-02-10T14:55:29.545Z"
   },
   {
    "duration": 6,
    "start_time": "2023-02-10T14:55:29.578Z"
   },
   {
    "duration": 36,
    "start_time": "2023-02-10T14:55:29.585Z"
   },
   {
    "duration": 64,
    "start_time": "2023-02-10T14:55:29.623Z"
   },
   {
    "duration": 107,
    "start_time": "2023-02-10T14:55:29.689Z"
   },
   {
    "duration": 3,
    "start_time": "2023-02-10T14:55:29.798Z"
   },
   {
    "duration": 6,
    "start_time": "2023-02-10T14:55:29.802Z"
   },
   {
    "duration": 8,
    "start_time": "2023-02-10T14:55:29.822Z"
   },
   {
    "duration": 4,
    "start_time": "2023-02-10T14:55:29.832Z"
   },
   {
    "duration": 11,
    "start_time": "2023-02-10T14:55:29.838Z"
   },
   {
    "duration": 54,
    "start_time": "2023-02-10T14:55:29.851Z"
   },
   {
    "duration": 16,
    "start_time": "2023-02-10T14:55:29.907Z"
   },
   {
    "duration": 6,
    "start_time": "2023-02-10T14:55:29.924Z"
   },
   {
    "duration": 11,
    "start_time": "2023-02-10T14:55:29.932Z"
   },
   {
    "duration": 11,
    "start_time": "2023-02-10T14:55:29.945Z"
   },
   {
    "duration": 6,
    "start_time": "2023-02-10T14:55:29.957Z"
   },
   {
    "duration": 4,
    "start_time": "2023-02-10T14:55:29.966Z"
   },
   {
    "duration": 25,
    "start_time": "2023-02-10T14:55:29.972Z"
   },
   {
    "duration": 156,
    "start_time": "2023-02-10T14:55:29.999Z"
   },
   {
    "duration": 3,
    "start_time": "2023-02-10T14:55:30.157Z"
   },
   {
    "duration": 18,
    "start_time": "2023-02-10T14:55:30.162Z"
   },
   {
    "duration": 571,
    "start_time": "2023-02-10T14:55:30.182Z"
   },
   {
    "duration": 122,
    "start_time": "2023-02-10T14:55:30.755Z"
   },
   {
    "duration": 0,
    "start_time": "2023-02-10T14:55:30.878Z"
   },
   {
    "duration": 0,
    "start_time": "2023-02-10T14:55:30.880Z"
   },
   {
    "duration": 0,
    "start_time": "2023-02-10T14:55:30.881Z"
   },
   {
    "duration": 0,
    "start_time": "2023-02-10T14:55:30.882Z"
   },
   {
    "duration": 0,
    "start_time": "2023-02-10T14:55:30.884Z"
   },
   {
    "duration": 0,
    "start_time": "2023-02-10T14:55:30.888Z"
   },
   {
    "duration": 0,
    "start_time": "2023-02-10T14:55:30.889Z"
   },
   {
    "duration": 0,
    "start_time": "2023-02-10T14:55:30.890Z"
   },
   {
    "duration": 0,
    "start_time": "2023-02-10T14:55:30.891Z"
   },
   {
    "duration": 0,
    "start_time": "2023-02-10T14:55:30.892Z"
   },
   {
    "duration": 0,
    "start_time": "2023-02-10T14:55:30.893Z"
   },
   {
    "duration": 0,
    "start_time": "2023-02-10T14:55:30.894Z"
   },
   {
    "duration": 0,
    "start_time": "2023-02-10T14:55:30.921Z"
   },
   {
    "duration": 0,
    "start_time": "2023-02-10T14:55:30.922Z"
   },
   {
    "duration": 0,
    "start_time": "2023-02-10T14:55:30.923Z"
   },
   {
    "duration": 0,
    "start_time": "2023-02-10T14:55:30.925Z"
   },
   {
    "duration": 0,
    "start_time": "2023-02-10T14:55:30.926Z"
   },
   {
    "duration": 0,
    "start_time": "2023-02-10T14:55:30.927Z"
   },
   {
    "duration": 0,
    "start_time": "2023-02-10T14:55:30.929Z"
   },
   {
    "duration": 0,
    "start_time": "2023-02-10T14:55:30.930Z"
   },
   {
    "duration": 0,
    "start_time": "2023-02-10T14:55:30.931Z"
   },
   {
    "duration": 0,
    "start_time": "2023-02-10T14:55:30.932Z"
   },
   {
    "duration": 0,
    "start_time": "2023-02-10T14:55:30.934Z"
   },
   {
    "duration": 0,
    "start_time": "2023-02-10T14:55:30.935Z"
   },
   {
    "duration": 22,
    "start_time": "2023-02-10T15:16:13.139Z"
   },
   {
    "duration": 5,
    "start_time": "2023-02-10T15:20:22.020Z"
   },
   {
    "duration": 4,
    "start_time": "2023-02-10T15:21:24.099Z"
   },
   {
    "duration": 16,
    "start_time": "2023-02-10T15:22:34.006Z"
   },
   {
    "duration": 10,
    "start_time": "2023-02-10T16:07:06.600Z"
   },
   {
    "duration": 3,
    "start_time": "2023-02-10T16:07:07.695Z"
   },
   {
    "duration": 197,
    "start_time": "2023-02-10T16:07:10.927Z"
   },
   {
    "duration": 4,
    "start_time": "2023-02-10T16:09:36.382Z"
   },
   {
    "duration": 1136,
    "start_time": "2023-02-10T16:09:37.232Z"
   },
   {
    "duration": 1198,
    "start_time": "2023-02-10T16:10:22.828Z"
   },
   {
    "duration": 14,
    "start_time": "2023-02-10T16:12:40.729Z"
   },
   {
    "duration": 6,
    "start_time": "2023-02-10T16:13:01.297Z"
   },
   {
    "duration": 75,
    "start_time": "2023-02-10T16:26:40.788Z"
   },
   {
    "duration": 96,
    "start_time": "2023-02-10T16:28:20.852Z"
   },
   {
    "duration": 77968,
    "start_time": "2023-02-10T16:32:04.325Z"
   },
   {
    "duration": 68,
    "start_time": "2023-02-10T16:46:56.459Z"
   },
   {
    "duration": 19993,
    "start_time": "2023-02-10T16:51:16.464Z"
   },
   {
    "duration": 5523,
    "start_time": "2023-02-10T16:55:09.690Z"
   },
   {
    "duration": 7476,
    "start_time": "2023-02-10T16:55:41.656Z"
   },
   {
    "duration": 7738,
    "start_time": "2023-02-10T16:56:03.468Z"
   },
   {
    "duration": 7992,
    "start_time": "2023-02-10T16:57:43.760Z"
   },
   {
    "duration": 275,
    "start_time": "2023-02-10T17:00:18.210Z"
   },
   {
    "duration": 342,
    "start_time": "2023-02-10T17:00:59.942Z"
   },
   {
    "duration": 75,
    "start_time": "2023-02-10T17:04:22.824Z"
   },
   {
    "duration": 278,
    "start_time": "2023-02-10T17:04:32.099Z"
   },
   {
    "duration": 98,
    "start_time": "2023-02-10T17:06:22.628Z"
   },
   {
    "duration": 226955,
    "start_time": "2023-02-10T17:09:42.642Z"
   },
   {
    "duration": 178,
    "start_time": "2023-02-10T17:18:20.657Z"
   },
   {
    "duration": 228,
    "start_time": "2023-02-10T17:18:49.011Z"
   },
   {
    "duration": 308,
    "start_time": "2023-02-10T17:20:14.410Z"
   },
   {
    "duration": 5,
    "start_time": "2023-02-10T17:22:12.573Z"
   },
   {
    "duration": 186,
    "start_time": "2023-02-10T17:22:31.348Z"
   },
   {
    "duration": 149,
    "start_time": "2023-02-10T17:23:00.547Z"
   },
   {
    "duration": 14,
    "start_time": "2023-02-10T17:24:41.842Z"
   },
   {
    "duration": 342,
    "start_time": "2023-02-10T17:25:24.309Z"
   },
   {
    "duration": 380,
    "start_time": "2023-02-10T17:26:04.612Z"
   },
   {
    "duration": 19,
    "start_time": "2023-02-10T17:29:24.854Z"
   },
   {
    "duration": 181245,
    "start_time": "2023-02-10T17:30:52.719Z"
   },
   {
    "duration": 290901,
    "start_time": "2023-02-10T17:34:27.948Z"
   },
   {
    "duration": 101242,
    "start_time": "2023-02-10T17:43:54.785Z"
   },
   {
    "duration": 897,
    "start_time": "2023-02-10T17:48:01.543Z"
   },
   {
    "duration": 2159,
    "start_time": "2023-02-10T17:48:14.264Z"
   },
   {
    "duration": 1969,
    "start_time": "2023-02-10T17:48:53.960Z"
   },
   {
    "duration": 2149,
    "start_time": "2023-02-10T17:49:16.472Z"
   },
   {
    "duration": 27,
    "start_time": "2023-02-10T17:52:49.836Z"
   },
   {
    "duration": 5,
    "start_time": "2023-02-10T17:52:54.980Z"
   },
   {
    "duration": 34,
    "start_time": "2023-02-10T17:52:55.707Z"
   },
   {
    "duration": 5,
    "start_time": "2023-02-10T17:54:03.314Z"
   },
   {
    "duration": 26,
    "start_time": "2023-02-10T17:54:04.155Z"
   },
   {
    "duration": 259,
    "start_time": "2023-02-10T17:54:08.219Z"
   },
   {
    "duration": 241,
    "start_time": "2023-02-10T17:54:37.724Z"
   },
   {
    "duration": 302,
    "start_time": "2023-02-10T17:55:06.046Z"
   },
   {
    "duration": 293,
    "start_time": "2023-02-10T17:55:42.884Z"
   },
   {
    "duration": 21619,
    "start_time": "2023-02-10T17:57:40.884Z"
   },
   {
    "duration": 21607,
    "start_time": "2023-02-10T17:58:17.770Z"
   },
   {
    "duration": 5,
    "start_time": "2023-02-10T18:00:07.185Z"
   },
   {
    "duration": 5,
    "start_time": "2023-02-10T18:01:09.184Z"
   },
   {
    "duration": 11,
    "start_time": "2023-02-10T18:02:54.278Z"
   },
   {
    "duration": 573,
    "start_time": "2023-02-10T18:03:48.549Z"
   },
   {
    "duration": 591,
    "start_time": "2023-02-10T18:04:55.846Z"
   },
   {
    "duration": 89,
    "start_time": "2023-02-10T18:06:39.600Z"
   },
   {
    "duration": 539,
    "start_time": "2023-02-10T18:06:58.662Z"
   },
   {
    "duration": 6,
    "start_time": "2023-02-10T18:12:34.989Z"
   },
   {
    "duration": 24,
    "start_time": "2023-02-10T18:12:49.309Z"
   },
   {
    "duration": 4,
    "start_time": "2023-02-10T18:18:24.610Z"
   },
   {
    "duration": 3,
    "start_time": "2023-02-10T18:20:17.390Z"
   },
   {
    "duration": 14,
    "start_time": "2023-02-10T18:21:14.713Z"
   },
   {
    "duration": 27,
    "start_time": "2023-02-10T18:21:36.040Z"
   },
   {
    "duration": 158,
    "start_time": "2023-02-10T18:23:05.073Z"
   },
   {
    "duration": 42,
    "start_time": "2023-02-10T18:23:32.777Z"
   },
   {
    "duration": 273,
    "start_time": "2023-02-10T18:24:25.004Z"
   },
   {
    "duration": 595,
    "start_time": "2023-02-10T18:24:54.326Z"
   },
   {
    "duration": 450,
    "start_time": "2023-02-10T18:25:26.500Z"
   },
   {
    "duration": 747,
    "start_time": "2023-02-10T18:27:14.536Z"
   },
   {
    "duration": 5,
    "start_time": "2023-02-10T18:27:20.063Z"
   },
   {
    "duration": 721,
    "start_time": "2023-02-10T18:27:22.841Z"
   },
   {
    "duration": 560,
    "start_time": "2023-02-10T18:32:42.835Z"
   },
   {
    "duration": 562,
    "start_time": "2023-02-10T18:33:06.048Z"
   },
   {
    "duration": 5,
    "start_time": "2023-02-10T18:33:43.605Z"
   },
   {
    "duration": 669,
    "start_time": "2023-02-10T18:33:44.305Z"
   },
   {
    "duration": 6,
    "start_time": "2023-02-10T18:33:51.816Z"
   },
   {
    "duration": 568,
    "start_time": "2023-02-10T18:33:52.669Z"
   },
   {
    "duration": 1574,
    "start_time": "2023-02-10T18:34:27.996Z"
   },
   {
    "duration": 3,
    "start_time": "2023-02-10T18:34:29.572Z"
   },
   {
    "duration": 265,
    "start_time": "2023-02-10T18:34:29.576Z"
   },
   {
    "duration": 22,
    "start_time": "2023-02-10T18:34:29.843Z"
   },
   {
    "duration": 17,
    "start_time": "2023-02-10T18:34:29.867Z"
   },
   {
    "duration": 11,
    "start_time": "2023-02-10T18:34:29.885Z"
   },
   {
    "duration": 5,
    "start_time": "2023-02-10T18:34:29.898Z"
   },
   {
    "duration": 18,
    "start_time": "2023-02-10T18:34:29.904Z"
   },
   {
    "duration": 4,
    "start_time": "2023-02-10T18:34:29.924Z"
   },
   {
    "duration": 8,
    "start_time": "2023-02-10T18:34:29.939Z"
   },
   {
    "duration": 69,
    "start_time": "2023-02-10T18:34:29.949Z"
   },
   {
    "duration": 39,
    "start_time": "2023-02-10T18:34:30.020Z"
   },
   {
    "duration": 7,
    "start_time": "2023-02-10T18:34:30.060Z"
   },
   {
    "duration": 17,
    "start_time": "2023-02-10T18:34:30.069Z"
   },
   {
    "duration": 114,
    "start_time": "2023-02-10T18:34:30.088Z"
   },
   {
    "duration": 114,
    "start_time": "2023-02-10T18:34:30.204Z"
   },
   {
    "duration": 6,
    "start_time": "2023-02-10T18:34:30.320Z"
   },
   {
    "duration": 30,
    "start_time": "2023-02-10T18:34:30.328Z"
   },
   {
    "duration": 19,
    "start_time": "2023-02-10T18:34:30.361Z"
   },
   {
    "duration": 23,
    "start_time": "2023-02-10T18:34:30.381Z"
   },
   {
    "duration": 39,
    "start_time": "2023-02-10T18:34:30.406Z"
   },
   {
    "duration": 51,
    "start_time": "2023-02-10T18:34:30.447Z"
   },
   {
    "duration": 9,
    "start_time": "2023-02-10T18:34:30.500Z"
   },
   {
    "duration": 33,
    "start_time": "2023-02-10T18:34:30.511Z"
   },
   {
    "duration": 16,
    "start_time": "2023-02-10T18:34:30.546Z"
   },
   {
    "duration": 19,
    "start_time": "2023-02-10T18:34:30.563Z"
   },
   {
    "duration": 20,
    "start_time": "2023-02-10T18:34:30.583Z"
   },
   {
    "duration": 28,
    "start_time": "2023-02-10T18:34:30.608Z"
   },
   {
    "duration": 66,
    "start_time": "2023-02-10T18:34:30.638Z"
   },
   {
    "duration": 185,
    "start_time": "2023-02-10T18:34:30.706Z"
   },
   {
    "duration": 4,
    "start_time": "2023-02-10T18:34:30.894Z"
   },
   {
    "duration": 40,
    "start_time": "2023-02-10T18:34:30.900Z"
   },
   {
    "duration": 591,
    "start_time": "2023-02-10T18:34:30.942Z"
   },
   {
    "duration": 11,
    "start_time": "2023-02-10T18:34:31.540Z"
   },
   {
    "duration": 10,
    "start_time": "2023-02-10T18:34:31.553Z"
   },
   {
    "duration": 1205,
    "start_time": "2023-02-10T18:34:31.564Z"
   },
   {
    "duration": 6,
    "start_time": "2023-02-10T18:34:32.771Z"
   },
   {
    "duration": 20557,
    "start_time": "2023-02-10T18:34:32.778Z"
   },
   {
    "duration": 8306,
    "start_time": "2023-02-10T18:34:53.337Z"
   },
   {
    "duration": 8472,
    "start_time": "2023-02-10T18:35:01.645Z"
   },
   {
    "duration": 279,
    "start_time": "2023-02-10T18:35:10.120Z"
   },
   {
    "duration": 288,
    "start_time": "2023-02-10T18:35:10.401Z"
   },
   {
    "duration": 21301,
    "start_time": "2023-02-10T18:35:10.691Z"
   },
   {
    "duration": 0,
    "start_time": "2023-02-10T18:35:31.994Z"
   },
   {
    "duration": 0,
    "start_time": "2023-02-10T18:35:31.995Z"
   },
   {
    "duration": 0,
    "start_time": "2023-02-10T18:35:31.996Z"
   },
   {
    "duration": 0,
    "start_time": "2023-02-10T18:35:31.997Z"
   },
   {
    "duration": 0,
    "start_time": "2023-02-10T18:35:31.999Z"
   },
   {
    "duration": 0,
    "start_time": "2023-02-10T18:35:31.999Z"
   },
   {
    "duration": 0,
    "start_time": "2023-02-10T18:35:32.001Z"
   },
   {
    "duration": 0,
    "start_time": "2023-02-10T18:35:32.002Z"
   },
   {
    "duration": 0,
    "start_time": "2023-02-10T18:35:32.022Z"
   },
   {
    "duration": 0,
    "start_time": "2023-02-10T18:35:32.023Z"
   },
   {
    "duration": 0,
    "start_time": "2023-02-10T18:35:32.024Z"
   },
   {
    "duration": 0,
    "start_time": "2023-02-10T18:35:32.024Z"
   },
   {
    "duration": 0,
    "start_time": "2023-02-10T18:35:32.027Z"
   },
   {
    "duration": 0,
    "start_time": "2023-02-10T18:35:32.028Z"
   },
   {
    "duration": 0,
    "start_time": "2023-02-10T18:35:32.030Z"
   },
   {
    "duration": 0,
    "start_time": "2023-02-10T18:35:32.031Z"
   },
   {
    "duration": 0,
    "start_time": "2023-02-10T18:35:32.032Z"
   },
   {
    "duration": 0,
    "start_time": "2023-02-10T18:35:32.033Z"
   },
   {
    "duration": 0,
    "start_time": "2023-02-10T18:35:32.034Z"
   },
   {
    "duration": 0,
    "start_time": "2023-02-10T18:35:32.037Z"
   },
   {
    "duration": 0,
    "start_time": "2023-02-10T18:35:32.038Z"
   },
   {
    "duration": 0,
    "start_time": "2023-02-10T18:35:32.040Z"
   },
   {
    "duration": 0,
    "start_time": "2023-02-10T18:35:32.040Z"
   },
   {
    "duration": 218,
    "start_time": "2023-02-10T18:36:17.338Z"
   },
   {
    "duration": 249,
    "start_time": "2023-02-10T18:36:20.259Z"
   },
   {
    "duration": 4,
    "start_time": "2023-02-10T18:36:32.638Z"
   },
   {
    "duration": 5,
    "start_time": "2023-02-10T18:36:34.077Z"
   },
   {
    "duration": 2055,
    "start_time": "2023-02-10T18:36:36.174Z"
   },
   {
    "duration": 2303,
    "start_time": "2023-02-10T18:36:38.232Z"
   },
   {
    "duration": 4,
    "start_time": "2023-02-10T18:36:43.873Z"
   },
   {
    "duration": 33,
    "start_time": "2023-02-10T18:36:44.648Z"
   },
   {
    "duration": 35,
    "start_time": "2023-02-10T18:36:45.405Z"
   },
   {
    "duration": 36,
    "start_time": "2023-02-10T18:36:46.567Z"
   },
   {
    "duration": 535,
    "start_time": "2023-02-10T18:36:50.413Z"
   },
   {
    "duration": 6,
    "start_time": "2023-02-10T18:36:55.155Z"
   },
   {
    "duration": 575,
    "start_time": "2023-02-10T18:36:56.634Z"
   },
   {
    "duration": 574,
    "start_time": "2023-02-10T18:37:45.067Z"
   },
   {
    "duration": 6,
    "start_time": "2023-02-10T18:38:02.307Z"
   },
   {
    "duration": 575,
    "start_time": "2023-02-10T18:38:23.117Z"
   },
   {
    "duration": 6,
    "start_time": "2023-02-10T18:41:02.069Z"
   },
   {
    "duration": 551,
    "start_time": "2023-02-10T18:41:02.766Z"
   },
   {
    "duration": 5,
    "start_time": "2023-02-10T18:44:03.535Z"
   },
   {
    "duration": 549,
    "start_time": "2023-02-10T18:44:06.035Z"
   },
   {
    "duration": 6,
    "start_time": "2023-02-10T18:44:08.798Z"
   },
   {
    "duration": 565,
    "start_time": "2023-02-10T18:44:09.508Z"
   },
   {
    "duration": 1717,
    "start_time": "2023-02-10T18:47:23.671Z"
   },
   {
    "duration": 4,
    "start_time": "2023-02-10T18:47:25.390Z"
   },
   {
    "duration": 321,
    "start_time": "2023-02-10T18:47:25.395Z"
   },
   {
    "duration": 26,
    "start_time": "2023-02-10T18:47:25.718Z"
   },
   {
    "duration": 32,
    "start_time": "2023-02-10T18:47:25.746Z"
   },
   {
    "duration": 6,
    "start_time": "2023-02-10T18:47:25.780Z"
   },
   {
    "duration": 18,
    "start_time": "2023-02-10T18:47:25.788Z"
   },
   {
    "duration": 41,
    "start_time": "2023-02-10T18:47:25.808Z"
   },
   {
    "duration": 5,
    "start_time": "2023-02-10T18:47:25.851Z"
   },
   {
    "duration": 8,
    "start_time": "2023-02-10T18:47:25.858Z"
   },
   {
    "duration": 83,
    "start_time": "2023-02-10T18:47:25.868Z"
   },
   {
    "duration": 33,
    "start_time": "2023-02-10T18:47:25.952Z"
   },
   {
    "duration": 5,
    "start_time": "2023-02-10T18:47:25.987Z"
   },
   {
    "duration": 31,
    "start_time": "2023-02-10T18:47:25.993Z"
   },
   {
    "duration": 112,
    "start_time": "2023-02-10T18:47:26.032Z"
   },
   {
    "duration": 118,
    "start_time": "2023-02-10T18:47:26.147Z"
   },
   {
    "duration": 2,
    "start_time": "2023-02-10T18:47:26.267Z"
   },
   {
    "duration": 8,
    "start_time": "2023-02-10T18:47:26.271Z"
   },
   {
    "duration": 7,
    "start_time": "2023-02-10T18:47:26.281Z"
   },
   {
    "duration": 7,
    "start_time": "2023-02-10T18:47:26.290Z"
   },
   {
    "duration": 46,
    "start_time": "2023-02-10T18:47:26.299Z"
   },
   {
    "duration": 35,
    "start_time": "2023-02-10T18:47:26.348Z"
   },
   {
    "duration": 6,
    "start_time": "2023-02-10T18:47:26.384Z"
   },
   {
    "duration": 5,
    "start_time": "2023-02-10T18:47:26.392Z"
   },
   {
    "duration": 8,
    "start_time": "2023-02-10T18:47:26.399Z"
   },
   {
    "duration": 8,
    "start_time": "2023-02-10T18:47:26.408Z"
   },
   {
    "duration": 22,
    "start_time": "2023-02-10T18:47:26.417Z"
   },
   {
    "duration": 3,
    "start_time": "2023-02-10T18:47:26.444Z"
   },
   {
    "duration": 19,
    "start_time": "2023-02-10T18:47:26.449Z"
   },
   {
    "duration": 159,
    "start_time": "2023-02-10T18:47:26.470Z"
   },
   {
    "duration": 8,
    "start_time": "2023-02-10T18:47:26.633Z"
   },
   {
    "duration": 14,
    "start_time": "2023-02-10T18:47:26.643Z"
   },
   {
    "duration": 562,
    "start_time": "2023-02-10T18:47:26.659Z"
   },
   {
    "duration": 15,
    "start_time": "2023-02-10T18:47:27.222Z"
   },
   {
    "duration": 17,
    "start_time": "2023-02-10T18:47:27.241Z"
   },
   {
    "duration": 1239,
    "start_time": "2023-02-10T18:47:27.260Z"
   },
   {
    "duration": 5,
    "start_time": "2023-02-10T18:47:28.501Z"
   },
   {
    "duration": 20632,
    "start_time": "2023-02-10T18:47:28.508Z"
   },
   {
    "duration": 8266,
    "start_time": "2023-02-10T18:47:49.141Z"
   },
   {
    "duration": 8484,
    "start_time": "2023-02-10T18:47:57.410Z"
   },
   {
    "duration": 272,
    "start_time": "2023-02-10T18:48:05.896Z"
   },
   {
    "duration": 316,
    "start_time": "2023-02-10T18:48:06.169Z"
   },
   {
    "duration": 4,
    "start_time": "2023-02-10T18:48:06.487Z"
   },
   {
    "duration": 11,
    "start_time": "2023-02-10T18:48:06.493Z"
   },
   {
    "duration": 23,
    "start_time": "2023-02-10T18:48:06.506Z"
   },
   {
    "duration": 218,
    "start_time": "2023-02-10T18:48:06.537Z"
   },
   {
    "duration": 244,
    "start_time": "2023-02-10T18:48:06.756Z"
   },
   {
    "duration": 4,
    "start_time": "2023-02-10T18:48:07.002Z"
   },
   {
    "duration": 14,
    "start_time": "2023-02-10T18:48:07.022Z"
   },
   {
    "duration": 1891,
    "start_time": "2023-02-10T18:48:07.038Z"
   },
   {
    "duration": 2295,
    "start_time": "2023-02-10T18:48:08.931Z"
   },
   {
    "duration": 9,
    "start_time": "2023-02-10T18:48:11.228Z"
   },
   {
    "duration": 123,
    "start_time": "2023-02-10T18:48:11.240Z"
   },
   {
    "duration": 63,
    "start_time": "2023-02-10T18:48:11.365Z"
   },
   {
    "duration": 116,
    "start_time": "2023-02-10T18:48:11.430Z"
   },
   {
    "duration": 548,
    "start_time": "2023-02-10T18:48:11.548Z"
   },
   {
    "duration": 5,
    "start_time": "2023-02-10T18:48:12.098Z"
   },
   {
    "duration": 566,
    "start_time": "2023-02-10T18:48:12.104Z"
   },
   {
    "duration": 5,
    "start_time": "2023-02-10T18:48:12.671Z"
   },
   {
    "duration": 569,
    "start_time": "2023-02-10T18:48:12.677Z"
   },
   {
    "duration": 86,
    "start_time": "2023-02-10T18:48:13.248Z"
   },
   {
    "duration": 220,
    "start_time": "2023-02-10T18:48:13.338Z"
   },
   {
    "duration": 7584,
    "start_time": "2023-02-10T18:48:13.560Z"
   },
   {
    "duration": 54,
    "start_time": "2023-02-10T18:48:21.145Z"
   },
   {
    "duration": 74,
    "start_time": "2023-02-10T18:48:21.201Z"
   },
   {
    "duration": 9,
    "start_time": "2023-02-10T18:48:21.276Z"
   },
   {
    "duration": 1634,
    "start_time": "2023-02-11T18:26:17.586Z"
   },
   {
    "duration": 4,
    "start_time": "2023-02-11T18:26:19.222Z"
   },
   {
    "duration": 894,
    "start_time": "2023-02-11T18:26:19.227Z"
   },
   {
    "duration": 21,
    "start_time": "2023-02-11T18:26:20.123Z"
   },
   {
    "duration": 17,
    "start_time": "2023-02-11T18:26:20.146Z"
   },
   {
    "duration": 22,
    "start_time": "2023-02-11T18:26:20.165Z"
   },
   {
    "duration": 19,
    "start_time": "2023-02-11T18:26:20.189Z"
   },
   {
    "duration": 12,
    "start_time": "2023-02-11T18:26:20.209Z"
   },
   {
    "duration": 18,
    "start_time": "2023-02-11T18:26:20.222Z"
   },
   {
    "duration": 11,
    "start_time": "2023-02-11T18:26:20.243Z"
   },
   {
    "duration": 84,
    "start_time": "2023-02-11T18:26:20.256Z"
   },
   {
    "duration": 37,
    "start_time": "2023-02-11T18:26:20.343Z"
   },
   {
    "duration": 6,
    "start_time": "2023-02-11T18:26:20.383Z"
   },
   {
    "duration": 22,
    "start_time": "2023-02-11T18:26:20.391Z"
   },
   {
    "duration": 74,
    "start_time": "2023-02-11T18:26:20.416Z"
   },
   {
    "duration": 106,
    "start_time": "2023-02-11T18:26:20.491Z"
   },
   {
    "duration": 3,
    "start_time": "2023-02-11T18:26:20.598Z"
   },
   {
    "duration": 14,
    "start_time": "2023-02-11T18:26:20.602Z"
   },
   {
    "duration": 9,
    "start_time": "2023-02-11T18:26:20.618Z"
   },
   {
    "duration": 10,
    "start_time": "2023-02-11T18:26:20.629Z"
   },
   {
    "duration": 10,
    "start_time": "2023-02-11T18:26:20.641Z"
   },
   {
    "duration": 34,
    "start_time": "2023-02-11T18:26:20.653Z"
   },
   {
    "duration": 6,
    "start_time": "2023-02-11T18:26:20.689Z"
   },
   {
    "duration": 14,
    "start_time": "2023-02-11T18:26:20.697Z"
   },
   {
    "duration": 14,
    "start_time": "2023-02-11T18:26:20.712Z"
   },
   {
    "duration": 8,
    "start_time": "2023-02-11T18:26:20.727Z"
   },
   {
    "duration": 9,
    "start_time": "2023-02-11T18:26:20.737Z"
   },
   {
    "duration": 7,
    "start_time": "2023-02-11T18:26:20.750Z"
   },
   {
    "duration": 22,
    "start_time": "2023-02-11T18:26:20.759Z"
   },
   {
    "duration": 152,
    "start_time": "2023-02-11T18:26:20.783Z"
   },
   {
    "duration": 4,
    "start_time": "2023-02-11T18:26:20.937Z"
   },
   {
    "duration": 19,
    "start_time": "2023-02-11T18:26:20.942Z"
   },
   {
    "duration": 518,
    "start_time": "2023-02-11T18:26:20.963Z"
   },
   {
    "duration": 9,
    "start_time": "2023-02-11T18:26:21.482Z"
   },
   {
    "duration": 11,
    "start_time": "2023-02-11T18:26:21.493Z"
   },
   {
    "duration": 1027,
    "start_time": "2023-02-11T18:26:21.506Z"
   },
   {
    "duration": 6,
    "start_time": "2023-02-11T18:26:22.535Z"
   },
   {
    "duration": 18340,
    "start_time": "2023-02-11T18:26:22.542Z"
   },
   {
    "duration": 7344,
    "start_time": "2023-02-11T18:26:40.883Z"
   },
   {
    "duration": 1219,
    "start_time": "2023-02-11T18:26:48.229Z"
   },
   {
    "duration": 0,
    "start_time": "2023-02-11T18:26:49.449Z"
   },
   {
    "duration": 0,
    "start_time": "2023-02-11T18:26:49.450Z"
   },
   {
    "duration": 0,
    "start_time": "2023-02-11T18:26:49.451Z"
   },
   {
    "duration": 0,
    "start_time": "2023-02-11T18:26:49.452Z"
   },
   {
    "duration": 0,
    "start_time": "2023-02-11T18:26:49.453Z"
   },
   {
    "duration": 0,
    "start_time": "2023-02-11T18:26:49.455Z"
   },
   {
    "duration": 0,
    "start_time": "2023-02-11T18:26:49.455Z"
   },
   {
    "duration": 0,
    "start_time": "2023-02-11T18:26:49.456Z"
   },
   {
    "duration": 0,
    "start_time": "2023-02-11T18:26:49.457Z"
   },
   {
    "duration": 0,
    "start_time": "2023-02-11T18:26:49.458Z"
   },
   {
    "duration": 0,
    "start_time": "2023-02-11T18:26:49.459Z"
   },
   {
    "duration": 0,
    "start_time": "2023-02-11T18:26:49.460Z"
   },
   {
    "duration": 0,
    "start_time": "2023-02-11T18:26:49.462Z"
   },
   {
    "duration": 0,
    "start_time": "2023-02-11T18:26:49.464Z"
   },
   {
    "duration": 0,
    "start_time": "2023-02-11T18:26:49.465Z"
   },
   {
    "duration": 0,
    "start_time": "2023-02-11T18:26:49.466Z"
   },
   {
    "duration": 0,
    "start_time": "2023-02-11T18:26:49.468Z"
   },
   {
    "duration": 0,
    "start_time": "2023-02-11T18:26:49.470Z"
   },
   {
    "duration": 0,
    "start_time": "2023-02-11T18:26:49.471Z"
   },
   {
    "duration": 0,
    "start_time": "2023-02-11T18:26:49.473Z"
   },
   {
    "duration": 0,
    "start_time": "2023-02-11T18:26:49.474Z"
   },
   {
    "duration": 0,
    "start_time": "2023-02-11T18:26:49.475Z"
   },
   {
    "duration": 0,
    "start_time": "2023-02-11T18:26:49.477Z"
   },
   {
    "duration": 0,
    "start_time": "2023-02-11T18:26:49.479Z"
   },
   {
    "duration": 0,
    "start_time": "2023-02-11T18:26:49.527Z"
   },
   {
    "duration": 0,
    "start_time": "2023-02-11T18:26:49.529Z"
   },
   {
    "duration": 261,
    "start_time": "2023-02-11T18:31:02.427Z"
   },
   {
    "duration": 2241,
    "start_time": "2023-02-11T18:31:08.695Z"
   },
   {
    "duration": 4,
    "start_time": "2023-02-11T18:31:13.163Z"
   },
   {
    "duration": 22,
    "start_time": "2023-02-11T18:31:14.960Z"
   },
   {
    "duration": 13,
    "start_time": "2023-02-11T18:31:17.891Z"
   },
   {
    "duration": 27,
    "start_time": "2023-02-11T18:31:21.468Z"
   },
   {
    "duration": 25,
    "start_time": "2023-02-11T18:31:22.357Z"
   },
   {
    "duration": 5,
    "start_time": "2023-02-11T18:31:34.675Z"
   },
   {
    "duration": 566,
    "start_time": "2023-02-11T18:31:36.400Z"
   },
   {
    "duration": 4,
    "start_time": "2023-02-11T18:31:52.616Z"
   },
   {
    "duration": 561,
    "start_time": "2023-02-11T18:31:53.342Z"
   },
   {
    "duration": 1473,
    "start_time": "2023-02-11T18:41:29.923Z"
   },
   {
    "duration": 3,
    "start_time": "2023-02-11T18:41:31.397Z"
   },
   {
    "duration": 247,
    "start_time": "2023-02-11T18:41:31.401Z"
   },
   {
    "duration": 23,
    "start_time": "2023-02-11T18:41:31.650Z"
   },
   {
    "duration": 20,
    "start_time": "2023-02-11T18:41:31.675Z"
   },
   {
    "duration": 25,
    "start_time": "2023-02-11T18:41:31.696Z"
   },
   {
    "duration": 7,
    "start_time": "2023-02-11T18:41:31.722Z"
   },
   {
    "duration": 6,
    "start_time": "2023-02-11T18:41:31.731Z"
   },
   {
    "duration": 23,
    "start_time": "2023-02-11T18:41:31.739Z"
   },
   {
    "duration": 28,
    "start_time": "2023-02-11T18:41:31.764Z"
   },
   {
    "duration": 69,
    "start_time": "2023-02-11T18:41:31.794Z"
   },
   {
    "duration": 34,
    "start_time": "2023-02-11T18:41:31.864Z"
   },
   {
    "duration": 6,
    "start_time": "2023-02-11T18:41:31.900Z"
   },
   {
    "duration": 24,
    "start_time": "2023-02-11T18:41:31.908Z"
   },
   {
    "duration": 57,
    "start_time": "2023-02-11T18:41:31.934Z"
   },
   {
    "duration": 115,
    "start_time": "2023-02-11T18:41:31.992Z"
   },
   {
    "duration": 2,
    "start_time": "2023-02-11T18:41:32.109Z"
   },
   {
    "duration": 5,
    "start_time": "2023-02-11T18:41:32.113Z"
   },
   {
    "duration": 3,
    "start_time": "2023-02-11T18:41:32.127Z"
   },
   {
    "duration": 5,
    "start_time": "2023-02-11T18:41:32.131Z"
   },
   {
    "duration": 4,
    "start_time": "2023-02-11T18:41:32.138Z"
   },
   {
    "duration": 27,
    "start_time": "2023-02-11T18:41:32.144Z"
   },
   {
    "duration": 6,
    "start_time": "2023-02-11T18:41:32.173Z"
   },
   {
    "duration": 4,
    "start_time": "2023-02-11T18:41:32.180Z"
   },
   {
    "duration": 6,
    "start_time": "2023-02-11T18:41:32.186Z"
   },
   {
    "duration": 4,
    "start_time": "2023-02-11T18:41:32.193Z"
   },
   {
    "duration": 28,
    "start_time": "2023-02-11T18:41:32.199Z"
   },
   {
    "duration": 2,
    "start_time": "2023-02-11T18:41:32.233Z"
   },
   {
    "duration": 18,
    "start_time": "2023-02-11T18:41:32.236Z"
   },
   {
    "duration": 136,
    "start_time": "2023-02-11T18:41:32.256Z"
   },
   {
    "duration": 3,
    "start_time": "2023-02-11T18:41:32.394Z"
   },
   {
    "duration": 15,
    "start_time": "2023-02-11T18:41:32.398Z"
   },
   {
    "duration": 493,
    "start_time": "2023-02-11T18:41:32.414Z"
   },
   {
    "duration": 9,
    "start_time": "2023-02-11T18:41:32.908Z"
   },
   {
    "duration": 11,
    "start_time": "2023-02-11T18:41:32.926Z"
   },
   {
    "duration": 1026,
    "start_time": "2023-02-11T18:41:32.939Z"
   },
   {
    "duration": 5,
    "start_time": "2023-02-11T18:41:33.967Z"
   },
   {
    "duration": 18,
    "start_time": "2023-02-11T18:41:33.973Z"
   },
   {
    "duration": 59,
    "start_time": "2023-02-11T18:41:33.993Z"
   },
   {
    "duration": 34,
    "start_time": "2023-02-11T18:41:34.054Z"
   },
   {
    "duration": 15,
    "start_time": "2023-02-11T18:41:34.090Z"
   },
   {
    "duration": 274,
    "start_time": "2023-02-11T18:41:34.107Z"
   },
   {
    "duration": 4,
    "start_time": "2023-02-11T18:41:34.382Z"
   },
   {
    "duration": 38,
    "start_time": "2023-02-11T18:41:34.387Z"
   },
   {
    "duration": 35,
    "start_time": "2023-02-11T18:41:34.427Z"
   },
   {
    "duration": 15,
    "start_time": "2023-02-11T18:41:34.464Z"
   },
   {
    "duration": 13,
    "start_time": "2023-02-11T18:41:34.480Z"
   },
   {
    "duration": 27,
    "start_time": "2023-02-11T18:41:34.494Z"
   },
   {
    "duration": 18,
    "start_time": "2023-02-11T18:41:34.523Z"
   },
   {
    "duration": 10,
    "start_time": "2023-02-11T18:41:34.543Z"
   },
   {
    "duration": 2078,
    "start_time": "2023-02-11T18:41:34.554Z"
   },
   {
    "duration": 5,
    "start_time": "2023-02-11T18:41:36.635Z"
   },
   {
    "duration": 113,
    "start_time": "2023-02-11T18:41:36.641Z"
   },
   {
    "duration": 73,
    "start_time": "2023-02-11T18:41:36.756Z"
   },
   {
    "duration": 120,
    "start_time": "2023-02-11T18:41:36.832Z"
   },
   {
    "duration": 4,
    "start_time": "2023-02-11T18:41:36.954Z"
   },
   {
    "duration": 7,
    "start_time": "2023-02-11T18:41:36.960Z"
   },
   {
    "duration": 579,
    "start_time": "2023-02-11T18:41:36.969Z"
   },
   {
    "duration": 4,
    "start_time": "2023-02-11T18:41:37.550Z"
   },
   {
    "duration": 545,
    "start_time": "2023-02-11T18:41:37.556Z"
   },
   {
    "duration": 69,
    "start_time": "2023-02-11T18:41:38.102Z"
   },
   {
    "duration": 165,
    "start_time": "2023-02-11T18:41:38.173Z"
   },
   {
    "duration": 6677,
    "start_time": "2023-02-11T18:41:38.339Z"
   },
   {
    "duration": 3,
    "start_time": "2023-02-11T18:41:45.018Z"
   },
   {
    "duration": 17,
    "start_time": "2023-02-11T18:41:45.027Z"
   },
   {
    "duration": 10,
    "start_time": "2023-02-11T18:41:45.045Z"
   }
  ],
  "kernelspec": {
   "display_name": "Python 3",
   "language": "python",
   "name": "python3"
  },
  "language_info": {
   "codemirror_mode": {
    "name": "ipython",
    "version": 3
   },
   "file_extension": ".py",
   "mimetype": "text/x-python",
   "name": "python",
   "nbconvert_exporter": "python",
   "pygments_lexer": "ipython3",
   "version": "3.8.8"
  },
  "toc": {
   "base_numbering": 1,
   "nav_menu": {},
   "number_sections": true,
   "sideBar": true,
   "skip_h1_title": true,
   "title_cell": "Table of Contents",
   "title_sidebar": "Contents",
   "toc_cell": false,
   "toc_position": {},
   "toc_section_display": true,
   "toc_window_display": false
  }
 },
 "nbformat": 4,
 "nbformat_minor": 2
}
